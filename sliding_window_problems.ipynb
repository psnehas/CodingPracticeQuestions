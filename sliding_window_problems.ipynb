{
 "metadata": {
  "language_info": {
   "codemirror_mode": {
    "name": "ipython",
    "version": 3
   },
   "file_extension": ".py",
   "mimetype": "text/x-python",
   "name": "python",
   "nbconvert_exporter": "python",
   "pygments_lexer": "ipython3",
   "version": "3.7.6-final"
  },
  "orig_nbformat": 2,
  "kernelspec": {
   "name": "python_defaultSpec_1597714222761",
   "display_name": "Python 3.7.6 64-bit"
  }
 },
 "nbformat": 4,
 "nbformat_minor": 2,
 "cells": [
  {
   "cell_type": "code",
   "execution_count": 5,
   "metadata": {
    "tags": []
   },
   "outputs": [
    {
     "output_type": "stream",
     "name": "stdout",
     "text": "[3, 2]\n"
    }
   ],
   "source": [
    "\n",
    "'''\n",
    "Given an array as input, extract the pair of contiguous integers that have the highest sum of all pairs. Return the pair as an array.\n",
    "Input: [5, 2, 4, 6, 3, 1]\n",
    "Output: (4,6)\n",
    "'''\n",
    "def contiguous_pair(arr):\n",
    "  max_sum = 0\n",
    "  temp = []\n",
    "  for i in range(0,len(arr)-1):\n",
    "    current_sum = 0\n",
    "    \n",
    "    current_sum+=arr[i]+arr[i+1]\n",
    "    # print(\"current_sum\",current_sum)\n",
    "    if current_sum>max_sum:\n",
    "      max_sum = current_sum\n",
    "    #   print(\"max_sum\",max_sum)\n",
    "      temp = [arr[i],arr[i+1]]\n",
    "    #   print(\"temp\", temp)\n",
    "  return temp\n",
    "print(contiguous_pair([1,3,2,2]))\n"
   ]
  },
  {
   "cell_type": "code",
   "execution_count": 12,
   "metadata": {
    "tags": []
   },
   "outputs": [
    {
     "output_type": "stream",
     "name": "stdout",
     "text": "3\n"
    }
   ],
   "source": [
    "'''\n",
    "Given a string, find the length of the longest substring without repeating characters.\n",
    "\n",
    "Input: \"abcabcbb\"\n",
    "Output: 3 \n",
    "Explanation: The answer is \"abc\", with the length of 3. \n",
    "'''\n",
    "# something wrong in the code\n",
    "def longest_substr_without_rep_char(arr):\n",
    "  left_window = 0\n",
    "  max_length = 0\n",
    "  map = {}\n",
    "  for right_window in range(len(arr)):\n",
    "    if arr[right_window] not in map:\n",
    "      map[arr[right_window]]=0\n",
    "    map[arr[right_window]]+=1\n",
    "    print(\"map before\",map)\n",
    "    if map[arr[right_window]]>1:\n",
    "      map[arr[right_window]]-=1\n",
    "      print(\"map after\",map)\n",
    "      left_window+=1\n",
    "    max_length = max(max_length, right_window - left_window +1)\n",
    "  return max_length\n",
    "\n",
    "# print(longest_substr_without_rep_char(\"abcabcbb\"))\n",
    "# print(longest_substr_without_rep_char(\"pwwkew\"))\n",
    "\n",
    "# this is correct\n",
    "def longest_sub_without_rep_char(arr):\n",
    "    left, right = 0,0\n",
    "    maxlength = -float('inf')\n",
    "    char_set = set()\n",
    "    while right<len(arr):\n",
    "        if arr[right] not in char_set:\n",
    "            char_set.add(arr[right])\n",
    "            right+=1\n",
    "            maxlength = max(maxlength, right-left)\n",
    "        else:\n",
    "            char_set.remove(arr[left])\n",
    "            left+=1\n",
    "    return maxlength\n",
    "\n",
    "print(longest_sub_without_rep_char(\"pwwkew\"))"
   ]
  },
  {
   "cell_type": "code",
   "execution_count": 13,
   "metadata": {
    "tags": []
   },
   "outputs": [
    {
     "output_type": "stream",
     "name": "stdout",
     "text": "700\n"
    }
   ],
   "source": [
    "'''\n",
    "Given an array of integers and a number k, find maximum sum of a subarray of size k.\n",
    "\n",
    "Input  : arr[] = {100, 200, 300, 400}\n",
    "         k = 2\n",
    "Output : 700\n",
    "\n",
    "Input  : arr[] = {1, 4, 2, 10, 23, 3, 1, 0, 20}\n",
    "         k = 4 \n",
    "Output : 39\n",
    "'''\n",
    "def maximum_sum_possible_for_k_consec_int(inp,k):\n",
    "  max_sum = 0\n",
    "  current_sum = 0\n",
    "  for i in range(k):\n",
    "    current_sum+=inp[i]\n",
    "  max_sum=current_sum\n",
    "  for i in range(k,len(inp)):\n",
    "    current_sum+= inp[i] - inp[i-k]\n",
    "  max_sum = max(max_sum,current_sum)\n",
    "  return max_sum\n",
    "\n",
    "print(maximum_sum_possible_for_k_consec_int([100,200,300,400],2))\n"
   ]
  },
  {
   "cell_type": "code",
   "execution_count": 15,
   "metadata": {
    "tags": []
   },
   "outputs": [
    {
     "output_type": "stream",
     "name": "stdout",
     "text": "1\n2\n"
    }
   ],
   "source": [
    "'''\n",
    "smallest subarray with size greater than or equal to given target sum.\n",
    "\n",
    "Given an array of n positive integers and a positive integer s, find the minimal length of a contiguous subarray of which the sum ≥ s. If there isn't one, return 0 instead.\n",
    "Input: s = 7, nums = [2,3,1,2,4,3]\n",
    "Output: 2\n",
    "Explanation: the subarray [4,3] has the minimal length under the problem constraint.\n",
    "'''\n",
    "\n",
    "def smallest_size_sum_ge_targetsum(arr,targetsum):\n",
    "  left, current_sum, minsize, currsize = 0, 0, float('inf'), 0\n",
    "  for right in range(len(arr)):\n",
    "    current_sum+=arr[right]\n",
    "    while current_sum>=targetsum:\n",
    "      currsize = right-left+1\n",
    "      minsize = min(minsize,currsize)\n",
    "      # subtract the left value and advance the left Index\n",
    "      current_sum-=arr[left]\n",
    "      left+=1\n",
    "  return minsize\n",
    "\n",
    "print(smallest_size_sum_ge_targetsum([4,2,2,7,8,1,2,7,1,0],8))\n",
    "print(smallest_size_sum_ge_targetsum([2,3,1,2,4,3],7))"
   ]
  },
  {
   "cell_type": "code",
   "execution_count": 42,
   "metadata": {
    "tags": []
   },
   "outputs": [
    {
     "output_type": "stream",
     "name": "stdout",
     "text": "4\n"
    }
   ],
   "source": [
    "'''\n",
    "longest substring with k distinct characters\n",
    "leetcode question 340\n",
    "'''\n",
    "\n",
    "def longest_sub_with_k_dist_char(arr, k):\n",
    "    left = 0\n",
    "    longest = 0\n",
    "    # count = 0\n",
    "    map = {}\n",
    "    for right in range(len(arr)):\n",
    "        if arr[right] not in map:\n",
    "            map[arr[right]]=0\n",
    "        map[arr[right]]+=1\n",
    "       \n",
    "        # count+=1\n",
    "        # print(map)\n",
    "        # print(\"count\",count)\n",
    "        while len(map)>k:\n",
    "            map[arr[left]]-=1\n",
    "            # count-=1\n",
    "            if map[arr[left]] == 0:\n",
    "                map.pop(arr[left])\n",
    "                # count-=1\n",
    "                # print(\"after remove\",map)\n",
    "                # print(\"count after remove\", count)\n",
    "            left+=1\n",
    "        longest = max(longest, right-left+1)    \n",
    "        # print(\"longest\",longest) \n",
    "\n",
    "    return longest\n",
    "\n",
    "\n",
    "print(longest_sub_with_k_dist_char(\"aahhbc\",2))\n",
    "\n",
    "\n"
   ]
  },
  {
   "cell_type": "code",
   "execution_count": 45,
   "metadata": {
    "tags": []
   },
   "outputs": [
    {
     "output_type": "stream",
     "name": "stdout",
     "text": "[2.5, 3.5, 6.5, 8.5, 7.0, 3.5]\n8.5\n"
    }
   ],
   "source": [
    "## Given an array consisting of n integers, find the contiguous subarray of given length k that has the maximum average value. And you need to output the maximum average value\n",
    "\n",
    "\n",
    "def contiguous_subarray_avg_k_size(arr, k):\n",
    "    max_average = 0\n",
    "    current_sum = 0\n",
    "    average_list = []\n",
    "    for i in range(k):\n",
    "        current_sum += arr[i]\n",
    "    max_average = current_sum/k\n",
    "    average_list.append(max_average)\n",
    "\n",
    "    for i in range(k, len(arr)):\n",
    "        current_sum += arr[i] - arr[i-k]\n",
    "        average = current_sum/k\n",
    "        max_average = max(max_average, current_sum/k)\n",
    "        average_list.append(average)\n",
    "    print(average_list)\n",
    "    return max_average\n",
    "\n",
    "print(contiguous_subarray_avg_k_size([2,3,4,9,8,6,1],2))"
   ]
  },
  {
   "cell_type": "code",
   "execution_count": 46,
   "metadata": {
    "tags": []
   },
   "outputs": [
    {
     "output_type": "stream",
     "name": "stdout",
     "text": "[1, 2, 3]\n"
    }
   ],
   "source": [
    "'''\n",
    "import java.util.*;\n",
    "public class Main\n",
    "{\n",
    "\tpublic static void main(String[] args) {\n",
    "\t\tSystem.out.println(\"Hello World\");\n",
    "\t\tHashMap<Integer,Integer> hmap = new HashMap<>();\n",
    "\t\tSystem.out.println(hmap.put(1,1)); //returns null as the previous value for 1\n",
    "\t\tSystem.out.println(hmap.put(1,2)); //returns 1 as previous value for 1\n",
    "\t}\n",
    "}\n",
    "\n",
    "whenever we create a HashSet, it internally creates a HashMap and if we insert an element into this HashSet using add() method, it actually call put() method on internally created HashMap object with element you have specified as it’s key and constant Object called “PRESENT” as it’s value. So we can say that a Set achieves uniqueness internally through HashMap. Now the whole story comes around how a HashMap and put() method internally works.\n",
    "\n",
    "As we know in a HashMap each key is unique and when we call put(Key, Value) method, it returns the previous value associated with key, or null if there was no mapping for key. So in add() method we check the return value of map.put(key, value) method with null value.\n",
    "\n",
    "Internal implementation of HashSet in Java, gfg (https://www.geeksforgeeks.org/internal-working-of-sethashset-in-java/)\n",
    "\n",
    "'''\n",
    "\n",
    "'''\n",
    "Hashmap vs hashtable:\n",
    "1. Hashmap is not synchronized. It is not thread-safe and can't be shared between many threads wothout proper synchronization code whereas hashtable is synchronized. IT is theread-sae and can be shared with many threads.\n",
    "2. Hashmap allows one null key and many null values whereas hashtable doesn't allow any null key or value.\n",
    "3. Hashmap is generally preferred over hashtable if thread synchronization is not needed.\n",
    "\n",
    "Hashmap is an advanced version and an improvement on the Hashtable.\n",
    "'''"
   ]
  },
  {
   "cell_type": "code",
   "execution_count": null,
   "metadata": {},
   "outputs": [],
   "source": []
  }
 ]
}