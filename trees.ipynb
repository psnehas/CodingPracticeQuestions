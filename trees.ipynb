{
 "metadata": {
  "language_info": {
   "codemirror_mode": {
    "name": "ipython",
    "version": 3
   },
   "file_extension": ".py",
   "mimetype": "text/x-python",
   "name": "python",
   "nbconvert_exporter": "python",
   "pygments_lexer": "ipython3",
   "version": 3
  },
  "orig_nbformat": 2
 },
 "nbformat": 4,
 "nbformat_minor": 2,
 "cells": [
  {
   "cell_type": "markdown",
   "metadata": {},
   "source": [
    "### Things to know:<br/>\n",
    "1) Trees vs Binary Trees<br/>\n",
    "2) Binary trees vs Binary Search Trees<br/>\n",
    "3) Balanced vs Unbalanced trees<br/>\n",
    "4) Complete binary trees<br/>\n",
    "5) Full binary trees<br/>\n",
    "6) Perfect binary trees<br/>\n",
    "\n"
   ]
  },
  {
   "cell_type": "markdown",
   "metadata": {},
   "source": [
    "### Binary Tree Traversals<br/>\n",
    "\n",
    "1. Inorder: left -> root -> right <br/>\n",
    "2. Preorder: root -> left -> right <br/>\n",
    "3. Postorder: left -> root -> right <br/>"
   ]
  },
  {
   "cell_type": "code",
   "execution_count": null,
   "metadata": {},
   "outputs": [],
   "source": [
    "# Inorder:\n",
    "\n",
    "def inorder(node):\n",
    "    if node:\n",
    "        inorder(node.left)\n",
    "        visit(node)\n",
    "        inorder(node.right)\n",
    "\n",
    "# Preorder\n",
    "\n",
    "def preorder(node):\n",
    "    if node:\n",
    "        visit(node)\n",
    "        preorder(node.left)\n",
    "        preorder(node.right)\n",
    "\n",
    "# Postorder\n",
    "\n",
    "def postorder(node):\n",
    "    if node:\n",
    "        postorder(node.left)\n",
    "        postorder(node.right)\n",
    "        visit(node)\n",
    "        "
   ]
  },
  {
   "cell_type": "code",
   "execution_count": null,
   "metadata": {},
   "outputs": [],
   "source": []
  }
 ]
}