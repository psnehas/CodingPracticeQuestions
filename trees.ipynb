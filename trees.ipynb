{
 "metadata": {
  "language_info": {
   "codemirror_mode": {
    "name": "ipython",
    "version": 3
   },
   "file_extension": ".py",
   "mimetype": "text/x-python",
   "name": "python",
   "nbconvert_exporter": "python",
   "pygments_lexer": "ipython3",
   "version": "3.7.6-final"
  },
  "orig_nbformat": 2,
  "kernelspec": {
   "name": "python_defaultSpec_1600564543280",
   "display_name": "Python 3.7.6 64-bit ('torch': conda)"
  }
 },
 "nbformat": 4,
 "nbformat_minor": 2,
 "cells": [
  {
   "cell_type": "markdown",
   "metadata": {},
   "source": [
    "### Things to know:<br/>\n",
    "1) Trees vs Binary Trees<br/>\n",
    "2) Binary trees vs Binary Search Trees<br/>\n",
    "3) Balanced vs Unbalanced trees<br/>\n",
    "4) Complete binary trees<br/>\n",
    "5) Full binary trees<br/>\n",
    "6) Perfect binary trees<br/>\n",
    "\n"
   ]
  },
  {
   "source": [
    "In a binary tree, if the root node is considered to be at index 0 in list, then for any node n: <br/>\n",
    "left child -> 2n + 1<br/>\n",
    "right child -> 2n + 2<br/>\n",
    "\n",
    "If the list indices start from 1, then for any node n:<br/>\n",
    "left child -> 2n<br/>\n",
    "right child -> 2n + 1<br/>"
   ],
   "cell_type": "markdown",
   "metadata": {}
  },
  {
   "cell_type": "markdown",
   "metadata": {},
   "source": [
    "### General Tree vs Binary Tree:\n",
    "\n",
    "A General Tree is a tree in which \n",
    "- each node can have either zero or many child nodes. \n",
    "- cannot be empty\n",
    "- there is no limitation on the degree of a node\n",
    "- topmost node is root node. There are many subtrees in a general tree.\n",
    "- the subtree of a general tree is unordered because the nodes of the generatl tree cannot be ordered accprding to a specific criteria.\n",
    "- each node has in-degree(number of parent nodes) one and a maximum out-degree(number of child nodes) n.\n",
    "\n",
    "A Binary Tree is a specialized version of the general tree. A Binary tree is a tree in which\n",
    "- each node can have at most 2 nodes.\n",
    "- can be empty\n",
    "- there is a limitation on the degree of a node because the nodes in a binary tree can't have more than 2 child nodes.\n",
    "- topmost node is root node and there are mainly 2 subtrees 1) left-subtree and 2) right-subtree. \n",
    "- subtree of a binary tree is ordered because the nodes of a binary tree can be ordered according to specific criteria.\n",
    "\n",
    "#### Binary Search Trees:\n",
    "BST is a type of binary tree which keeps the keys in a sorted order for fast lookup.\n",
    "- value of nodes in the left subtree are less than or equal to the value of the root node and the nodes to the right subtree have values greater than or equal to the value of the root node."
   ]
  },
  {
   "cell_type": "markdown",
   "metadata": {},
   "source": [
    "### Full Binary Tree: \n",
    "A binary tree is full binary tree if every node has 0 or 2 children. \n",
    "We can also say that a full binary tree is a binary tree in which all nodes except leaf nodes have two children.\n",
    "In a full binary tree, number of leaf nodes is the number of internal nodes plus 1. L = I + 1\n",
    "\n",
    "\n",
    "### Complete Binary Tree:\n",
    "A binary tree is a complete binary tree if all the levels are completely filled except possibly the last level and the last level has all keys as left as possible.\n",
    "\n",
    "### Perfect Binary Tree:\n",
    "A binary tree is a perfect binary tree in which all the internal nodes have two children and all leaf nodes are at the same level.\n",
    "A perfect binary tree of height h ( height is the number of nodes on a path from root to leaf) has 2^h - 1 node.\n",
    "\n",
    "### Balanced Binary Tree:\n",
    "A binary tree is balanced if the height of the tree is O(logn) where n is the number of nodes. e.g., the AVL tree maintains O(logn) height by making sure that the difference between the heights of the left and right subtres is almost 1. Red-Black trees maintian O(logn) height by making sure that the number of black nodes on every root to leaf paths is the same and there are no adjacent red nodes. \n",
    "Balanced Binary Search trees are performance-wise good as they provide O(logn) time for search, insert and delete.\n",
    "\n",
    "### Degenerate or Pathological Tree:\n",
    "A tree where every internal node has one child. Such trees are performance-wise same as linked list.\n"
   ]
  },
  {
   "cell_type": "markdown",
   "metadata": {},
   "source": [
    "### Binary Tree Traversals<br/>\n",
    "\n",
    "1. Inorder: left -> root -> right <br/>\n",
    "2. Preorder: root -> left -> right <br/>\n",
    "3. Postorder: left -> root -> right <br/>"
   ]
  },
  {
   "cell_type": "code",
   "execution_count": null,
   "metadata": {},
   "outputs": [],
   "source": [
    "# Inorder:\n",
    "\n",
    "def inorder(node):\n",
    "    if node:\n",
    "        inorder(node.left)\n",
    "        visit(node)\n",
    "        inorder(node.right)\n",
    "\n",
    "# Preorder\n",
    "\n",
    "def preorder(node):\n",
    "    if node:\n",
    "        visit(node)\n",
    "        preorder(node.left)\n",
    "        preorder(node.right)\n",
    "\n",
    "# Postorder\n",
    "\n",
    "def postorder(node):\n",
    "    if node:\n",
    "        postorder(node.left)\n",
    "        postorder(node.right)\n",
    "        visit(node)\n",
    "        "
   ]
  },
  {
   "cell_type": "code",
   "execution_count": 5,
   "metadata": {},
   "outputs": [],
   "source": [
    "class TreeNode:\n",
    "    def __init__(self, value=0, left = None, right = None):\n",
    "        self.value = value\n",
    "        self.left = left\n",
    "        self.right = right\n",
    "     "
   ]
  },
  {
   "cell_type": "code",
   "execution_count": 10,
   "metadata": {
    "tags": []
   },
   "outputs": [
    {
     "output_type": "stream",
     "name": "stdout",
     "text": "4\n2\n1\n3\n6\n5\n7\n"
    }
   ],
   "source": [
    "#  Minimum height BST from sorted array\n",
    "\n",
    "\n",
    "#Approach 1\n",
    "def min_height_bst(arr):\n",
    "    if len(arr)==0:\n",
    "        return None\n",
    "    start, end = 0, len(arr)-1\n",
    "    return create_bst(arr, start, end)\n",
    "\n",
    "def create_bst(arr, start, end):\n",
    "    if end<start:\n",
    "        return None\n",
    "    mid = (start+end)//2\n",
    "    root = TreeNode(arr[mid])\n",
    "    root.left = create_bst(arr,start, mid-1)\n",
    "    root.right = create_bst(arr, mid+1, end)\n",
    "    return root\n",
    "\n",
    "def preOrder(root):\n",
    "    if not root:\n",
    "        return None\n",
    "    print(root.value)\n",
    "    preOrder(root.left)\n",
    "    preOrder(root.right)\n",
    "    \n",
    "\n",
    "root = min_height_bst([1,2,3,4,5,6,7])\n",
    "\n",
    "preOrder(root)\n",
    "\n"
   ]
  },
  {
   "cell_type": "code",
   "execution_count": 11,
   "metadata": {
    "tags": []
   },
   "outputs": [
    {
     "output_type": "stream",
     "name": "stdout",
     "text": "4\n2\n1\n3\n6\n5\n7\n"
    }
   ],
   "source": [
    "#  Minimum height BST from sorted array\n",
    "\n",
    "#Approach 2:\n",
    "def bst(arr):\n",
    "    if not arr:\n",
    "        return None\n",
    "    mid = len(arr)//2\n",
    "    root = TreeNode(arr[mid])\n",
    "    root.left = bst(arr[:mid])\n",
    "    root.right = bst(arr[mid+1:])\n",
    "    return root\n",
    "\n",
    "root = bst([1,2,3,4,5,6,7])\n",
    "preOrder(root)"
   ]
  },
  {
   "source": [
    "### Building a binary tree\n"
   ],
   "cell_type": "markdown",
   "metadata": {}
  },
  {
   "cell_type": "code",
   "execution_count": 4,
   "metadata": {
    "tags": []
   },
   "outputs": [
    {
     "output_type": "stream",
     "name": "stdout",
     "text": "a\nNone None\nb None\nb c\nb hello\n"
    }
   ],
   "source": [
    "class BinaryTree:\n",
    "    def __init__(self, root_obj):\n",
    "        self.key = root_obj\n",
    "        self.left_child = None\n",
    "        self.right_child = None\n",
    "\n",
    "    def insert_left(self, new_node):\n",
    "        if self.left_child is None:\n",
    "            self.left_child = BinaryTree(new_node)\n",
    "        else:\n",
    "            new_child = BinaryTree(new_node)\n",
    "            new_child.left_child = self.left_child\n",
    "            self.left_child = new_child\n",
    "\n",
    "    def insert_right(self, new_node):\n",
    "        if self.right_child == None:\n",
    "            self.right_child = BinaryTree(new_node)\n",
    "        else:\n",
    "            new_child = BinaryTree(new_node)\n",
    "            new_child.right_child = self.right_child\n",
    "            self.right_child = new_child\n",
    "\n",
    "    def get_root_val(self):\n",
    "        return self.key\n",
    "\n",
    "    def set_root_val(self, new_obj):\n",
    "        self.key = new_obj\n",
    "\n",
    "    def get_left_child(self):\n",
    "        return self.left_child\n",
    "\n",
    "    def get_right_child(self):\n",
    "        return self.right_child\n",
    "\n",
    "\n",
    "a_tree = BinaryTree(\"a\")\n",
    "print(a_tree.get_root_val())\n",
    "print(a_tree.get_left_child(), a_tree.get_right_child())\n",
    "a_tree.insert_left(\"b\")\n",
    "print(a_tree.get_left_child().get_root_val(),a_tree.get_right_child())\n",
    "# print(a_tree.get_left_child().get_root_val())\n",
    "a_tree.insert_right(\"c\")\n",
    "print(a_tree.get_left_child().get_root_val(),a_tree.get_right_child().get_root_val())\n",
    "# print(a_tree.get_right_child().get_root_val())\n",
    "a_tree.get_right_child().set_root_val(\"hello\")\n",
    "print(a_tree.get_left_child().get_root_val(),a_tree.get_right_child().get_root_val())"
   ]
  },
  {
   "cell_type": "code",
   "execution_count": null,
   "metadata": {},
   "outputs": [],
   "source": []
  }
 ]
}