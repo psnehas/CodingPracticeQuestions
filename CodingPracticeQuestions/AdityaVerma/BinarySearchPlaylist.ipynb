{
 "cells": [
  {
   "cell_type": "markdown",
   "source": [
    "# Binary Search"
   ],
   "metadata": {}
  },
  {
   "cell_type": "code",
   "execution_count": 11,
   "source": [
    "def binarySearch(arr,target):\r\n",
    "    start, end = 0, len(arr)-1\r\n",
    "    while start<=end:\r\n",
    "        mid = (start+end)//2\r\n",
    "        if target==arr[mid]:\r\n",
    "            return mid\r\n",
    "        elif arr[mid]<target:\r\n",
    "            start = mid+1\r\n",
    "        else:\r\n",
    "            end = mid-1\r\n",
    "    return -1\r\n",
    "\r\n",
    "print(binarySearch([1,3,6,9,23,54,56,78], 54))"
   ],
   "outputs": [
    {
     "output_type": "stream",
     "name": "stdout",
     "text": [
      "5\n"
     ]
    }
   ],
   "metadata": {}
  },
  {
   "cell_type": "markdown",
   "source": [
    "# Binary Serach on reverse sorted array"
   ],
   "metadata": {}
  },
  {
   "cell_type": "code",
   "execution_count": 4,
   "source": [
    "def binarySearchReverse(arr,target):\r\n",
    "    start, end = 0, len(arr)-1\r\n",
    "    while start<=end:\r\n",
    "        mid = (start+end)//2\r\n",
    "        if target==arr[mid]:\r\n",
    "            return mid\r\n",
    "        elif arr[mid]<target:\r\n",
    "            end = mid-1\r\n",
    "        else:\r\n",
    "            start = mid+1\r\n",
    "    return -1\r\n",
    "\r\n",
    "print(binarySearchReverse([78,56,54,23,9,6,3,1], 54))"
   ],
   "outputs": [
    {
     "output_type": "stream",
     "name": "stdout",
     "text": [
      "2\n"
     ]
    }
   ],
   "metadata": {}
  },
  {
   "cell_type": "markdown",
   "source": [
    "# Order Agnostic Binary Search\r\n",
    "\r\n",
    "Here the order of the input array is not known if it is sorted in ascending order or descending order."
   ],
   "metadata": {}
  },
  {
   "cell_type": "code",
   "execution_count": 13,
   "source": [
    "def binarySearchOrder(arr,target):\r\n",
    "    if len(arr)<=1:\r\n",
    "        if arr[0]==target:\r\n",
    "            return 0\r\n",
    "        else:\r\n",
    "            return -1\r\n",
    "    elif arr[0]<=arr[1]:\r\n",
    "        # ascending -> regular binary search\r\n",
    "        return binarySearch(arr,target)\r\n",
    "    elif arr[0]>arr[1]:\r\n",
    "        # descending\r\n",
    "        return binarySearchReverse(arr,target)\r\n",
    "    return -1\r\n",
    "\r\n",
    "print(binarySearchOrder([78,56,54,23,9,6,3,1], 54))\r\n",
    "print(binarySearchOrder([1,3,6,9,23,54,56,78], 54))\r\n",
    "print(binarySearchOrder([1,3,6,9,23,54,56,78], 25))"
   ],
   "outputs": [
    {
     "output_type": "stream",
     "name": "stdout",
     "text": [
      "2\n",
      "5\n",
      "-1\n"
     ]
    }
   ],
   "metadata": {}
  },
  {
   "cell_type": "markdown",
   "source": [
    "# First and last occurrence of an element in a sorted array"
   ],
   "metadata": {}
  },
  {
   "cell_type": "code",
   "execution_count": 14,
   "source": [
    "def elemOccurrence(arr,elem):\r\n",
    "    if not arr:\r\n",
    "        return [-1,-1]\r\n",
    "    firstIndex = getFirstIndex(arr,elem)\r\n",
    "    lastIndex = getLastIndex(arr,elem)\r\n",
    "    return [firstIndex,lastIndex]\r\n",
    "\r\n",
    "def getFirstIndex(arr,elem):\r\n",
    "    index = -1\r\n",
    "    start, end = 0,len(arr)-1\r\n",
    "    while start<=end:\r\n",
    "        mid = (start+end)//2\r\n",
    "        if arr[mid]==elem:\r\n",
    "            index = mid\r\n",
    "            end = mid-1\r\n",
    "        elif arr[mid]<elem:\r\n",
    "            start = mid+1\r\n",
    "        else:\r\n",
    "            end = mid-1\r\n",
    "    return index\r\n",
    "\r\n",
    "def getLastIndex(arr,elem):\r\n",
    "    index = -1\r\n",
    "    start, end = 0,len(arr)-1\r\n",
    "    while start<=end:\r\n",
    "        mid = (start+end)//2\r\n",
    "        if arr[mid]==elem:\r\n",
    "            index = mid\r\n",
    "            start = mid+1\r\n",
    "        elif arr[mid]<elem:\r\n",
    "            start = mid+1\r\n",
    "        else:\r\n",
    "            end = mid-1\r\n",
    "    return index\r\n",
    "\r\n",
    "print(elemOccurrence([1,2,4,5,10,10,10,15,20],10))"
   ],
   "outputs": [
    {
     "output_type": "stream",
     "name": "stdout",
     "text": [
      "[4, 6]\n"
     ]
    }
   ],
   "metadata": {}
  },
  {
   "cell_type": "markdown",
   "source": [
    "# Count of an element in a sorted array - Number of times an element is repeated in the sorted array"
   ],
   "metadata": {}
  },
  {
   "cell_type": "code",
   "execution_count": 15,
   "source": [
    "def elemOccurrenceCount(arr,elem):\r\n",
    "    if not arr:\r\n",
    "        return [-1,-1]\r\n",
    "    firstIndex = getFirstIndex(arr,elem)\r\n",
    "    lastIndex = getLastIndex(arr,elem)\r\n",
    "    return lastIndex-firstIndex+1\r\n",
    "\r\n",
    "print(elemOccurrenceCount([1,2,4,5,10,10,10,15,20],10))"
   ],
   "outputs": [
    {
     "output_type": "stream",
     "name": "stdout",
     "text": [
      "3\n"
     ]
    }
   ],
   "metadata": {}
  },
  {
   "cell_type": "markdown",
   "source": [
    "# Find an element in rotated sorted array"
   ],
   "metadata": {}
  },
  {
   "cell_type": "code",
   "execution_count": 16,
   "source": [
    "def searchInRotatedArr(arr,elem):\r\n",
    "    start, end = 0,len(arr)-1\r\n",
    "    mid = (start+end)//2\r\n",
    "    if elem==arr[mid]:\r\n",
    "        return mid\r\n",
    "    left = binarySearchWithSE(arr,start,mid,elem)\r\n",
    "    right = binarySearchWithSE(arr,mid+1,end,elem)\r\n",
    "    if left==-1 and right==-1:\r\n",
    "        return -1\r\n",
    "    if left==-1 and right!=-1:\r\n",
    "        return right\r\n",
    "    if left!=-1 and right==-1:\r\n",
    "        return left\r\n",
    "\r\n",
    "def binarySearchWithSE(arr,start,end,elem):\r\n",
    "    while start<=end:\r\n",
    "        mid = (start+end)//2\r\n",
    "        if arr[mid]==elem:\r\n",
    "            return mid\r\n",
    "        if arr[mid]<elem:\r\n",
    "            start = mid+1\r\n",
    "        else:\r\n",
    "            end = mid-1\r\n",
    "    return -1\r\n",
    "    \r\n",
    "\r\n",
    "print(searchInRotatedArr([1,4,5,7,8,9,12,34,65],12))\r\n",
    "print(searchInRotatedArr([9,12,34,65,1,4,5,7,8],12))\r\n",
    "print(searchInRotatedArr([65,1,4,5,7,8,9,12,34],12))"
   ],
   "outputs": [
    {
     "output_type": "stream",
     "name": "stdout",
     "text": [
      "6\n",
      "1\n",
      "7\n"
     ]
    }
   ],
   "metadata": {}
  },
  {
   "cell_type": "markdown",
   "source": [
    "### Another method for search in rotated sorted array"
   ],
   "metadata": {}
  },
  {
   "cell_type": "code",
   "execution_count": 17,
   "source": [
    "def searchInRotatedSortedArr(arr,elem):\r\n",
    "    start,end = 0,len(arr)-1\r\n",
    "    while start<=end:\r\n",
    "        mid = (start+end)//2\r\n",
    "        if arr[mid]==elem:\r\n",
    "            return mid\r\n",
    "        if arr[start]<arr[mid]:\r\n",
    "            if arr[start]<=elem<=arr[mid]:\r\n",
    "                end = mid-1\r\n",
    "            else:\r\n",
    "                start = mid+1\r\n",
    "        else:\r\n",
    "            if arr[mid]<=elem<=arr[end]:\r\n",
    "                start = mid+1\r\n",
    "            else:\r\n",
    "                end = mid-1\r\n",
    "    return -1\r\n",
    "\r\n",
    "print(searchInRotatedSortedArr([1,4,5,7,8,9,12,34,65],12))\r\n",
    "print(searchInRotatedSortedArr([9,12,34,65,1,4,5,7,8],12))\r\n",
    "print(searchInRotatedSortedArr([65,1,4,5,7,8,9,12,34],12))"
   ],
   "outputs": [
    {
     "output_type": "stream",
     "name": "stdout",
     "text": [
      "6\n",
      "1\n",
      "7\n"
     ]
    }
   ],
   "metadata": {}
  },
  {
   "cell_type": "markdown",
   "source": [
    "# Search in a nearly sorted array"
   ],
   "metadata": {}
  },
  {
   "cell_type": "code",
   "execution_count": 19,
   "source": [
    "def searchNearlySorted(arr,elem):\r\n",
    "    start,end = 0,len(arr)-1\r\n",
    "    while start<=end:\r\n",
    "        mid = (start+end)//2\r\n",
    "        if arr[mid]==elem:\r\n",
    "            return mid\r\n",
    "        elif mid-1>=0 and arr[mid-1]==elem:\r\n",
    "            return mid-1\r\n",
    "        elif mid+1<len(arr) and arr[mid+1]==elem:\r\n",
    "            return mid+1\r\n",
    "        elif arr[mid]<elem:\r\n",
    "            start = mid+1\r\n",
    "        else:\r\n",
    "            end = mid-1\r\n",
    "    return -1\r\n",
    "\r\n",
    "print(searchNearlySorted([1,4,5,7,8,12,9,34,65],12))   \r\n",
    "print(searchNearlySorted([1,4,5,7,8,12,9,34,65],5)) "
   ],
   "outputs": [
    {
     "output_type": "stream",
     "name": "stdout",
     "text": [
      "5\n",
      "2\n"
     ]
    }
   ],
   "metadata": {}
  },
  {
   "cell_type": "markdown",
   "source": [
    "# Find floor of an element in a sorted array\r\n",
    "\r\n",
    "-> it's not necessary that the sorted array contains the element at all. If the element is present, return the same element as it is the floor and ceil of itself. But if it isn't available, the floor of an element is the greatest element in the array that is smaaller than the given element.\r\n",
    "\r\n",
    "Input : [1,4,5,7,8,9,12,34,65], elem = 10\r\n",
    "Output : 9\r\n",
    "\r\n",
    "Input : [1,4,5,7,8,9,12,34,65], elem = 9\r\n",
    "Output : 9"
   ],
   "metadata": {}
  },
  {
   "cell_type": "code",
   "execution_count": 22,
   "source": [
    "def searchFloor(arr,elem):\r\n",
    "    start,end = 0,len(arr)-1\r\n",
    "    temp = -1\r\n",
    "    while start<=end:\r\n",
    "        mid = (start+end)//2\r\n",
    "        if arr[mid]==elem:\r\n",
    "            return arr[mid]\r\n",
    "        if arr[mid]<elem:\r\n",
    "            temp = arr[mid]\r\n",
    "            start = mid+1\r\n",
    "        else:\r\n",
    "            end = mid-1\r\n",
    "    return temp\r\n",
    "\r\n",
    "print(searchFloor([1,4,5,7,8,9,12,34,65],10))\r\n",
    "print(searchFloor([1,4,5,7,8,9,12,34,65],8))"
   ],
   "outputs": [
    {
     "output_type": "stream",
     "name": "stdout",
     "text": [
      "9\n",
      "8\n"
     ]
    }
   ],
   "metadata": {}
  },
  {
   "cell_type": "markdown",
   "source": [
    "# Find ceil of an element in the sorted array"
   ],
   "metadata": {}
  },
  {
   "cell_type": "code",
   "execution_count": 23,
   "source": [
    "def searchCeil(arr,elem):\r\n",
    "    start,end = 0,len(arr)-1\r\n",
    "    temp = -1\r\n",
    "    while start<=end:\r\n",
    "        mid = (start+end)//2\r\n",
    "        if arr[mid]==elem:\r\n",
    "            return arr[mid]\r\n",
    "        if arr[mid]<elem:\r\n",
    "            start = mid+1\r\n",
    "        else:\r\n",
    "            temp = arr[mid]\r\n",
    "            end = mid-1\r\n",
    "    return temp\r\n",
    "\r\n",
    "print(searchCeil([1,4,5,7,8,9,12,34,65],10))\r\n",
    "print(searchCeil([1,4,5,7,8,9,12,34,65],8))"
   ],
   "outputs": [
    {
     "output_type": "stream",
     "name": "stdout",
     "text": [
      "12\n",
      "8\n"
     ]
    }
   ],
   "metadata": {}
  },
  {
   "cell_type": "markdown",
   "source": [
    "# Next alphabetical element\r\n",
    "\r\n",
    "Given a list of alphabets, find the next alphabetical element in the list\r\n",
    "\r\n",
    "Input = ['a','g','h','m','p'] elem = 'h'\r\n",
    "Output = 'm'\r\n",
    "\r\n",
    "Input = ['a','g','h','m','p'] elem = 'n'\r\n",
    "Output = 'p'"
   ],
   "metadata": {}
  },
  {
   "cell_type": "code",
   "execution_count": 27,
   "source": [
    "def searchNextLetter(arr,elem):\r\n",
    "    start,end = 0,len(arr)-1\r\n",
    "    temp = '#'\r\n",
    "    while start<=end:\r\n",
    "        mid = (start+end)//2\r\n",
    "        # if arr[mid]==elem:\r\n",
    "        #     start = mid+1\r\n",
    "        if arr[mid]<=elem:\r\n",
    "            start = mid+1\r\n",
    "        # elif arr[mid]>elem:\r\n",
    "        else:\r\n",
    "            temp = arr[mid]\r\n",
    "            end = mid-1\r\n",
    "    return temp\r\n",
    "\r\n",
    "print(searchNextLetter(['a','g','h','m','p'],'h'))\r\n",
    "print(searchNextLetter(['a','g','h','m','p'],'n'))"
   ],
   "outputs": [
    {
     "output_type": "stream",
     "name": "stdout",
     "text": [
      "m\n",
      "p\n"
     ]
    }
   ],
   "metadata": {}
  },
  {
   "cell_type": "code",
   "execution_count": null,
   "source": [],
   "outputs": [],
   "metadata": {}
  }
 ],
 "metadata": {
  "orig_nbformat": 4,
  "language_info": {
   "name": "python",
   "version": "3.8.10",
   "mimetype": "text/x-python",
   "codemirror_mode": {
    "name": "ipython",
    "version": 3
   },
   "pygments_lexer": "ipython3",
   "nbconvert_exporter": "python",
   "file_extension": ".py"
  },
  "kernelspec": {
   "name": "python3",
   "display_name": "Python 3.8.10 64-bit (windows store)"
  },
  "interpreter": {
   "hash": "016e124bb190dde6d7394a43e256aeaad55640fa89fa7487e5e8d38e1342c05f"
  }
 },
 "nbformat": 4,
 "nbformat_minor": 2
}