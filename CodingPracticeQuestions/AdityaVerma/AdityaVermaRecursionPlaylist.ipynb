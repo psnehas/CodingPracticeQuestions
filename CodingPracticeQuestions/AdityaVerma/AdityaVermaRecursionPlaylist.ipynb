{
 "cells": [
  {
   "cell_type": "markdown",
   "source": [
    "# AKA max depth of a binary tree\r\n",
    "Given the root of a binary tree, return its maximum depth.\r\n",
    "\r\n",
    "A binary tree's maximum depth is the number of nodes along the longest path from the root node down to the farthest leaf node."
   ],
   "metadata": {}
  },
  {
   "cell_type": "code",
   "execution_count": null,
   "source": [
    "def height(root):\r\n",
    "    if not root:\r\n",
    "        return 0\r\n",
    "    left_height = height(root.left)\r\n",
    "    right_height = height(root.right)\r\n",
    "    return max(left_height,right_height)+1"
   ],
   "outputs": [],
   "metadata": {}
  },
  {
   "cell_type": "markdown",
   "source": [
    "# Sort an array using recursion"
   ],
   "metadata": {}
  },
  {
   "cell_type": "code",
   "execution_count": 1,
   "source": [
    "def sort(arr):\r\n",
    "    if len(arr)==1:\r\n",
    "        return \r\n",
    "    temp = arr.pop()\r\n",
    "    sort(arr)\r\n",
    "    insert(arr,temp)\r\n",
    "    return arr\r\n",
    "\r\n",
    "def insert(arr,temp):\r\n",
    "    if len(arr)==0 or arr[-1]<=temp:\r\n",
    "        arr.append(temp)\r\n",
    "        return\r\n",
    "    val = arr.pop()\r\n",
    "    insert(arr,temp)\r\n",
    "    arr.append(val)\r\n",
    "    return \r\n",
    "\r\n",
    "print(sort([8,2,3,7,9,4,1]))\r\n"
   ],
   "outputs": [
    {
     "output_type": "stream",
     "name": "stdout",
     "text": [
      "[1, 2, 3, 4, 7, 8, 9]\n"
     ]
    }
   ],
   "metadata": {}
  },
  {
   "cell_type": "markdown",
   "source": [
    "### Sort a stack -> same as the code above for array(Stack uses list in python) except result will be in descending order"
   ],
   "metadata": {}
  },
  {
   "cell_type": "markdown",
   "source": [
    "# Delete middle element in a stack using recursion"
   ],
   "metadata": {}
  },
  {
   "cell_type": "code",
   "execution_count": 10,
   "source": [
    "def delete(stack):\r\n",
    "    if len(stack)==1:\r\n",
    "        return stack\r\n",
    "    mid = len(stack)//2+1\r\n",
    "    solve(stack,mid)\r\n",
    "    return stack\r\n",
    "\r\n",
    "def solve(stack,mid):\r\n",
    "    if mid==1:\r\n",
    "        stack.pop()\r\n",
    "        return\r\n",
    "    temp = stack.pop()\r\n",
    "    solve(stack,mid-1)\r\n",
    "    stack.append(temp)\r\n",
    "    return\r\n",
    "\r\n",
    "print(delete([5,1,0,2]))"
   ],
   "outputs": [
    {
     "output_type": "stream",
     "name": "stdout",
     "text": [
      "[5, 0, 2]\n"
     ]
    }
   ],
   "metadata": {}
  },
  {
   "cell_type": "markdown",
   "source": [
    "# Reverse a stack using recursion"
   ],
   "metadata": {}
  },
  {
   "cell_type": "code",
   "execution_count": 11,
   "source": [
    "def reverse(stack):\r\n",
    "    if len(stack)==1:\r\n",
    "        return stack\r\n",
    "    temp = stack.pop()\r\n",
    "    reverse(stack)\r\n",
    "    insert(stack,temp)\r\n",
    "    return stack\r\n",
    "\r\n",
    "def insert(stack,temp):\r\n",
    "    if len(stack)==0:\r\n",
    "        stack.append(temp)\r\n",
    "        return\r\n",
    "    val = stack.pop()\r\n",
    "    insert(stack,temp)\r\n",
    "    stack.append(val)\r\n",
    "    return\r\n",
    "\r\n",
    "print(reverse([5,1,0,2]))"
   ],
   "outputs": [
    {
     "output_type": "stream",
     "name": "stdout",
     "text": [
      "[2, 0, 1, 5]\n"
     ]
    }
   ],
   "metadata": {}
  },
  {
   "cell_type": "markdown",
   "source": [
    "\r\n"
   ],
   "metadata": {}
  }
 ],
 "metadata": {
  "orig_nbformat": 4,
  "language_info": {
   "name": "python",
   "version": "3.8.10",
   "mimetype": "text/x-python",
   "codemirror_mode": {
    "name": "ipython",
    "version": 3
   },
   "pygments_lexer": "ipython3",
   "nbconvert_exporter": "python",
   "file_extension": ".py"
  },
  "kernelspec": {
   "name": "python3",
   "display_name": "Python 3.8.10 64-bit (windows store)"
  },
  "interpreter": {
   "hash": "016e124bb190dde6d7394a43e256aeaad55640fa89fa7487e5e8d38e1342c05f"
  }
 },
 "nbformat": 4,
 "nbformat_minor": 2
}