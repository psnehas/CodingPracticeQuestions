{
 "cells": [
  {
   "cell_type": "markdown",
   "source": [
    "# Height of Binary Tree aka max depth of a binary tree\r\n",
    "Given the root of a binary tree, return its maximum depth.\r\n",
    "\r\n",
    "A binary tree's maximum depth is the number of nodes along the longest path from the root node down to the farthest leaf node."
   ],
   "metadata": {}
  },
  {
   "cell_type": "code",
   "execution_count": 32,
   "source": [
    "def height(root):\r\n",
    "    if not root:\r\n",
    "        return 0\r\n",
    "    left_height = height(root.left)\r\n",
    "    right_height = height(root.right)\r\n",
    "    return max(left_height,right_height)+1"
   ],
   "outputs": [],
   "metadata": {}
  },
  {
   "cell_type": "markdown",
   "source": [
    "# Sort an array using recursion"
   ],
   "metadata": {}
  },
  {
   "cell_type": "code",
   "execution_count": 33,
   "source": [
    "def sort(arr):\r\n",
    "    if len(arr)==1:\r\n",
    "        return \r\n",
    "    temp = arr.pop()\r\n",
    "    sort(arr)\r\n",
    "    insert(arr,temp)\r\n",
    "    return arr\r\n",
    "\r\n",
    "def insert(arr,temp):\r\n",
    "    if len(arr)==0 or arr[-1]<=temp:\r\n",
    "        arr.append(temp)\r\n",
    "        return\r\n",
    "    val = arr.pop()\r\n",
    "    insert(arr,temp)\r\n",
    "    arr.append(val)\r\n",
    "    return \r\n",
    "\r\n",
    "print(sort([8,2,3,7,9,4,1]))\r\n"
   ],
   "outputs": [
    {
     "output_type": "stream",
     "name": "stdout",
     "text": [
      "[1, 2, 3, 4, 7, 8, 9]\n"
     ]
    }
   ],
   "metadata": {}
  },
  {
   "cell_type": "markdown",
   "source": [
    "### Sort a stack -> same as the code above for array(Stack uses list in python) except result will be in descending order"
   ],
   "metadata": {}
  },
  {
   "cell_type": "markdown",
   "source": [
    "# Delete middle element in a stack using recursion"
   ],
   "metadata": {}
  },
  {
   "cell_type": "code",
   "execution_count": 34,
   "source": [
    "def delete(stack):\r\n",
    "    if len(stack)==1:\r\n",
    "        return stack\r\n",
    "    mid = len(stack)//2+1\r\n",
    "    solve(stack,mid)\r\n",
    "    return stack\r\n",
    "\r\n",
    "def solve(stack,mid):\r\n",
    "    if mid==1:\r\n",
    "        stack.pop()\r\n",
    "        return\r\n",
    "    temp = stack.pop()\r\n",
    "    solve(stack,mid-1)\r\n",
    "    stack.append(temp)\r\n",
    "    return\r\n",
    "\r\n",
    "print(delete([5,1,0,2]))"
   ],
   "outputs": [
    {
     "output_type": "stream",
     "name": "stdout",
     "text": [
      "[5, 0, 2]\n"
     ]
    }
   ],
   "metadata": {}
  },
  {
   "cell_type": "markdown",
   "source": [
    "# Reverse a stack using recursion"
   ],
   "metadata": {}
  },
  {
   "cell_type": "code",
   "execution_count": 35,
   "source": [
    "def reverse(stack):\r\n",
    "    if len(stack)==1:\r\n",
    "        return stack\r\n",
    "    temp = stack.pop()\r\n",
    "    reverse(stack)\r\n",
    "    insert(stack,temp)\r\n",
    "    return stack\r\n",
    "\r\n",
    "def insert(stack,temp):\r\n",
    "    if len(stack)==0:\r\n",
    "        stack.append(temp)\r\n",
    "        return\r\n",
    "    val = stack.pop()\r\n",
    "    insert(stack,temp)\r\n",
    "    stack.append(val)\r\n",
    "    return\r\n",
    "\r\n",
    "print(reverse([5,1,0,2]))"
   ],
   "outputs": [
    {
     "output_type": "stream",
     "name": "stdout",
     "text": [
      "[2, 0, 1, 5]\n"
     ]
    }
   ],
   "metadata": {}
  },
  {
   "cell_type": "markdown",
   "source": [
    "# Kth symbol in Grammar\r\n",
    "\r\n",
    "We build a table of n rows (1-indexed). We start by writing 0 in the 1st row. Now in every subsequent row, we look at the previous row and replace each occurrence of 0 with 01, and each occurrence of 1 with 10.\r\n",
    "\r\n",
    "For example, for n = 3, the 1st row is 0, the 2nd row is 01, and the 3rd row is 0110.\r\n",
    "Given two integer n and k, return the kth (1-indexed) symbol in the nth row of a table of n rows.\r\n",
    "\r\n",
    "Input: n = 3, k = 1\r\n",
    "Output: 0\r\n",
    "Explanation:\r\n",
    "row 1: 0\r\n",
    "row 2: 01\r\n",
    "row 3: 0110"
   ],
   "metadata": {}
  },
  {
   "cell_type": "code",
   "execution_count": 36,
   "source": [
    "def findKthGrammar(n,k):\r\n",
    "    if n==1 and k==1:\r\n",
    "        return 0\r\n",
    "    mid = 2**(n-1)//2\r\n",
    "    if k<=mid:\r\n",
    "        return findKthGrammar(n-1,k)\r\n",
    "    else:\r\n",
    "        return 1-findKthGrammar(n-1,k-mid)\r\n",
    "        # here you can either use 1-findKthGrammar() or 1^findKthGrammar() (1 xor findKthGrammar) to get the effect of !findKthGrammar()\r\n",
    "\r\n",
    "print(findKthGrammar(3,1))\r\n",
    "\r\n"
   ],
   "outputs": [
    {
     "output_type": "stream",
     "name": "stdout",
     "text": [
      "0\n"
     ]
    }
   ],
   "metadata": {}
  },
  {
   "cell_type": "markdown",
   "source": [
    "# Tower of Hanoi Recursion\r\n"
   ],
   "metadata": {}
  },
  {
   "cell_type": "code",
   "execution_count": 37,
   "source": [
    "def main(n):\r\n",
    "    s,h,d = 1,2,3\r\n",
    "    towerOfHanoi(n,s,d,h)\r\n",
    "    return\r\n",
    "    \r\n",
    "def towerOfHanoi(n,s,d,h):\r\n",
    "    if n==1:\r\n",
    "        print(\"moving disc {} from {} to {}\".format(n,s,d))\r\n",
    "        return\r\n",
    "    towerOfHanoi(n-1,s,h,d)\r\n",
    "    print(\"moving disc {} from {} to {}\".format(n,s,d))\r\n",
    "    towerOfHanoi(n-1,h,d,s)\r\n",
    "    return\r\n",
    "\r\n",
    "main(3)"
   ],
   "outputs": [
    {
     "output_type": "stream",
     "name": "stdout",
     "text": [
      "moving disc 1 from 1 to 3\n",
      "moving disc 2 from 1 to 2\n",
      "moving disc 1 from 3 to 2\n",
      "moving disc 3 from 1 to 3\n",
      "moving disc 1 from 2 to 1\n",
      "moving disc 2 from 2 to 3\n",
      "moving disc 1 from 1 to 3\n"
     ]
    }
   ],
   "metadata": {}
  },
  {
   "cell_type": "markdown",
   "source": [
    "# Tower of Hanoi Recursion with number of moves count"
   ],
   "metadata": {}
  },
  {
   "cell_type": "code",
   "execution_count": 38,
   "source": [
    "def main(n):\r\n",
    "    s,h,d = 1,2,3\r\n",
    "    count = [0]\r\n",
    "    towerOfHanoi(n,s,d,h,count)\r\n",
    "    return count[0]\r\n",
    "    \r\n",
    "def towerOfHanoi(n,s,d,h,count):\r\n",
    "    if n==1:\r\n",
    "        # print(\"moving disc {} from {} to {}\".format(n,s,d))\r\n",
    "        count[0]+=1\r\n",
    "        return \r\n",
    "    towerOfHanoi(n-1,s,h,d,count)\r\n",
    "    # print(\"moving disc {} from {} to {}\".format(n,s,d))\r\n",
    "    count[0]+=1\r\n",
    "    towerOfHanoi(n-1,h,d,s,count)\r\n",
    "    return \r\n",
    "\r\n",
    "print(main(3))\r\n",
    "print(main(5))"
   ],
   "outputs": [
    {
     "output_type": "stream",
     "name": "stdout",
     "text": [
      "7\n",
      "31\n"
     ]
    }
   ],
   "metadata": {}
  },
  {
   "cell_type": "markdown",
   "source": [
    "# Print Subsets | Print Substrings | Print PowerSets\r\n",
    "\r\n",
    "## LC - 78 : Subsets\r\n",
    "\r\n",
    "Given a string \"abc\" print all the subsets of this string\r\n",
    "Input : \"abc\"\r\n",
    "Output: [\"\",\"a\",\"b\",\"ab\",\"ac\",\"bc\",\"abc\"]"
   ],
   "metadata": {}
  },
  {
   "cell_type": "code",
   "execution_count": 39,
   "source": [
    "# choice/decision here is either to consider a character or not.\r\n",
    "# base case is when the input string becomes empty based on the recursion tree\r\n",
    "def subsets(inp_str):\r\n",
    "    if len(inp_str)==0:\r\n",
    "        return \r\n",
    "    op = []\r\n",
    "    result = []\r\n",
    "    solve(inp_str,op,result)\r\n",
    "    return result\r\n",
    "\r\n",
    "def solve(inp,op,result):\r\n",
    "    if len(inp)==0:\r\n",
    "        result.append(''.join(op))\r\n",
    "        return\r\n",
    "    op1 = op[:]\r\n",
    "    op2 = op[:]\r\n",
    "    # not considering the character -> no value added to op1\r\n",
    "    # considering the character in op2\r\n",
    "    op2.append(inp[0])\r\n",
    "    # popping the character from input\r\n",
    "    inp = inp[1:]\r\n",
    "    # recurse\r\n",
    "    solve(inp,op1,result)\r\n",
    "    solve(inp,op2,result)\r\n",
    "    return\r\n",
    "\r\n",
    "print(subsets(\"abc\"))\r\n",
    "\r\n"
   ],
   "outputs": [
    {
     "output_type": "stream",
     "name": "stdout",
     "text": [
      "['', 'c', 'b', 'bc', 'a', 'ac', 'ab', 'abc']\n"
     ]
    }
   ],
   "metadata": {}
  },
  {
   "cell_type": "markdown",
   "source": [
    "# Print unique Subsets \r\n",
    "\r\n",
    "## LC-90 : Subsets 2\r\n",
    "\r\n",
    "Given a string print all the subsets of this string\r\n",
    "\r\n",
    "Input : \"abc\"\r\n",
    "Output: [\"\",\"a\",\"b\",\"ab\",\"ac\",\"bc\",\"abc\"]\r\n",
    "\r\n",
    "Input : \"aab\"\r\n",
    "Output : ['','a','b','aa','ab','aab']\r\n",
    "\r\n",
    "-> for subsets 2 in LC, the order of the result also matters as [1,2] and [2,1] are considered different and only [1,2] is the right one. So make sure you sort the input list before you start with the recursion. \r\n",
    "Need to add another check in the base case to check if the obtained output(op) is already in result - you can't use a set as below because list cannot be added in set. Obtaining all subsets, Converting each elem to a tuple then to a set and then to a set is another possible soln if you don't want to add the check in base case."
   ],
   "metadata": {}
  },
  {
   "cell_type": "code",
   "execution_count": 40,
   "source": [
    "def subsets(inp_str):\r\n",
    "    if len(inp_str)==0:\r\n",
    "        return \r\n",
    "    op = []\r\n",
    "    result = set()\r\n",
    "    solve(inp_str,op,result)\r\n",
    "    return list(result)\r\n",
    "\r\n",
    "def solve(inp,op,result):\r\n",
    "    if len(inp)==0:\r\n",
    "        result.add(''.join(op))\r\n",
    "        return\r\n",
    "    op1 = op[:]\r\n",
    "    op2 = op[:]\r\n",
    "    \r\n",
    "    op2.append(inp[0])\r\n",
    "    \r\n",
    "    inp = inp[1:]\r\n",
    "   \r\n",
    "    solve(inp,op1,result)\r\n",
    "    solve(inp,op2,result)\r\n",
    "    return\r\n",
    "\r\n",
    "print(subsets(\"abc\"))\r\n",
    "print(subsets(\"aab\"))\r\n"
   ],
   "outputs": [
    {
     "output_type": "stream",
     "name": "stdout",
     "text": [
      "['', 'bc', 'abc', 'b', 'a', 'ab', 'ac', 'c']\n",
      "['', 'aa', 'b', 'a', 'ab', 'aab']\n"
     ]
    }
   ],
   "metadata": {}
  },
  {
   "cell_type": "markdown",
   "source": [
    "# Permutation with spaces\r\n",
    "\r\n",
    "Given a string print all the permutations of this string including space. \r\n",
    "<i>(Here for brevity we'll be using _ instead of space)<i/>\r\n",
    "Input : \"abc\"\r\n",
    "Output: [\"a_b_c\",\"a_bc\",\"ab_c\",\"abc\"]"
   ],
   "metadata": {}
  },
  {
   "cell_type": "code",
   "execution_count": 41,
   "source": [
    "def permSpaces(inp_str):\r\n",
    "    if len(inp_str)==0:\r\n",
    "        return \r\n",
    "    result = []\r\n",
    "    op = []\r\n",
    "    # do a little pre-processing here as wkt _ is not being applied on either ends of the string.\r\n",
    "    op.append(inp_str[0])\r\n",
    "    inp_str = inp_str[1:]\r\n",
    "    solvePerm(inp_str,op,result)\r\n",
    "    return result\r\n",
    "\r\n",
    "# choice here is between using either _character or character (e.g., _b vs b)\r\n",
    "#  base case is again an empty string\r\n",
    "def solvePerm(inp,op,result):\r\n",
    "    if len(inp)==0:\r\n",
    "        result.append(''.join(op))\r\n",
    "        return\r\n",
    "    op1 = op[:]\r\n",
    "    op2 = op[:]\r\n",
    "    op1.append('_'+inp[0])\r\n",
    "    op2.append(inp[0])\r\n",
    "    inp = inp[1:]\r\n",
    "    solvePerm(inp,op1,result)\r\n",
    "    solvePerm(inp,op2,result)\r\n",
    "    return\r\n",
    "\r\n",
    "print(permSpaces(\"abc\"))\r\n",
    "print(permSpaces(\"aabac\"))"
   ],
   "outputs": [
    {
     "output_type": "stream",
     "name": "stdout",
     "text": [
      "['a_b_c', 'a_bc', 'ab_c', 'abc']\n",
      "['a_a_b_a_c', 'a_a_b_ac', 'a_a_ba_c', 'a_a_bac', 'a_ab_a_c', 'a_ab_ac', 'a_aba_c', 'a_abac', 'aa_b_a_c', 'aa_b_ac', 'aa_ba_c', 'aa_bac', 'aab_a_c', 'aab_ac', 'aaba_c', 'aabac']\n"
     ]
    }
   ],
   "metadata": {}
  },
  {
   "cell_type": "markdown",
   "source": [
    "# Permutations with case change\r\n",
    "\r\n",
    "Given a string (assume in lowercase) form different permutations of the string including both upper and lower cases\r\n",
    "\r\n",
    "Input: \"ab\"\r\n",
    "Output: [\"ab\",\"aB\",\"Ab\",\"AB\"] \r\n",
    "\r\n",
    "Same as the above problem, except the input is no longer guaranteed to be in lowercase."
   ],
   "metadata": {}
  },
  {
   "cell_type": "code",
   "execution_count": 42,
   "source": [
    "def permsCases(inp_str):\r\n",
    "    if len(inp_str)==0:\r\n",
    "        return \r\n",
    "    result = []\r\n",
    "    op = []\r\n",
    "    solvePermsCases(inp_str,op,result)\r\n",
    "    return result\r\n",
    "\r\n",
    "# choice here is whether to use a lower case letter or an uppercase letter. (Not whether to use a character/not)\r\n",
    "def solvePermsCases(inp,op,result):\r\n",
    "    if len(inp)==0:\r\n",
    "        result.append(''.join(op))\r\n",
    "        return\r\n",
    "    op1 = op[:]\r\n",
    "    op2 = op[:]\r\n",
    "    op1.append(inp[0])\r\n",
    "    op2.append(inp[0].upper())\r\n",
    "    inp = inp[1:]\r\n",
    "    solvePermsCases(inp,op1,result)\r\n",
    "    solvePermsCases(inp,op2,result)\r\n",
    "    return\r\n",
    "\r\n",
    "print(permsCases(\"ab\"))\r\n",
    "print(permsCases(\"abc\"))"
   ],
   "outputs": [
    {
     "output_type": "stream",
     "name": "stdout",
     "text": [
      "['ab', 'aB', 'Ab', 'AB']\n",
      "['abc', 'abC', 'aBc', 'aBC', 'Abc', 'AbC', 'ABc', 'ABC']\n"
     ]
    }
   ],
   "metadata": {}
  },
  {
   "cell_type": "markdown",
   "source": [
    "# Letter Case Permutation\r\n",
    "\r\n",
    "## LC-784 : Letter Case Permutation\r\n",
    "\r\n",
    "Same as the above problem, except the input is no longer guaranteed to be in lowercase and the input string can include digits as well.\r\n",
    "\r\n",
    "Input: \"ab\"\r\n",
    "Output: [\"ab\",\"aB\",\"Ab\",\"AB\"] \r\n",
    "\r\n",
    "Input: \"A1b\"\r\n",
    "Output: ['A1b', 'A1B', 'A1b', 'A1B', 'A1b', 'A1B', 'A1b', 'A1B']\r\n"
   ],
   "metadata": {}
  },
  {
   "cell_type": "code",
   "execution_count": 43,
   "source": [
    "def permsCase(inp_str):\r\n",
    "    if len(inp_str)==0:\r\n",
    "        return \r\n",
    "    # result = []\r\n",
    "    result = set()\r\n",
    "    op = []\r\n",
    "    solvePermsCase(inp_str,op,result)\r\n",
    "    # return result\r\n",
    "    return list(result)\r\n",
    "\r\n",
    "# choice here is whether to use a lower case letter or an uppercase letter. (Not whether to use a character/not)\r\n",
    "def solvePermsCase(inp,op,result):\r\n",
    "    if len(inp)==0:\r\n",
    "        # result.append(''.join(op))\r\n",
    "        result.add(''.join(op))\r\n",
    "        return\r\n",
    "    op1 = op[:]\r\n",
    "    op2 = op[:]\r\n",
    "    inpVal = inp[0]\r\n",
    "  \r\n",
    "    inp = inp[1:]\r\n",
    "    if inpVal.isdigit():\r\n",
    "        op3 = op[:]\r\n",
    "        op3.append(inpVal)\r\n",
    "        solvePermsCase(inp,op3,result)\r\n",
    "\r\n",
    "    else:\r\n",
    "        op1.append(inpVal.lower())\r\n",
    "        op2.append(inpVal.upper())\r\n",
    "        solvePermsCase(inp,op1,result)\r\n",
    "        solvePermsCase(inp,op2,result)\r\n",
    "    return\r\n",
    "\r\n",
    "print(permsCase(\"ab\"))\r\n",
    "print(permsCase(\"A1b\"))\r\n",
    "print(permsCase(\"a1B2c\"))\r\n",
    "\r\n",
    "# This code above creates duplicates because of both lower and upper case conversions. Can use a hashset to maintain only unique values"
   ],
   "outputs": [
    {
     "output_type": "stream",
     "name": "stdout",
     "text": [
      "['AB', 'ab', 'aB', 'Ab']\n",
      "['a1b', 'a1B', 'A1B', 'A1b']\n",
      "['A1B2C', 'A1b2C', 'A1B2c', 'a1B2c', 'a1b2c', 'a1B2C', 'A1b2c', 'a1b2C']\n"
     ]
    }
   ],
   "metadata": {}
  },
  {
   "cell_type": "markdown",
   "source": [
    "# Generate all balanced parentheses\r\n",
    "\r\n",
    "## LC-22 : Generate Parentheses\r\n",
    "\r\n",
    "Given an integer n, generate a list of valid balanced parentheses strings with length 2n\r\n",
    "Input : 2\r\n",
    "Output: [\"()()\",\"(())\"]\r\n",
    "Input : 3\r\n",
    "Output: [\"((()))\",\"(())()\",\"()(())\",\"(()())\",\"()()()\"]"
   ],
   "metadata": {}
  },
  {
   "cell_type": "code",
   "execution_count": 44,
   "source": [
    "def generatePerentheses(n):\r\n",
    "    if n==0:\r\n",
    "        return\r\n",
    "    result = []\r\n",
    "    openP, closeP = n,n\r\n",
    "    op = []\r\n",
    "    solveParen(openP,closeP,op,result)\r\n",
    "    return result\r\n",
    "\r\n",
    "def solveParen(openP,closeP,op,result):\r\n",
    "    if openP==0 and closeP==0:\r\n",
    "        result.append(''.join(op))\r\n",
    "        return\r\n",
    "    if openP>0:\r\n",
    "        op1 = op[:]\r\n",
    "        op1.append('(')\r\n",
    "        solveParen(openP-1,closeP,op1,result)\r\n",
    "    if closeP>openP:\r\n",
    "        op2 = op[:]\r\n",
    "        op2.append(')')\r\n",
    "        solveParen(openP,closeP-1,op2,result)\r\n",
    "    return\r\n",
    "\r\n",
    "print(generatePerentheses(3))\r\n",
    "print(generatePerentheses(4))"
   ],
   "outputs": [
    {
     "output_type": "stream",
     "name": "stdout",
     "text": [
      "['((()))', '(()())', '(())()', '()(())', '()()()']\n",
      "['(((())))', '((()()))', '((())())', '((()))()', '(()(()))', '(()()())', '(()())()', '(())(())', '(())()()', '()((()))', '()(()())', '()(())()', '()()(())', '()()()()']\n"
     ]
    }
   ],
   "metadata": {}
  },
  {
   "cell_type": "markdown",
   "source": [
    "# Print N-bit binary numbers having more 1's than 0's in all its prefixes\r\n",
    "\r\n",
    "Input: 3\r\n",
    "Output: ['111','110','101']"
   ],
   "metadata": {}
  },
  {
   "cell_type": "code",
   "execution_count": 45,
   "source": [
    "def genBinaryPrefixes(n):\r\n",
    "    ones, zeros = 0,0\r\n",
    "    result = []\r\n",
    "    op = []\r\n",
    "    solvePrefixes(ones,zeros,n,op,result)\r\n",
    "    return result\r\n",
    "\r\n",
    "def solvePrefixes(ones,zeros,n,op,result):\r\n",
    "    if n==0:\r\n",
    "        result.append(''.join(op))\r\n",
    "        return\r\n",
    "    op1 = op[:]\r\n",
    "    op1.append('1')\r\n",
    "    solvePrefixes(ones+1,zeros,n-1,op1,result)\r\n",
    "    if ones>zeros:\r\n",
    "        op2 = op[:]\r\n",
    "        op2.append('0')\r\n",
    "        solvePrefixes(ones,zeros+1,n-1,op2,result)\r\n",
    "    return\r\n",
    "\r\n",
    "print(genBinaryPrefixes(3))"
   ],
   "outputs": [
    {
     "output_type": "stream",
     "name": "stdout",
     "text": [
      "['111', '110', '101']\n"
     ]
    }
   ],
   "metadata": {}
  },
  {
   "cell_type": "markdown",
   "source": [
    "# Game of DEATH in a circle - Josephus Problem\r\n",
    "\r\n",
    "## LC- 1823: Find the Winner of the Circular Game\r\n",
    "\r\n",
    "Find the position in the circle which remains after all other elements are removed.\r\n",
    "\r\n",
    "History/Story: Josephus belonged to Jews army and during the war btw Romans and Jews, a group of 40 Jewish army men escaped into a cave. Josephus suggested that these army men kill each other instead of surrendering and loosing life on enemy's sword. The idea suggested was that the men stand in a circle and every member count from 1 to 7 and the 7th one would be killed. After recursing the last man that would  remain would have to commit suicide. It is said that the last person to stay alive was Josephus and he surrendered to Romans instead of committing suicide thereby betraying his men. \r\n",
    "Josephus was a mathematician, he chose his position in the circle to be 24 that was the only position that he would stay alive at.\r\n",
    "\r\n",
    "The ask of this problem is the same, to find the position which would still contain element after others are deleted given the total number of elements(total men in the story) and the deletion index(7th member in the story)"
   ],
   "metadata": {}
  },
  {
   "cell_type": "code",
   "execution_count": 52,
   "source": [
    "# we will use an array instead of a circular linked list\r\n",
    "def keepAlivePosition(n,k):\r\n",
    "    people = [i for i in range(n)]\r\n",
    "    k = k-1 #because arr is 0 index\r\n",
    "    index = 0\r\n",
    "    ans = [0]\r\n",
    "    solvePosition(people,k,index,ans)\r\n",
    "    return ans[0]+1 # converting the value to 1 indexed to identify the right position\r\n",
    "\r\n",
    "def solvePosition(people,k,index,ans):\r\n",
    "    if len(people)==1:\r\n",
    "        ans[0] = people[0]\r\n",
    "        return\r\n",
    "    index = (index+k)%len(people)\r\n",
    "    people.pop(index)\r\n",
    "    solvePosition(people,k,index,ans)\r\n",
    "    return\r\n",
    "\r\n",
    "print(keepAlivePosition(40,7))"
   ],
   "outputs": [
    {
     "output_type": "stream",
     "name": "stdout",
     "text": [
      "24\n"
     ]
    }
   ],
   "metadata": {}
  },
  {
   "cell_type": "code",
   "execution_count": null,
   "source": [],
   "outputs": [],
   "metadata": {}
  }
 ],
 "metadata": {
  "orig_nbformat": 4,
  "language_info": {
   "name": "python",
   "version": "3.8.10",
   "mimetype": "text/x-python",
   "codemirror_mode": {
    "name": "ipython",
    "version": 3
   },
   "pygments_lexer": "ipython3",
   "nbconvert_exporter": "python",
   "file_extension": ".py"
  },
  "kernelspec": {
   "name": "python3",
   "display_name": "Python 3.8.10 64-bit (windows store)"
  },
  "interpreter": {
   "hash": "016e124bb190dde6d7394a43e256aeaad55640fa89fa7487e5e8d38e1342c05f"
  }
 },
 "nbformat": 4,
 "nbformat_minor": 2
}