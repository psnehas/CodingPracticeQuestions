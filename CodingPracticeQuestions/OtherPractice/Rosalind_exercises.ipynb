{
 "metadata": {
  "language_info": {
   "codemirror_mode": {
    "name": "ipython",
    "version": 3
   },
   "file_extension": ".py",
   "mimetype": "text/x-python",
   "name": "python",
   "nbconvert_exporter": "python",
   "pygments_lexer": "ipython3",
   "version": 3
  },
  "orig_nbformat": 2,
  "kernelspec": {
   "name": "python_defaultSpec_1596572677420",
   "display_name": "Python 3.7.6 64-bit ('torch': conda)"
  }
 },
 "nbformat": 4,
 "nbformat_minor": 2,
 "cells": [
  {
   "cell_type": "code",
   "execution_count": null,
   "metadata": {},
   "outputs": [],
   "source": [
    "# rosalind1\n",
    "def hypotenuse(a,b):\n",
    "    return(a**2 + b**2)\n",
    "\n",
    "# rosalind2\n",
    "def string_slice(string, a, b,c,d):\n",
    "    return (string[a:b+1]+\" \"+string[c:d+1])"
   ]
  },
  {
   "cell_type": "code",
   "execution_count": null,
   "metadata": {},
   "outputs": [],
   "source": [
    "# rosalind3\n",
    "def cond_loops(a,b):\n",
    "    return sum([val for val in range(a,b+1) if val%2!=0])"
   ]
  },
  {
   "cell_type": "code",
   "execution_count": 14,
   "metadata": {
    "tags": []
   },
   "outputs": [
    {
     "output_type": "stream",
     "name": "stdout",
     "text": "Some things in life are bad, they can really make you mad\nOther things just make you swear and curse\nWhen you're chewing on life's gristle, don't grumble give a whistle\nThis will help things turn out for the best\nAlways look on the bright side of life\nAlways look on the right side of life\nIf life seems jolly rotten, there's something you've forgotten\nAnd that's to laugh and smile and dance and sing\nWhen you're feeling in the dumps, don't be silly, chumps\nJust purse your lips and whistle, that's the thing\nSo, always look on the bright side of death\nJust before you draw your terminal breath\nLife's a counterfeit and when you look at it\nLife's a laugh and death's the joke, it's true\nYou see, it's all a show, keep them laughing as you go\nJust remember the last laugh is on you\nAlways look on the bright side of life\nAnd always look on the right side of life\nAlways look on the bright side of life\nAnd always look on the right side of life\n"
    }
   ],
   "source": [
    "# rosalind4\n",
    "with open(\"C:\\\\Users\\\\SNEHA\\\\Documents\\\\255_files\\\\rosalind_ini5.txt\",'r') as f:\n",
    "    data = f.readlines()\n",
    "\n",
    "\n",
    "res = [line for index,line in enumerate(data) if index%2!=0]\n",
    "for line in res:\n",
    "    print(line, end = \"\")"
   ]
  },
  {
   "cell_type": "code",
   "execution_count": null,
   "metadata": {},
   "outputs": [],
   "source": []
  },
  {
   "cell_type": "code",
   "execution_count": 32,
   "metadata": {
    "tags": []
   },
   "outputs": [],
   "source": [
    "import collections\n",
    "import os\n",
    "with open(\"C:\\\\Users\\\\SNEHA\\\\Documents\\\\255_files\\\\rosalind_ini6 (2).txt\",'r') as f:\n",
    "    data = f.read()\n",
    "    # string=' '.join(data)\n",
    "\n",
    "def dictionaries(string):\n",
    "    d = collections.defaultdict(int)\n",
    "    for word in string.split():\n",
    "        d[word]+=1\n",
    "    try:\n",
    "        os.remove(\"C:\\\\Users\\\\SNEHA\\\\Documents\\\\255_files\\\\rosalind_ini_sol.txt\")\n",
    "    except OSError:\n",
    "        pass\n",
    "    for key,value in d.items():\n",
    "        with open(\"C:\\\\Users\\\\SNEHA\\\\Documents\\\\255_files\\\\rosalind_ini_sol.txt\",'a') as file:\n",
    "            file.write(str(key)+\" \"+str(value)+\"\\n\")\n",
    "          \n",
    "dictionaries(data)"
   ]
  },
  {
   "cell_type": "code",
   "execution_count": 46,
   "metadata": {},
   "outputs": [],
   "source": [
    "def insertion_sort(arr):\n",
    "  count = 0\n",
    "  for i in range(1,len(arr)):\n",
    "    elem = arr[i] #10 4\n",
    "    j = i-1 #0 1\n",
    "    while j>=0 and elem<arr[j]: #10<6 4<10\n",
    "      arr[j+1] = arr[j] # 6 4 10 \n",
    "      arr[j] = elem \n",
    "      j-=1\n",
    "      count+=1\n",
    "  return count"
   ]
  },
  {
   "cell_type": "code",
   "execution_count": 48,
   "metadata": {
    "tags": []
   },
   "outputs": [
    {
     "output_type": "execute_result",
     "data": {
      "text/plain": "221443"
     },
     "metadata": {},
     "execution_count": 48
    }
   ],
   "source": [
    "with open(\"C:\\\\Users\\\\SNEHA\\\\Documents\\\\255_files\\\\rosalind_ins (1).txt\",'r') as f:\n",
    "    data = f.readlines()\n",
    "# print(data[1])\n",
    "arr = [int(val) for val in data[1].split()]\n",
    "insertion_sort(arr)"
   ]
  },
  {
   "cell_type": "code",
   "execution_count": null,
   "metadata": {},
   "outputs": [],
   "source": []
  }
 ]
}