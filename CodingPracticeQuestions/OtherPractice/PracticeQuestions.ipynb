{
 "metadata": {
  "language_info": {
   "codemirror_mode": {
    "name": "ipython",
    "version": 3
   },
   "file_extension": ".py",
   "mimetype": "text/x-python",
   "name": "python",
   "nbconvert_exporter": "python",
   "pygments_lexer": "ipython3",
   "version": "3.8.3"
  },
  "orig_nbformat": 2,
  "kernelspec": {
   "name": "python3",
   "display_name": "Python 3",
   "language": "python"
  }
 },
 "nbformat": 4,
 "nbformat_minor": 2,
 "cells": [
  {
   "cell_type": "code",
   "execution_count": 1,
   "metadata": {},
   "outputs": [
    {
     "output_type": "stream",
     "name": "stdout",
     "text": [
      "[0, 1, 2, 3]\n"
     ]
    }
   ],
   "source": [
    "# sort an array\n",
    "def insert(arr, temp):\n",
    "    if len(arr)==0 or arr[-1]<=temp:\n",
    "        arr.append(temp)\n",
    "        return\n",
    "    val = arr.pop()\n",
    "    insert(arr,temp)\n",
    "    arr.append(val)\n",
    "\n",
    "def arr_sort(arr):\n",
    "    # base case\n",
    "    if len(arr)==0:\n",
    "        return \n",
    "    temp = arr.pop()\n",
    "    arr_sort(arr)\n",
    "    insert(arr,temp)\n",
    "    return arr\n",
    "\n",
    "print(arr_sort([1,3,0,2]))\n"
   ]
  },
  {
   "cell_type": "code",
   "execution_count": null,
   "metadata": {},
   "outputs": [],
   "source": [
    "# Fibonacci\n",
    "#0 1 1 2 3 5 8 13 21 34 \n",
    "\n",
    "def fib(n):\n",
    "    if n<=1:\n",
    "        return n\n",
    "    return fib(n-1)+fib(n-2)\n",
    "\n",
    "print(fib(3))"
   ]
  },
  {
   "cell_type": "code",
   "execution_count": 3,
   "metadata": {},
   "outputs": [
    {
     "output_type": "stream",
     "name": "stdout",
     "text": [
      "10\n"
     ]
    }
   ],
   "source": [
    "# given n=4321 return 4+3+2+1\n",
    "def rec_sum(n):\n",
    "    # base case\n",
    "    if n==0:\n",
    "        return 0\n",
    "    return (n%10) + rec_sum(n//10)\n",
    "\n",
    "print(rec_sum(4321))\n"
   ]
  },
  {
   "cell_type": "code",
   "execution_count": 1,
   "metadata": {},
   "outputs": [
    {
     "output_type": "stream",
     "name": "stdout",
     "text": [
      "[]\n['i', 'love', 'dogs', 'John']\n"
     ]
    }
   ],
   "source": [
    "# given a phrase and a set of words the function will determine if it is possible to split the string in a way in which words can be made from the list of words.\n",
    "\n",
    "def word_split(phrase, wordsList, result=None):\n",
    "    # create an empty list in case of the first iteration. Makes it easier. If we were to do result=[] without that check - it would reassign the result everytime.\n",
    "    if result is None:\n",
    "        result = []\n",
    "    for word in wordsList:\n",
    "        if phrase.startswith(word):\n",
    "            result.append(word)\n",
    "            return word_split(phrase[len(word):], wordsList, result)\n",
    "    return result\n",
    "\n",
    "print(word_split(\"themanran\",['clown','ran','man']))\n",
    "print(word_split(\"ilovedogsJohn\",['i','am','a','dogs','lover','love','John']))\n"
   ]
  },
  {
   "cell_type": "code",
   "execution_count": 3,
   "metadata": {},
   "outputs": [
    {
     "output_type": "stream",
     "name": "stdout",
     "text": [
      "dlrow olleh\n"
     ]
    }
   ],
   "source": [
    "# reverse a string using recursion\n",
    "\n",
    "def reverse_string(str):\n",
    "    if len(str)<=1:\n",
    "        return str\n",
    "    return reverse_string(str[1:])+str[0]\n",
    "\n",
    "print(reverse_string(\"hello world\"))\n"
   ]
  },
  {
   "cell_type": "code",
   "execution_count": 8,
   "metadata": {},
   "outputs": [
    {
     "output_type": "stream",
     "name": "stdout",
     "text": [
      "['abc', 'acb', 'bac', 'bca', 'cab', 'cba']\n"
     ]
    }
   ],
   "source": [
    "#  string permutation\n",
    "# abc = abc, acb, bac, bca and so on\n",
    "def permutations(s):\n",
    "    # iterate through initial string - for each character set aside the character and find all permmutions of the remaining.\n",
    "    result = []\n",
    "    # base case\n",
    "    if len(s)==1:\n",
    "        result = [s]\n",
    "    else:\n",
    "        for i,char in enumerate(s):\n",
    "            for perm in permutations(s[:i]+s[i+1:]):\n",
    "                result+=[char+perm]\n",
    "    return result\n",
    "\n",
    "\n",
    "print(permutations(\"abc\"))\n"
   ]
  },
  {
   "cell_type": "code",
   "execution_count": 12,
   "metadata": {},
   "outputs": [
    {
     "output_type": "error",
     "ename": "IndexError",
     "evalue": "list index out of range",
     "traceback": [
      "\u001b[1;31m---------------------------------------------------------------------------\u001b[0m",
      "\u001b[1;31mIndexError\u001b[0m                                Traceback (most recent call last)",
      "\u001b[1;32m<ipython-input-12-60b96a28b422>\u001b[0m in \u001b[0;36m<module>\u001b[1;34m\u001b[0m\n\u001b[0;32m      2\u001b[0m \u001b[0md\u001b[0m \u001b[1;33m=\u001b[0m \u001b[0mcollections\u001b[0m\u001b[1;33m.\u001b[0m\u001b[0mdefaultdict\u001b[0m\u001b[1;33m(\u001b[0m\u001b[0mlist\u001b[0m\u001b[1;33m)\u001b[0m\u001b[1;33m\u001b[0m\u001b[1;33m\u001b[0m\u001b[0m\n\u001b[0;32m      3\u001b[0m \u001b[0marr\u001b[0m \u001b[1;33m=\u001b[0m \u001b[1;33m[\u001b[0m\u001b[1;36m1\u001b[0m\u001b[1;33m,\u001b[0m\u001b[1;36m1\u001b[0m\u001b[1;33m]\u001b[0m\u001b[1;33m\u001b[0m\u001b[1;33m\u001b[0m\u001b[0m\n\u001b[1;32m----> 4\u001b[1;33m \u001b[0md\u001b[0m\u001b[1;33m[\u001b[0m\u001b[0marr\u001b[0m\u001b[1;33m[\u001b[0m\u001b[1;36m0\u001b[0m\u001b[1;33m]\u001b[0m\u001b[1;33m]\u001b[0m\u001b[1;33m[\u001b[0m\u001b[1;36m0\u001b[0m\u001b[1;33m]\u001b[0m \u001b[1;33m+=\u001b[0m \u001b[1;36m1\u001b[0m\u001b[1;33m\u001b[0m\u001b[1;33m\u001b[0m\u001b[0m\n\u001b[0m\u001b[0;32m      5\u001b[0m \u001b[0md\u001b[0m\u001b[1;33m[\u001b[0m\u001b[0marr\u001b[0m\u001b[1;33m[\u001b[0m\u001b[1;36m0\u001b[0m\u001b[1;33m]\u001b[0m\u001b[1;33m]\u001b[0m\u001b[1;33m[\u001b[0m\u001b[1;36m1\u001b[0m\u001b[1;33m]\u001b[0m\u001b[1;33m.\u001b[0m\u001b[0mappend\u001b[0m\u001b[1;33m(\u001b[0m\u001b[1;34m\"hi\"\u001b[0m\u001b[1;33m)\u001b[0m\u001b[1;33m\u001b[0m\u001b[1;33m\u001b[0m\u001b[0m\n\u001b[0;32m      6\u001b[0m \u001b[0mprint\u001b[0m\u001b[1;33m(\u001b[0m\u001b[0md\u001b[0m\u001b[1;33m)\u001b[0m\u001b[1;33m\u001b[0m\u001b[1;33m\u001b[0m\u001b[0m\n",
      "\u001b[1;31mIndexError\u001b[0m: list index out of range"
     ]
    }
   ],
   "source": []
  },
  {
   "cell_type": "code",
   "execution_count": 14,
   "metadata": {},
   "outputs": [
    {
     "output_type": "stream",
     "name": "stdout",
     "text": [
      "[0, 1, 2, 5]\n"
     ]
    }
   ],
   "source": [
    "# sort a stack\n",
    "\n",
    "stack = [5,1,0,2]\n",
    "\n",
    "def sortStack(stack):\n",
    "    if not stack or len(stack)==1:\n",
    "        return stack\n",
    "    temp = stack.pop()\n",
    "    sortStack(stack)\n",
    "    insert(stack,temp)\n",
    "    return stack\n",
    "\n",
    "def insert(stack,temp):\n",
    "    if not stack or stack[-1]<=temp:\n",
    "        stack.append(temp)\n",
    "        return\n",
    "    val = stack.pop()\n",
    "    insert(stack,temp)\n",
    "    stack.append(val)\n",
    "    return\n",
    "\n",
    "print(sortStack(stack))"
   ]
  },
  {
   "cell_type": "code",
   "execution_count": 15,
   "metadata": {},
   "outputs": [
    {
     "output_type": "stream",
     "name": "stdout",
     "text": [
      "True\nTrue\nFalse\nTrue\n"
     ]
    }
   ],
   "source": [
    "def check_palindrome(str):\n",
    "    if len(str)<=1:\n",
    "        return True\n",
    "    elif str[0]!=str[-1]:\n",
    "        return False\n",
    "    return check_palindrome(str[1:-1])\n",
    "\n",
    "print(check_palindrome(\"mom\"))\n",
    "print(check_palindrome(\"aa\"))\n",
    "print(check_palindrome(\"tea\"))\n",
    "print(check_palindrome(\"\"))"
   ]
  },
  {
   "cell_type": "code",
   "execution_count": 6,
   "metadata": {},
   "outputs": [
    {
     "output_type": "stream",
     "name": "stdout",
     "text": [
      "left\n"
     ]
    }
   ],
   "source": [
    "'''\n",
    "Given a binary tree representeed as an array [3,6,2,9,-1,10] where -1 is a non-existing node, write a function that determines whether the left or right branch of the tree is larger. The size of each branch is the sum of the node values. The function should return \"right\" if the right branch is larger and \"left\" if the left branch is larger. If there are 0 nodes or if the branches are equal, the function should return an empty string.\n",
    "\n",
    "'''\n",
    "\n",
    "def largerBranch(arr):\n",
    "    n = len(arr)\n",
    "    if n==0:\n",
    "        return \"\"\n",
    "    leftBranch = sumNodeValues(arr,1,n)\n",
    "    rightBranch = sumNodeValues(arr,2,n)\n",
    "    # return \"\" if leftBranch==rightBranch else \"left\" if leftBranch>rightBranch else \"right\"\n",
    "    if leftBranch>rightBranch:\n",
    "        return \"left\"\n",
    "    elif leftBranch<rightBranch:\n",
    "        return \"right\"\n",
    "    else:\n",
    "        return \"\"\n",
    "    # retu\n",
    "\n",
    "def sumNodeValues(arr,i,n):\n",
    "    if i<n:\n",
    "        if arr[i]==-1:\n",
    "            return 0\n",
    "        return arr[i]+sumNodeValues(arr,2*i,n)+sumNodeValues(arr,2*i+1,n)\n",
    "    return 0\n",
    "\n",
    "print(largerBranch([3,1,2,-1,-1,3,-1]))\n"
   ]
  },
  {
   "cell_type": "code",
   "execution_count": null,
   "metadata": {},
   "outputs": [],
   "source": []
  }
 ]
}