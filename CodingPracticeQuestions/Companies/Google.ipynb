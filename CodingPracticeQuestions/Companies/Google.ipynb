{
 "cells": [
  {
   "cell_type": "code",
   "execution_count": null,
   "source": [
    "## 1423. Maximum Points You Can Obtain from Cards\r\n",
    "\r\n",
    "''' \r\n",
    "Input: cardPoints = [1,2,3,4,5,6,1], k = 3\r\n",
    "Output: 12\r\n",
    "\r\n",
    "Input: cardPoints = [9,7,7,9,7,7,9], k = 7\r\n",
    "Output: 55\r\n",
    "'''\r\n",
    "class Solution:\r\n",
    "    def maxScore(self, cardPoints: List[int], k: int) -> int:\r\n",
    "        if not cardPoints:\r\n",
    "            return 0\r\n",
    "        minSum = float(\"inf\")\r\n",
    "        start, curSum = 0,0\r\n",
    "        \r\n",
    "        size = len(cardPoints)-k\r\n",
    "        \r\n",
    "        for end, num in enumerate(cardPoints):\r\n",
    "            curSum+=num\r\n",
    "            if end-start+1>size:\r\n",
    "                curSum-=cardPoints[start]\r\n",
    "                start+=1\r\n",
    "            if end-start+1==size:\r\n",
    "                minSum = min(minSum,curSum)\r\n",
    "        return sum(cardPoints) - minSum\r\n",
    "\r\n",
    "    "
   ],
   "outputs": [],
   "metadata": {}
  }
 ],
 "metadata": {
  "orig_nbformat": 4,
  "language_info": {
   "name": "python"
  }
 },
 "nbformat": 4,
 "nbformat_minor": 2
}