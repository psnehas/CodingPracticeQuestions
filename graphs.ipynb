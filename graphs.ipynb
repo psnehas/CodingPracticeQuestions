{
 "metadata": {
  "language_info": {
   "codemirror_mode": {
    "name": "ipython",
    "version": 3
   },
   "file_extension": ".py",
   "mimetype": "text/x-python",
   "name": "python",
   "nbconvert_exporter": "python",
   "pygments_lexer": "ipython3",
   "version": "3.7.6-final"
  },
  "orig_nbformat": 2,
  "kernelspec": {
   "name": "Python 3.7.6 64-bit ('torch': conda)",
   "display_name": "Python 3.7.6 64-bit ('torch': conda)",
   "metadata": {
    "interpreter": {
     "hash": "92183dc60824bc67df95380206d2e0eca44c939f47038cd2c4c1f78bb1211dad"
    }
   }
  }
 },
 "nbformat": 4,
 "nbformat_minor": 2,
 "cells": [
  {
   "cell_type": "code",
   "execution_count": 19,
   "metadata": {},
   "outputs": [],
   "source": [
    "class Graph:\n",
    "    def __init__(self):\n",
    "        self.edges = {}\n",
    "    \n",
    "    def add_edges(self, start_vertex, end_vertex):\n",
    "        if start_vertex not in self.edges:\n",
    "            self.edges[start_vertex] = []\n",
    "        if end_vertex not in self.edges:\n",
    "            self.edges[end_vertex] = []\n",
    "        self.edges[start_vertex].append(end_vertex)\n"
   ]
  },
  {
   "cell_type": "code",
   "execution_count": 30,
   "metadata": {},
   "outputs": [],
   "source": [
    "\n",
    "'''\n",
    "In order to detect if a graph has a cycle, we need to dfs over the neighbor nodes of a node, mark them visited, if this node is reached again, then there is a cycle for sure. Just marking visited would create problems when the graph doesn't contain a cycle but there are dead ends-> the algo will return true in this case which is wrong. So we need another pointer, done visiting meaning that the traversal on that particular node is complete.. \n",
    "'''\n",
    "VISITING = 0\n",
    "DONE_VISITING = 1\n",
    "\n",
    "def has_cycle(graph):\n",
    "    vertex_states = {}\n",
    "    for node in graph.edges:\n",
    "        if has_cycle_helper(graph, node, vertex_states):\n",
    "            return True\n",
    "    return False\n",
    "\n",
    "def has_cycle_helper(graph, node, vertex_states):\n",
    "    if node in vertex_states and vertex_states[node]==DONE_VISITING:\n",
    "        return False\n",
    "    vertex_states[node] = VISITING\n",
    "    for neighbor in graph.edges[node]:\n",
    "        if neighbor in vertex_states:\n",
    "            if vertex_states[neighbor]==VISITING:\n",
    "                print(\"into the if visiting!\", neighbor)\n",
    "                return True\n",
    "            elif vertex_states[neighbor]==DONE_VISITING:\n",
    "                continue\n",
    "        else:\n",
    "            print(\"neighbor for hsh:\", neighbor)\n",
    "            if has_cycle_helper(graph, neighbor, vertex_states):\n",
    "                return True\n",
    "            else:\n",
    "                vertex_states[neighbor]==DONE_VISITING\n",
    "    print(vertex_states)\n",
    "    return False"
   ]
  },
  {
   "cell_type": "code",
   "execution_count": 31,
   "metadata": {},
   "outputs": [
    {
     "output_type": "stream",
     "name": "stdout",
     "text": [
      "{}\n{1: [2], 2: [3], 3: [4], 4: []}\nneighbor for hsh: 2\nneighbor for hsh: 3\nneighbor for hsh: 4\n{1: 0, 2: 0, 3: 0, 4: 0}\n{1: 0, 2: 0, 3: 0, 4: 0}\n{1: 0, 2: 0, 3: 0, 4: 0}\n{1: 0, 2: 0, 3: 0, 4: 0}\ninto the if visiting! 3\nTrue\n"
     ]
    }
   ],
   "source": [
    "graph = Graph()\n",
    "print(graph.edges)\n",
    "graph.add_edges(1,2)\n",
    "graph.add_edges(2,3)\n",
    "graph.add_edges(3,4)\n",
    "print(graph.edges)\n",
    "print(has_cycle(graph))"
   ]
  },
  {
   "cell_type": "code",
   "execution_count": 35,
   "metadata": {},
   "outputs": [],
   "source": [
    "'''\n",
    "Topological sort\n",
    "assuming graph to be adjacency list\n",
    "'''\n",
    "from collections import deque\n",
    "def top_sort(graph):\n",
    "    visited = set()\n",
    "    top_sort_res = deque()\n",
    "    for node in graph:\n",
    "        if node not in visited:\n",
    "            dfs(graph, node, visited, top_sort_res)\n",
    "    return list(top_sort_res)\n",
    "\n",
    "def dfs(graph, node, visited,top_sort_res):\n",
    "    visited.add(node)\n",
    "    if node in graph:\n",
    "        for neighbor in graph[node]:\n",
    "            if neighbor not in visited:\n",
    "                dfs(graph,neighbor,visited,top_sort_res)\n",
    "    top_sort_res.appendleft(node)\n",
    "\n",
    "\n"
   ]
  },
  {
   "cell_type": "code",
   "execution_count": 38,
   "metadata": {},
   "outputs": [
    {
     "output_type": "stream",
     "name": "stdout",
     "text": [
      "[4, 1, 2, 3]\n"
     ]
    }
   ],
   "source": [
    "graph = {4:[1,2], 1: [2,3], 2:[3]}\n",
    "print(top_sort(graph))"
   ]
  },
  {
   "cell_type": "code",
   "execution_count": 45,
   "metadata": {},
   "outputs": [
    {
     "output_type": "stream",
     "name": "stdout",
     "text": [
      "False\n"
     ]
    }
   ],
   "source": [
    "'''\n",
    "Route between nodes -> CTCI 4.1\n",
    "Given a directed graph and two nodes S and E, design an algorithm to find out whether there is a route from S to E\n",
    "'''\n",
    "\n",
    "graph = {0:[1,2,4], 1:[3,4], 2:[4]}\n",
    "S = 0\n",
    "E = 5\n",
    "\n",
    "def pathExists(graph, S, E):\n",
    "    visited = set()\n",
    "    for node in graph:\n",
    "        if node==S:\n",
    "            if dfs(node, E, graph, visited):\n",
    "                return True\n",
    "    return False\n",
    "\n",
    "def dfs(startNode, E, graph, visited):\n",
    "    visited.add(startNode)\n",
    "    if startNode == E:\n",
    "        return True\n",
    "    if startNode in graph:\n",
    "        for neighbor in graph[startNode]:\n",
    "            if neighbor not in visited:\n",
    "                if neighbor==E:\n",
    "                    return True\n",
    "                else:\n",
    "                    return dfs(neighbor, E,graph, visited)\n",
    "    return False\n",
    "\n",
    "print(pathExists(graph, S, E))"
   ]
  },
  {
   "cell_type": "code",
   "execution_count": null,
   "metadata": {},
   "outputs": [],
   "source": []
  }
 ]
}