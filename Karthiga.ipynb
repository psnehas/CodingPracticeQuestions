{
 "metadata": {
  "language_info": {
   "codemirror_mode": {
    "name": "ipython",
    "version": 3
   },
   "file_extension": ".py",
   "mimetype": "text/x-python",
   "name": "python",
   "nbconvert_exporter": "python",
   "pygments_lexer": "ipython3",
   "version": "3.7.6-final"
  },
  "orig_nbformat": 2,
  "kernelspec": {
   "name": "python_defaultSpec_1597712567701",
   "display_name": "Python 3.7.6 64-bit ('torch': conda)"
  }
 },
 "nbformat": 4,
 "nbformat_minor": 2,
 "cells": [
  {
   "cell_type": "code",
   "execution_count": 11,
   "metadata": {
    "tags": []
   },
   "outputs": [
    {
     "output_type": "stream",
     "name": "stdout",
     "text": "['t', 'h', 'i', 's', ' ', 'i', 's', ' ', 'a', ' ', 'g', 'r', 'e', 'a', 't', ' ', 'd', 'a', 'y', ' ', 't', 'o', ' ', 'e', 'a', 't', ' ', 'a', 'n', ' ', 'a', 'p', 'p', 'l', 'e']\nthis is a great day to eat an apple\n"
    }
   ],
   "source": [
    "'''\n",
    "You have been given a string s, which is supposed to be a sentence. However, someone forgot to put spaces between the different words, and for some reason they capitalized the first letter of every word. Return the sentence after making the following amendments:\n",
    "\n",
    "Put a single space between the words.\n",
    "Convert the uppercase letters to lowercase.\n",
    "\n",
    "Input: \"CodesignalIsAwesome\"\n",
    "Ouput: \"codesignal is awesome\"\n",
    "\n",
    "'''\n",
    "\n",
    "def split_string(inp_str):\n",
    "    words_list = [inp_str[0].lower()]\n",
    "    for i in range(1,len(inp_str)):\n",
    "        if inp_str[i].isupper():\n",
    "            words_list.append(\" \")\n",
    "            words_list.append(inp_str[i].lower())\n",
    "        else:\n",
    "            words_list.append(inp_str[i])\n",
    "    print(words_list)\n",
    "    return ''.join(words_list)\n",
    "  \n",
    "\n",
    "\n",
    "print(split_string(\"ThisIsAGreatDayToEatAnApple\"))\n",
    "\n"
   ]
  },
  {
   "cell_type": "code",
   "execution_count": null,
   "metadata": {},
   "outputs": [],
   "source": [
    "'''\n",
    "readable but not efficient. List takes up linear time in fetching the data.\n",
    "Total runtime: O(N*M) where N is the length of inp, M is the number of capitals in the list\n",
    "'''\n",
    "import re\n",
    "def split(inp):\n",
    "    words_list = []\n",
    "    capitals = re.findall(\"[A-Z]\",inp)\n",
    "    words_list.append(inp[0].lower())\n",
    "    for i in range(1,len(inp)):\n",
    "        if inp[i] in capitals:\n",
    "            words_list.append(\" \")\n",
    "            words_list.append(inp[i].lower())\n",
    "        else:\n",
    "            words_list.append(inp[i])\n",
    "    return \"\".join(words_list)\n",
    " \n",
    "                \n",
    "            \n",
    "print(split(\"ThisIsAGreatDayToEatAnApple\"))\n"
   ]
  },
  {
   "cell_type": "code",
   "execution_count": null,
   "metadata": {},
   "outputs": [],
   "source": [
    "# Karthiga Solution\n",
    "def amendTheSentence(s):\n",
    "    list1 = []\n",
    "    list2 = []\n",
    "    count = 0\n",
    "    for index, i in enumerate(range(len(s))):\n",
    "        if s[i].isupper():\n",
    "            list1.append(index)\n",
    "    if list1[0] != 0:\n",
    "        list2.append(s[0:list1[0]])\n",
    "    for j in range(len(list1)-1):\n",
    "        list2.append(s[list1[j]:list1[j+1]])\n",
    "        \n",
    "    list2.append(s[list1[-1]:])\n",
    "    print(list2)\n",
    "    str1 = list2[0].lower()\n",
    "    for i in range(1,len(list2)):\n",
    "        str1 = str1 + ' ' + list2[i].lower()\n",
    "        \n",
    "    return str1"
   ]
  }
 ]
}