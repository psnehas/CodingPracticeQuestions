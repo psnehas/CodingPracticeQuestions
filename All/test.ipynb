{
 "cells": [
  {
   "cell_type": "code",
   "execution_count": null,
   "source": [
    "age = 42\r\n",
    "gender = \"male\"\r\n",
    "disease = \"asthama\"\r\n",
    "profession = \"teacher\"\r\n",
    "# input = [age,gender,disease,profession]\r\n",
    "\r\n",
    "\r\n",
    "def isEligible(age,gender,disease=None,profession=None):\r\n",
    "    if profession==\"teacher\":\r\n",
    "        if disease==\"diabetics\":\r\n",
    "            return False\r\n",
    "    \r\n",
    "    elif gender==\"male\" and age>40:\r\n",
    "        return True\r\n",
    "    \r\n",
    "    elif gender ==\"female\" and age>25:\r\n",
    "        if disease==\"asthama\":\r\n",
    "   \r\n",
    "    return True\r\n",
    "    \r\n",
    "if isEligible(age,gender,disease,profession):\r\n",
    "    print(\"Eligible for vaccination\")\r\n",
    "else:\r\n",
    "    print(\"not Eligible for vaccination\")\r\n",
    "\r\n"
   ],
   "outputs": [],
   "metadata": {}
  },
  {
   "cell_type": "code",
   "execution_count": null,
   "source": [],
   "outputs": [],
   "metadata": {}
  }
 ],
 "metadata": {
  "orig_nbformat": 4,
  "language_info": {
   "name": "python"
  }
 },
 "nbformat": 4,
 "nbformat_minor": 2
}