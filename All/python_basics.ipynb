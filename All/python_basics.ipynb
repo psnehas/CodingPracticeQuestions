{
 "metadata": {
  "language_info": {
   "codemirror_mode": {
    "name": "ipython",
    "version": 3
   },
   "file_extension": ".py",
   "mimetype": "text/x-python",
   "name": "python",
   "nbconvert_exporter": "python",
   "pygments_lexer": "ipython3",
   "version": "3.7.6-final"
  },
  "orig_nbformat": 2,
  "kernelspec": {
   "name": "python_defaultSpec_1599289024355",
   "display_name": "Python 3.7.6 64-bit ('torch': conda)"
  }
 },
 "nbformat": 4,
 "nbformat_minor": 2,
 "cells": [
  {
   "cell_type": "markdown",
   "metadata": {},
   "source": [
    "### Lambda function\n"
   ]
  },
  {
   "cell_type": "code",
   "execution_count": 1,
   "metadata": {
    "tags": []
   },
   "outputs": [
    {
     "output_type": "stream",
     "name": "stdout",
     "text": "5\n"
    }
   ],
   "source": [
    "result = lambda x: x+2\n",
    "print(result(3))"
   ]
  },
  {
   "cell_type": "code",
   "execution_count": 2,
   "metadata": {
    "tags": []
   },
   "outputs": [
    {
     "output_type": "stream",
     "name": "stdout",
     "text": "2\n"
    }
   ],
   "source": [
    "list1 = [1,2,3,4,5]\n",
    "res = lambda x: x[1]\n",
    "print(res(list1))"
   ]
  },
  {
   "source": [
    "### Gray Code:: <br/>\n",
    "-> way of encoding numbers such that the adjacent numbers differ by only 1 bit. <br/>\n",
    "Properties: <br/>\n",
    "-> cycle through all 2^n combinations of n bits by changing only 1 bit at a time. <br/>\n",
    "-> a gray code number differs by 1 bit with its successor in the encoding <br/>\n",
    "Types: <br/>\n",
    "Reflected Binary Gray Code - <br/>\n",
    "start with <br/>\n",
    "n=1: 2^1 = 2 so 0 and 1 <br/>\n",
    "for n=2: 2^2 = 4 so use prev values and reflect them. Then prefix additional 0's and 1's to fill in. <br/>\n",
    "n=2: 2^2 = 4 so take 0 1 | 1 0 <br/>\n",
    "and add 0&1        00 01 | 11 10 <br/>\n",
    "n=3: 2^3 = 8 so 00 01 11 10 | 10 11 01 00 <br/>\n",
    "            000 001 011 010 | 110 111 101 100 <br/>\n",
    "\n",
    "So formally,<br/>\n",
    "BRGC defined recursively,<br/>\n",
    "L1 = 0,1 <br/>\n",
    "Ln = 0 . Ln-1, 1 . Ln-1 R <br/>\n",
    "    x . L : concatenation <br/>\n",
    "    LR : L in reverse order <br/>\n",
    "\n",
    "Binary to gray conversion and vice versa : <br/> (for n=4)\n",
    "Binary   \\t    Gray <br/>\n",
    "a b c d  \\t   e f g h   <br/\n",
    "0 0 0 0  \\t   0 0 0 0   <br/>\n",
    "0 0 0 1  \\t   0 0 0 1   <br/>\n",
    "0 0 1 0  \\t   0 0 1 1   <br/>\n",
    "0 0 1 1  \\t   0 0 1 0   <br/>\n",
    "0 1 0 0  \\t   0 1 1 0   <br/>\n",
    "0 1 0 1  \\t   0 1 1 1   <br/>\n",
    "0 1 1 0  \\t   0 1 0 1   <br/>\n",
    ". <br/>\n",
    ". <br/>\n",
    "\n",
    "B to G: <br/>\n",
    "e = a   <br/>\n",
    "f = a xor b = a ^ b <br/>\n",
    "g = b ^ c   <br/>\n",
    "h = c ^ d   <br/>\n",
    "\n",
    "G to B: <br/>\n",
    "a = e   <br/>\n",
    "b = e ^ f   <br/>\n",
    "c = e ^ f ^ g   <br/>\n",
    "d = e ^ f ^ g ^ h   <br/>\n",
    "\n",
    " "
   ],
   "cell_type": "markdown",
   "metadata": {}
  }
 ]
}