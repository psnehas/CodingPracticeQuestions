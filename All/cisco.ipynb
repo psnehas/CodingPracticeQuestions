{
 "metadata": {
  "language_info": {
   "codemirror_mode": {
    "name": "ipython",
    "version": 3
   },
   "file_extension": ".py",
   "mimetype": "text/x-python",
   "name": "python",
   "nbconvert_exporter": "python",
   "pygments_lexer": "ipython3",
   "version": "3.7.6-final"
  },
  "orig_nbformat": 2,
  "kernelspec": {
   "name": "python_defaultSpec_1598057872581",
   "display_name": "Python 3.7.6 64-bit"
  }
 },
 "nbformat": 4,
 "nbformat_minor": 2,
 "cells": [
  {
   "cell_type": "markdown",
   "metadata": {},
   "source": [
    "# CISCO OA Questions"
   ]
  },
  {
   "cell_type": "markdown",
   "metadata": {},
   "source": [
    "### Given a size N, print N lines consisting of N space-separated characters representing the chessboard.\n",
    "\n",
    "Input:<br/>\n",
    "5\n",
    "\n",
    "Output: <br/>\n",
    "W B W B W <br/>\n",
    "B W B W B <br/>\n",
    "W B W B W <br/>\n",
    "B W B W B <br/>\n",
    "W B W B W <br/>"
   ]
  },
  {
   "cell_type": "code",
   "execution_count": 2,
   "metadata": {
    "tags": []
   },
   "outputs": [
    {
     "output_type": "stream",
     "name": "stdout",
     "text": "[['W', 'B', 'W', 'B', 'W'], ['B', 'W', 'B', 'W', 'B'], ['W', 'B', 'W', 'B', 'W'], ['B', 'W', 'B', 'W', 'B'], ['W', 'B', 'W', 'B', 'W']]\n"
    }
   ],
   "source": [
    "# Karthiga solution\n",
    "\n",
    "size = 5\n",
    "matrix = [['W' for i in range(size)] for j in range(size) ]\n",
    "for i in range(size):\n",
    "    for j in range(size):\n",
    "        if i==0 and j==0:\n",
    "            continue\n",
    "        else:\n",
    "            if j==0:\n",
    "                if matrix[i-1][j]  == 'W':\n",
    "                    matrix[i][j] = 'B'\n",
    "                else:\n",
    "                    matrix[i][j] = 'W'\n",
    "                \n",
    "            else:\n",
    "                if matrix[i][j-1] == 'W':\n",
    "                    matrix[i][j] = 'B'\n",
    "                else:\n",
    "                    matrix[i][j] = 'W'\n",
    "\n",
    "print(matrix)"
   ]
  },
  {
   "cell_type": "code",
   "execution_count": null,
   "metadata": {},
   "outputs": [],
   "source": []
  }
 ]
}