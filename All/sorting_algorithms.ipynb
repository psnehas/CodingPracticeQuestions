{
 "metadata": {
  "language_info": {
   "codemirror_mode": {
    "name": "ipython",
    "version": 3
   },
   "file_extension": ".py",
   "mimetype": "text/x-python",
   "name": "python",
   "nbconvert_exporter": "python",
   "pygments_lexer": "ipython3",
   "version": "3.8.3-final"
  },
  "orig_nbformat": 2,
  "kernelspec": {
   "name": "python3",
   "display_name": "Python 3",
   "language": "python"
  }
 },
 "nbformat": 4,
 "nbformat_minor": 2,
 "cells": [
  {
   "cell_type": "code",
   "execution_count": 2,
   "metadata": {},
   "outputs": [],
   "source": [
    "arr = [3,0,0,7,-5]"
   ]
  },
  {
   "cell_type": "code",
   "execution_count": 3,
   "metadata": {},
   "outputs": [
    {
     "output_type": "stream",
     "name": "stdout",
     "text": [
      "[-5, 0, 0, 3, 7]\n"
     ]
    }
   ],
   "source": [
    "# Insertion sort\n",
    "def insertionSort(arr):\n",
    "    i = 1\n",
    "    # j= 0\n",
    "    while i<len(arr):\n",
    "        j = i-1\n",
    "        key = arr[i]\n",
    "        while j>=0 and arr[j]>=key:\n",
    "            arr[j+1] = arr[j]\n",
    "            j-=1\n",
    "        arr[j+1] = key\n",
    "        i+=1\n",
    "    return arr\n",
    "\n",
    "print(insertionSort(arr))"
   ]
  },
  {
   "cell_type": "code",
   "execution_count": 4,
   "metadata": {},
   "outputs": [
    {
     "output_type": "stream",
     "name": "stdout",
     "text": [
      "[-5, 0, 0, 3, 7]\n"
     ]
    }
   ],
   "source": [
    "# Merge Sort\n",
    "def mergeSort(arr):\n",
    "     if len(arr)==1:\n",
    "         return arr\n",
    "     mid = len(arr)//2\n",
    "     left = mergeSort(arr[:mid])\n",
    "     right = mergeSort(arr[mid:])\n",
    "     return merge(left,right)\n",
    "    \n",
    "def merge(left,right):\n",
    "    if len(left)==0 or len(right)==0:\n",
    "        return left or right\n",
    "    left_idx, right_idx = 0,0\n",
    "    result = []\n",
    "    while left_idx<len(left) and right_idx<len(right):\n",
    "        if left[left_idx]<=right[right_idx]:\n",
    "            result.append(left[left_idx])\n",
    "            left_idx+=1\n",
    "        else:\n",
    "            result.append(right[right_idx])\n",
    "            right_idx+=1\n",
    "    if left_idx<len(left):\n",
    "        result = result + left[left_idx:]\n",
    "        \n",
    "    if right_idx<len(right):\n",
    "        result=result+ right[right_idx:]\n",
    "    return result\n",
    "    \n",
    "print(mergeSort(arr))"
   ]
  },
  {
   "cell_type": "code",
   "execution_count": 5,
   "metadata": {},
   "outputs": [
    {
     "output_type": "stream",
     "name": "stdout",
     "text": [
      "[-5, 0, 0, 3, 7]\n"
     ]
    }
   ],
   "source": [
    "'''Quick sort:\n",
    "\n",
    "There are two major parts/routines/subroutines of sorts in quick sort. 1. Split or Quicksort 2. partition\n",
    "It has the split function or the quicksort function that splits the input -> calls the partition step first and -> based on the pivot we get back from the partition step it splits the data into left and right subtrees.\n",
    "Main goal of paritioning step is to find the pivot index (pivot -> the value within the partitioning space that I want to find a position for)'''\n",
    "\n",
    "# Quick Sort\n",
    "def quick(arr):\n",
    "    return quickSort(arr, 0, len(arr)-1)\n",
    "\n",
    "def quickSort(arr, low, high):\n",
    "    if low<high:\n",
    "        partition_index = partition(arr, low, high)\n",
    "        quickSort(arr,low, partition_index-1)\n",
    "        quickSort(arr, partition_index+1, high)\n",
    "    return arr\n",
    "    \n",
    "def partition(arr, low, high):\n",
    "    pivot = arr[low]\n",
    "    start = low\n",
    "    end = high\n",
    "    while start<end:\n",
    "        while arr[start]<=pivot:\n",
    "            start+=1\n",
    "        while arr[end]>pivot:\n",
    "            end-=1\n",
    "        if start<end:    \n",
    "            arr[start],arr[end] = arr[end],arr[start]\n",
    "    arr[end], arr[low] = arr[low], arr[end]\n",
    "    return end\n",
    "\n",
    "print(quick(arr))\n"
   ]
  },
  {
   "cell_type": "code",
   "execution_count": null,
   "metadata": {},
   "outputs": [],
   "source": []
  }
 ]
}