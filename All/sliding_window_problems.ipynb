{
 "metadata": {
  "language_info": {
   "codemirror_mode": {
    "name": "ipython",
    "version": 3
   },
   "file_extension": ".py",
   "mimetype": "text/x-python",
   "name": "python",
   "nbconvert_exporter": "python",
   "pygments_lexer": "ipython3",
   "version": "3.7.6-final"
  },
  "orig_nbformat": 2,
  "kernelspec": {
   "name": "Python 3.7.6 64-bit ('torch': conda)",
   "display_name": "Python 3.7.6 64-bit ('torch': conda)",
   "metadata": {
    "interpreter": {
     "hash": "92183dc60824bc67df95380206d2e0eca44c939f47038cd2c4c1f78bb1211dad"
    }
   }
  }
 },
 "nbformat": 4,
 "nbformat_minor": 2,
 "cells": [
  {
   "cell_type": "code",
   "execution_count": 5,
   "source": [
    "\r\n",
    "'''\r\n",
    "Given an array as input, extract the pair of contiguous integers that have the highest sum of all pairs. Return the pair as an array.\r\n",
    "Input: [5, 2, 4, 6, 3, 1]\r\n",
    "Output: (4,6)\r\n",
    "\r\n",
    "'''\r\n",
    "def contiguous_pair(arr):\r\n",
    "  max_sum = 0\r\n",
    "  temp = []\r\n",
    "  for i in range(0,len(arr)-1):\r\n",
    "    current_sum = 0\r\n",
    "    \r\n",
    "    current_sum+=arr[i]+arr[i+1]\r\n",
    "    # print(\"current_sum\",current_sum)\r\n",
    "    if current_sum>max_sum:\r\n",
    "      max_sum = current_sum\r\n",
    "    #   print(\"max_sum\",max_sum)\r\n",
    "      temp = [arr[i],arr[i+1]]\r\n",
    "    #   print(\"temp\", temp)\r\n",
    "  return temp\r\n",
    "print(contiguous_pair([1,3,2,2]))\r\n",
    "\r\n",
    "\r\n",
    "''' Second approach as of 15th Feb,2021'''\r\n",
    "def findPair(arr):\r\n",
    "    maxSum = float('-inf')\r\n",
    "    i=0\r\n",
    "    j=1\r\n",
    "    pair = [-1,-1]\r\n",
    "    while(j<len(arr)):\r\n",
    "        total = arr[i]+arr[j]\r\n",
    "        if total>maxSum:\r\n",
    "            maxSum = total\r\n",
    "            pair = [arr[i],arr[j]]\r\n",
    "        total-=arr[i]\r\n",
    "        i+=1\r\n",
    "        j+=1\r\n",
    "    \r\n",
    "    return pair\r\n",
    "arr=[1,3,2,2] #[5,2,4,6,3,1]\r\n",
    "# print(findPair(arr))\r\n",
    "\r\n"
   ],
   "outputs": [
    {
     "output_type": "stream",
     "name": "stdout",
     "text": [
      "[3, 2]\n"
     ]
    }
   ],
   "metadata": {
    "tags": []
   }
  },
  {
   "cell_type": "code",
   "execution_count": 12,
   "source": [
    "'''\r\n",
    "Given a string, find the length of the longest substring without repeating characters.\r\n",
    "\r\n",
    "Input: \"abcabcbb\"\r\n",
    "Output: 3 \r\n",
    "Explanation: The answer is \"abc\", with the length of 3. \r\n",
    "'''\r\n",
    "\r\n",
    "def longest_sub_without_rep_char(arr):\r\n",
    "    left, right = 0,0\r\n",
    "    maxlength = -float('inf')\r\n",
    "    char_set = set()\r\n",
    "    while right<len(arr):\r\n",
    "        if arr[right] not in char_set:\r\n",
    "            char_set.add(arr[right])\r\n",
    "            right+=1\r\n",
    "            maxlength = max(maxlength, right-left) # because right pointer is incremented before the length calculation. Otherwise, maxlength = max(maxlength, right-left+1) and then the right increment statement.\r\n",
    "        else:\r\n",
    "            char_set.remove(arr[left])\r\n",
    "            left+=1\r\n",
    "    return maxlength\r\n",
    "\r\n",
    "print(longest_sub_without_rep_char(\"pwwkew\"))"
   ],
   "outputs": [
    {
     "output_type": "stream",
     "name": "stdout",
     "text": [
      "3\n"
     ]
    }
   ],
   "metadata": {
    "tags": []
   }
  },
  {
   "cell_type": "code",
   "execution_count": 13,
   "source": [
    "'''\r\n",
    "Given an array of integers and a number k, find maximum sum of a subarray of size k.\r\n",
    "\r\n",
    "Input  : arr[] = {100, 200, 300, 400}\r\n",
    "         k = 2\r\n",
    "Output : 700\r\n",
    "\r\n",
    "Input  : arr[] = {1, 4, 2, 10, 23, 3, 1, 0, 20}\r\n",
    "         k = 4 \r\n",
    "Output : 39\r\n",
    "'''\r\n",
    "def maximum_sum_possible_for_k_consec_int(inp,k):\r\n",
    "  max_sum = 0\r\n",
    "  current_sum = 0\r\n",
    "  for i in range(k):\r\n",
    "    current_sum+=inp[i]\r\n",
    "  max_sum=current_sum\r\n",
    "  for i in range(k,len(inp)):\r\n",
    "    current_sum+= inp[i] - inp[i-k]\r\n",
    "  max_sum = max(max_sum,current_sum)\r\n",
    "  return max_sum\r\n",
    "\r\n",
    "print(maximum_sum_possible_for_k_consec_int([100,200,300,400],2))\r\n"
   ],
   "outputs": [
    {
     "output_type": "stream",
     "name": "stdout",
     "text": [
      "700\n"
     ]
    }
   ],
   "metadata": {
    "tags": []
   }
  },
  {
   "cell_type": "code",
   "execution_count": 15,
   "source": [
    "'''\r\n",
    "smallest subarray with size greater than or equal to given target sum.\r\n",
    "\r\n",
    "Given an array of n positive integers and a positive integer s, find the minimal length of a contiguous subarray of which the sum ≥ s. If there isn't one, return 0 instead.\r\n",
    "Input: s = 7, nums = [2,3,1,2,4,3]\r\n",
    "Output: 2\r\n",
    "Explanation: the subarray [4,3] has the minimal length under the problem constraint.\r\n",
    "'''\r\n",
    "\r\n",
    "def smallest_size_sum_ge_targetsum(arr,targetsum):\r\n",
    "  left, current_sum, minsize, currsize = 0, 0, float('inf'), 0\r\n",
    "  for right in range(len(arr)):\r\n",
    "    current_sum+=arr[right]\r\n",
    "    while current_sum>=targetsum:\r\n",
    "      currsize = right-left+1\r\n",
    "      minsize = min(minsize,currsize)\r\n",
    "      # subtract the left value and advance the left Index\r\n",
    "      current_sum-=arr[left]\r\n",
    "      left+=1\r\n",
    "  return minsize\r\n",
    "\r\n",
    "  ''' Second approach as of 15th Feb,2021'''\r\n",
    "\r\n",
    "  def minLenSubarraySumgeS(arr, s):\r\n",
    "    i = j = 0\r\n",
    "    minLen = float('inf')\r\n",
    "    total = 0\r\n",
    "    while j<len(arr):\r\n",
    "        total+=arr[j]\r\n",
    "        print(total)\r\n",
    "        while total>=s:\r\n",
    "            minLen = min(minLen, j-i+1)\r\n",
    "            print(\"in if:\", total, minLen)\r\n",
    "            total-=arr[i]\r\n",
    "            # print(\"in if total after deduction:\", total)\r\n",
    "            i+=1\r\n",
    "            # j+=1\r\n",
    "        else:\r\n",
    "            # print(\"in else\")\r\n",
    "            j+=1\r\n",
    "        print(\"minimum length=\",minLen)\r\n",
    "    return minLen\r\n",
    "\r\n",
    "print(smallest_size_sum_ge_targetsum([4,2,2,7,8,1,2,7,1,0],8))\r\n",
    "print(smallest_size_sum_ge_targetsum([2,3,1,2,4,3],7))"
   ],
   "outputs": [
    {
     "output_type": "stream",
     "name": "stdout",
     "text": [
      "1\n",
      "2\n"
     ]
    }
   ],
   "metadata": {
    "tags": []
   }
  },
  {
   "cell_type": "code",
   "execution_count": 42,
   "source": [
    "'''\r\n",
    "longest substring with k distinct characters\r\n",
    "leetcode question 340\r\n",
    "'''\r\n",
    "\r\n",
    "def longest_sub_with_k_dist_char(arr, k):\r\n",
    "    left = 0\r\n",
    "    longest = 0\r\n",
    "    # count = 0\r\n",
    "    map = {}\r\n",
    "    for right in range(len(arr)):\r\n",
    "        if arr[right] not in map:\r\n",
    "            map[arr[right]]=0\r\n",
    "        map[arr[right]]+=1\r\n",
    "       \r\n",
    "        # count+=1\r\n",
    "        # print(map)\r\n",
    "        # print(\"count\",count)\r\n",
    "        while len(map)>k:\r\n",
    "            map[arr[left]]-=1\r\n",
    "            # count-=1\r\n",
    "            if map[arr[left]] == 0:\r\n",
    "                map.pop(arr[left])\r\n",
    "                # count-=1\r\n",
    "                # print(\"after remove\",map)\r\n",
    "                # print(\"count after remove\", count)\r\n",
    "            left+=1\r\n",
    "        longest = max(longest, right-left+1)    \r\n",
    "        # print(\"longest\",longest) \r\n",
    "\r\n",
    "    return longest\r\n",
    "\r\n",
    "\r\n",
    "print(longest_sub_with_k_dist_char(\"aahhbc\",2))\r\n",
    "\r\n",
    "\r\n"
   ],
   "outputs": [
    {
     "output_type": "stream",
     "name": "stdout",
     "text": [
      "4\n"
     ]
    }
   ],
   "metadata": {
    "tags": []
   }
  },
  {
   "cell_type": "code",
   "execution_count": 45,
   "source": [
    "''' Given an array consisting of n integers, find the contiguous subarray of given length k that has the maximum average value. And you need to output the maximum average value'''\r\n",
    "\r\n",
    "\r\n",
    "def contiguous_subarray_avg_k_size(arr, k):\r\n",
    "    max_average = 0\r\n",
    "    current_sum = 0\r\n",
    "    average_list = []\r\n",
    "    for i in range(k):\r\n",
    "        current_sum += arr[i]\r\n",
    "    max_average = current_sum/k\r\n",
    "    average_list.append(max_average)\r\n",
    "\r\n",
    "    for i in range(k, len(arr)):\r\n",
    "        current_sum += arr[i] - arr[i-k]\r\n",
    "        average = current_sum/k\r\n",
    "        max_average = max(max_average, current_sum/k)\r\n",
    "        average_list.append(average)\r\n",
    "    print(average_list)\r\n",
    "    return max_average\r\n",
    "\r\n",
    "print(contiguous_subarray_avg_k_size([2,3,4,9,8,6,1],2))"
   ],
   "outputs": [
    {
     "output_type": "stream",
     "name": "stdout",
     "text": [
      "[2.5, 3.5, 6.5, 8.5, 7.0, 3.5]\n",
      "8.5\n"
     ]
    }
   ],
   "metadata": {
    "tags": []
   }
  },
  {
   "cell_type": "markdown",
   "source": [
    "### HashMap\n",
    "<br/>\n",
    "import java.util.*;<br/>\n",
    "public class Main<br/>\n",
    "{<br/>\n",
    "\tpublic static void main(String[] args) {<br/>\n",
    "\t\tSystem.out.println(\"Hello World\");<br/>\n",
    "\t\tHashMap<Integer,Integer> hmap = new HashMap<>();<br/>\n",
    "\t\tSystem.out.println(hmap.put(1,1)); //returns null as the previous value for 1<br/>\n",
    "\t\tSystem.out.println(hmap.put(1,2)); //returns 1 as previous value for 1<br/>\n",
    "\t}<br/>\n",
    "}\n",
    "<br/>\n",
    "whenever we create a HashSet, it internally creates a HashMap and if we insert an element into this HashSet using add() method, it actually call put() method on internally created HashMap object with element you have specified as it’s key and constant Object called “PRESENT” as it’s value. So we can say that a Set achieves uniqueness internally through HashMap. Now the whole story comes around how a HashMap and put() method internally works.\n",
    "\n",
    "As we know in a HashMap each key is unique and when we call put(Key, Value) method, it returns the previous value associated with key, or null if there was no mapping for key. So in add() method we check the return value of map.put(key, value) method with null value.\n",
    "\n",
    "Internal implementation of HashSet in Java, gfg (https://www.geeksforgeeks.org/internal-working-of-sethashset-in-java/)\n",
    "\n",
    "\n",
    "Hashmap vs hashtable:\n",
    "1. Hashmap is not synchronized. It is not thread-safe and can't be shared between many threads wothout proper synchronization code whereas hashtable is synchronized. IT is theread-sae and can be shared with many threads.\n",
    "2. Hashmap allows one null key and many null values whereas hashtable doesn't allow any null key or value.\n",
    "3. Hashmap is generally preferred over hashtable if thread synchronization is not needed.\n",
    "\n",
    "Hashmap is an advanced version and an improvement on the Hashtable."
   ],
   "metadata": {
    "tags": []
   }
  },
  {
   "cell_type": "markdown",
   "source": [
    "Given an array of integers what is the length of the longest subArray containing no more than two distinct values such that the distinct values differ by no more than 1 <br/>\n",
    "\n",
    "Input: arr = \\[0, 0, 1, 1, 2, 3\\] <br/>\n",
    "Output: length = 4;<br/>\n",
    "\n",
    "Input: arr = \\[1, 2, 3, 4, 5\\] <br/>\n",
    "Output: length = 2; \\[1,2\\] <br/>\n",
    "\n",
    "Input: arr = \\[1, 1, 1, 3, 3, 2, 2\\] <br/>\n",
    "Output: length = 4; \\[3,3,2,2\\] <br/>\n",
    "\n",
    "\n",
    "Input: arr = \\[1\\] <br/>\n",
    "Output: length = 1\n",
    "\n"
   ],
   "metadata": {}
  },
  {
   "cell_type": "code",
   "execution_count": 7,
   "source": [
    "def longest_sub_with_2_dist_values_diff_by_1(arr):\r\n",
    "    left, right = 0,0\r\n",
    "    maxlen = 0\r\n",
    "    length = 0\r\n",
    "    while right<len(arr):\r\n",
    "        if arr[right]==arr[left] or abs(arr[right]-arr[left])<=1:\r\n",
    "            length = right - left + 1\r\n",
    "            right+=1\r\n",
    "            maxlen= max(maxlen,length)\r\n",
    "        else: \r\n",
    "            left+=1\r\n",
    "    maxlen = max(maxlen,length)       \r\n",
    "    return maxlen\r\n",
    "\r\n",
    "print(longest_sub_with_2_dist_values_diff_by_1([0,0,1,1,1,0,2,2,2,2,2,2,1,1]))"
   ],
   "outputs": [
    {
     "output_type": "stream",
     "name": "stdout",
     "text": [
      "12\n"
     ]
    }
   ],
   "metadata": {
    "tags": []
   }
  },
  {
   "cell_type": "code",
   "execution_count": 4,
   "source": [
    "def karthigaSol(arr):\r\n",
    "    left, right = 0,0\r\n",
    "    visited = set()\r\n",
    "    length = 0\r\n",
    "\r\n",
    "    while(right<len(arr)):\r\n",
    "        visited.add(arr[right])\r\n",
    "        if (arr[right] - arr[left] <=1) and len(visited)<=2:\r\n",
    "            right+=1\r\n",
    "        else:\r\n",
    "            length = max(length, right-left+1)\r\n",
    "            left = right\r\n",
    "            visited = set()\r\n",
    "    return length\r\n",
    "\r\n",
    "print(karthigaSol([0,0,1,1,1,0,3,3,2,2,2,2,2,2,1,1]))"
   ],
   "outputs": [
    {
     "output_type": "stream",
     "name": "stdout",
     "text": [
      "10\n"
     ]
    }
   ],
   "metadata": {
    "tags": []
   }
  },
  {
   "cell_type": "code",
   "execution_count": null,
   "source": [
    "def long_sub_2(arr):\r\n",
    "    left , right = 0,0\r\n",
    "    char_set = set()\r\n",
    "    "
   ],
   "outputs": [],
   "metadata": {}
  },
  {
   "cell_type": "code",
   "execution_count": 23,
   "source": [
    "## Counting the maximum\r\n",
    "\r\n",
    "def frequency_of_max_values(numbers, query):\r\n",
    "    stack = []\r\n",
    "    for i in range(len(numbers)-1, -1, -1):\r\n",
    "        if len(stack)==0:\r\n",
    "            freq = 1\r\n",
    "            temp = numbers[i]\r\n",
    "            stack.append((temp,freq))\r\n",
    "        else:\r\n",
    "            temp = stack[-1]\r\n",
    "            if numbers[i]>temp[0]:\r\n",
    "                stack.append((numbers[i],1))\r\n",
    "            elif numbers[i]==temp[0]:\r\n",
    "                stack.append((temp[0], temp[1]+1))\r\n",
    "            else:\r\n",
    "                stack.append((temp[0],temp[1]))\r\n",
    "    result = []\r\n",
    "    for index in query:\r\n",
    "        result.append(stack[len(stack)-index][1])\r\n",
    "    return result"
   ],
   "outputs": [],
   "metadata": {}
  },
  {
   "cell_type": "code",
   "execution_count": 24,
   "source": [
    "res = frequency_of_max_values([5,4,5,3,2], [1,2,3,4,5])\r\n",
    "print(res)"
   ],
   "outputs": [
    {
     "output_type": "stream",
     "name": "stdout",
     "text": [
      "[2, 1, 1, 1, 1]\n"
     ]
    }
   ],
   "metadata": {
    "tags": []
   }
  },
  {
   "cell_type": "code",
   "execution_count": null,
   "source": [
    "'''\r\n",
    "Given an array of size n and an integer k, return the count of distinct numbers in all windows of size k\r\n",
    "\r\n",
    "Input: arr = [1, 2, 1, 3, 4, 2, 3]\r\n",
    "k = 4\r\n",
    "Output: [3 4 4 3]\r\n",
    "\r\n",
    "Input: arr = [1 2 4 4 4]\r\n",
    "k = 2\r\n",
    "Output: [2 2 1 1]\r\n",
    "\r\n",
    "all positive\r\n",
    "return empty for invalid\r\n",
    "\r\n",
    "Input: arr = [1, 2, 1, 3, 4, 2, 3]\r\n",
    "'''\r\n",
    "import collections\r\n",
    "def distinctNumbers(arr,k):\r\n",
    "    \r\n",
    "    hm = collections.defaultdict(int)\r\n",
    "    result = []\r\n",
    "    if not arr:\r\n",
    "        return result\r\n",
    "\r\n",
    "    start, end = 0,0\r\n",
    "    while end<len(arr):\r\n",
    "        hm[arr[end]]+=1\r\n",
    "        if (end-start+1)%k==0:\r\n",
    "            result.append(len(hm)) \r\n",
    "            hm[arr[start]]-=1\r\n",
    "            if hm[arr[start]]==0:\r\n",
    "                del hm[arr[start]]\r\n",
    "            start+=1\r\n",
    "        \r\n",
    "        end+=1\r\n",
    "    \r\n",
    "    return result\r\n",
    "    \r\n",
    "print(distinctNumbers([1, 2, 1, 3, 4, 2, 3],4))\r\n",
    "          \r\n",
    "    "
   ],
   "outputs": [],
   "metadata": {}
  }
 ]
}