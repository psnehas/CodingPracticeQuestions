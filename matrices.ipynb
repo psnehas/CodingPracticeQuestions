{
 "metadata": {
  "language_info": {
   "codemirror_mode": {
    "name": "ipython",
    "version": 3
   },
   "file_extension": ".py",
   "mimetype": "text/x-python",
   "name": "python",
   "nbconvert_exporter": "python",
   "pygments_lexer": "ipython3",
   "version": "3.7.6-final"
  },
  "orig_nbformat": 2,
  "kernelspec": {
   "name": "Python 3.7.6 64-bit ('torch': conda)",
   "display_name": "Python 3.7.6 64-bit ('torch': conda)",
   "metadata": {
    "interpreter": {
     "hash": "92183dc60824bc67df95380206d2e0eca44c939f47038cd2c4c1f78bb1211dad"
    }
   }
  }
 },
 "nbformat": 4,
 "nbformat_minor": 2,
 "cells": [
  {
   "cell_type": "code",
   "execution_count": 7,
   "metadata": {
    "tags": []
   },
   "outputs": [
    {
     "output_type": "stream",
     "name": "stdout",
     "text": "3\n6\n9\n"
    }
   ],
   "source": [
    "# read last element from each row of the matrix\n",
    "\n",
    "def lastElement(matrix):\n",
    "    for row in range(len(matrix)):\n",
    "        print(matrix[row][-1])\n",
    "\n",
    "mat = [\n",
    "    [1,2,3],\n",
    "    [4,5,6],\n",
    "    [7,8,9]\n",
    "]\n",
    "lastElement(mat)"
   ]
  },
  {
   "cell_type": "code",
   "execution_count": 12,
   "metadata": {
    "tags": []
   },
   "outputs": [
    {
     "output_type": "stream",
     "name": "stdout",
     "text": "Principal Diagonal\n1\n5\n9\nSecondary Diagonal\n3\n5\n7\n"
    }
   ],
   "source": [
    "# print principal and secondary diagonals\n",
    "\n",
    "def printDiagonal(mat):\n",
    "    print(\"Principal Diagonal\")\n",
    "    for i in range(len(mat)):\n",
    "        for j in range(len(mat[0])):\n",
    "            if i==j:\n",
    "                print(mat[i][j])\n",
    "    print(\"Secondary Diagonal\")\n",
    "    for i in range(len(mat)):\n",
    "        for j in range(len(mat[0])):\n",
    "            if i+j == len(mat)-1:\n",
    "                print(mat[i][j]) \n",
    "            \n",
    "printDiagonal(mat)"
   ]
  },
  {
   "cell_type": "code",
   "execution_count": 1,
   "metadata": {
    "tags": []
   },
   "outputs": [
    {
     "output_type": "stream",
     "name": "stdout",
     "text": "result= [[2, 0, 0], [0, 0, 0], [0, 0, 0]]\nresult1= [[2, 0, 0], [0, 0, 0], [0, 0, 0]] \n\nresult= [[2, 4, 0], [0, 0, 0], [0, 0, 0]]\nresult1= [[2, 4, 0], [0, 0, 0], [0, 0, 0]] \n\nresult= [[2, 4, 6], [0, 0, 0], [0, 0, 0]]\nresult1= [[2, 4, 6], [0, 0, 0], [0, 0, 0]] \n\nresult= [[2, 4, 6], [8, 0, 0], [0, 0, 0]]\nresult1= [[2, 4, 6], [8, 0, 0], [0, 0, 0]] \n\nresult= [[2, 4, 6], [8, 10, 0], [0, 0, 0]]\nresult1= [[2, 4, 6], [8, 10, 0], [0, 0, 0]] \n\nresult= [[2, 4, 6], [8, 10, 12], [0, 0, 0]]\nresult1= [[2, 4, 6], [8, 10, 12], [0, 0, 0]] \n\nresult= [[2, 4, 6], [8, 10, 12], [14, 0, 0]]\nresult1= [[2, 4, 6], [8, 10, 12], [14, 0, 0]] \n\nresult= [[2, 4, 6], [8, 10, 12], [14, 16, 0]]\nresult1= [[2, 4, 6], [8, 10, 12], [14, 16, 0]] \n\nresult= [[2, 4, 6], [8, 10, 12], [14, 16, 18]]\nresult1= [[2, 4, 6], [8, 10, 12], [14, 16, 18]] \n\n[[2, 4, 6], [8, 10, 12], [14, 16, 18]]\n"
    }
   ],
   "source": [
    "#addition of two matrices\n",
    "def addMatrices(matrix1, matrix2):\n",
    "    result = [[0 for _ in range(len(matrix1[0]))] for _ in range(len(matrix1))]\n",
    "    # print(result)\n",
    "    result1 = [\n",
    "        [0,0,0],\n",
    "        [0,0,0],\n",
    "        [0,0,0]\n",
    "    ]\n",
    "    for i in range(len(matrix1)):\n",
    "        for j in range(len(matrix1[0])):\n",
    "            result[i][j] = matrix1[i][j] + matrix2[i][j]\n",
    "            result1[i][j] = matrix1[i][j] + matrix2[i][j]\n",
    "            print(\"result=\",result)\n",
    "            print(\"result1=\", result1,\"\\n\")\n",
    "    return result1\n",
    "\n",
    "matrix1 = [\n",
    "    [1,2,3],\n",
    "    [4,5,6],\n",
    "    [7,8,9]\n",
    "]\n",
    "\n",
    "\n",
    "matrix2 = [\n",
    "    [1,2,3],\n",
    "    [4,5,6],\n",
    "    [7,8,9]\n",
    "]\n",
    "\n",
    "print(addMatrices(matrix1, matrix2))"
   ]
  },
  {
   "cell_type": "code",
   "execution_count": 2,
   "metadata": {
    "tags": []
   },
   "outputs": [
    {
     "output_type": "stream",
     "name": "stdout",
     "text": "[[1, 4, 7], [2, 5, 8], [3, 6, 9]]\n"
    }
   ],
   "source": [
    "#Transpose a matrix\n",
    "def transposeMatrix(matrix):\n",
    "    result = [[0 for _ in range(len(matrix1[0]))] for _ in range(len(matrix1))]\n",
    "    for i in range(len(matrix)):\n",
    "        for j in range(len(matrix[0])):\n",
    "            result[j][i] = matrix[i][j]\n",
    "    return result\n",
    "\n",
    "\n",
    "matrix = [\n",
    "    [1,2,3],\n",
    "    [4,5,6],\n",
    "    [7,8,9]\n",
    "]\n",
    "print(transposeMatrix(matrix))"
   ]
  },
  {
   "cell_type": "code",
   "execution_count": 3,
   "metadata": {
    "tags": []
   },
   "outputs": [
    {
     "output_type": "stream",
     "name": "stdout",
     "text": "[[2, 4, 6], [8, 10, 12], [14, 16, 18]]\n"
    }
   ],
   "source": [
    "#Scalar multiplication of a matrix\n",
    "\n",
    "def scalarMatrixMult(matrix, scalar):\n",
    "    result = [[0 for _ in range(len(matrix[0]))] for _ in range(len(matrix))]\n",
    "    for i in range(len(matrix)):\n",
    "        for j in range(len(matrix[0])):\n",
    "            result[i][j] = scalar * matrix[i][j]\n",
    "    return result\n",
    "\n",
    "print(scalarMatrixMult(matrix,2))"
   ]
  },
  {
   "cell_type": "code",
   "execution_count": 6,
   "metadata": {
    "tags": []
   },
   "outputs": [
    {
     "output_type": "stream",
     "name": "stdout",
     "text": "[[1, 2, 3, 4], [5, 6, 7, 8], [9, 10, 11, 12], [13, 14, 15, 16]]\n[[5, 1, 2, 3], [9, 10, 6, 4], [13, 11, 7, 8], [14, 15, 16, 12]]\n"
    }
   ],
   "source": [
    "# Rotate a matrix in clockwise direction\n",
    "\n",
    "def rotateMatrixClockwise(matrix):\n",
    "    # 1. move elements in the first row by 1\n",
    "    # 2. move elements in the last column by 1\n",
    "    # 3. move elements in the last row by 1\n",
    "    # 4. move elements in the first column by 1\n",
    "    # repeat until all the other elements on the inner ring are covered.\n",
    "\n",
    "    left, right = 0, len(matrix[0])-1\n",
    "    top, bottom = 0, len(matrix)-1\n",
    "    \n",
    "    while left<right and top<bottom:\n",
    "        # prev here refers to the element that replaces the original element in matrix\n",
    "        prev = matrix[top+1][left]\n",
    "        #1.\n",
    "        for i in range(left, right+1):\n",
    "            cur = matrix[top][i]\n",
    "            matrix[top][i] = prev\n",
    "            prev = cur\n",
    "        top+=1\n",
    "        #2.\n",
    "        for i in range(top,bottom+1):\n",
    "            cur = matrix[i][right]\n",
    "            matrix[i][right] = prev\n",
    "            prev = cur\n",
    "        right-=1\n",
    "        #3.\n",
    "        for i in range(right, left-1, -1):\n",
    "            cur = matrix[bottom][i]\n",
    "            matrix[bottom][i] = prev\n",
    "            prev = cur\n",
    "        bottom-=1\n",
    "        #4.\n",
    "        for i in range(bottom,top-1,-1):\n",
    "            cur = matrix[i][left]\n",
    "            matrix[i][left] = prev\n",
    "            prev = cur\n",
    "        left+=1\n",
    "    \n",
    "    return matrix\n",
    "\n",
    "A = [\n",
    "    [1,2,3,4],\n",
    "    [5,6,7,8],\n",
    "    [9,10,11,12],\n",
    "    [13,14,15,16]\n",
    "]\n",
    "\n",
    "print(A)\n",
    "print(rotateMatrixClockwise(A))"
   ]
  },
  {
   "cell_type": "code",
   "execution_count": 16,
   "metadata": {
    "tags": []
   },
   "outputs": [
    {
     "output_type": "stream",
     "name": "stdout",
     "text": "matrix before rotation [[1, 2, 3, 4], [5, 6, 7, 8], [9, 10, 11, 12], [13, 14, 15, 16]]\nmatrix after reversal [[4, 3, 2, 1], [8, 7, 6, 5], [12, 11, 10, 9], [16, 15, 14, 13]]\nfinal rotated matrix [[4, 8, 12, 16], [3, 7, 11, 15], [2, 6, 10, 14], [1, 5, 9, 13]]\n"
    }
   ],
   "source": [
    "'''\n",
    "To rotate a matrix inplace, the matrix must be a square matrix nxn only then we can rotate the matrix, else it is not possible to rotate it inplace.\n",
    "\n",
    "'''\n",
    "def rotateMatrixInPlaceBy90Degree(mat):\n",
    "    # Solution 1: Time: O(n*n) Space: Constant\n",
    "    # reverse every row elements\n",
    "    # take transpose of the matrix\n",
    "\n",
    "    print(\"matrix before rotation\", mat)\n",
    "    # reverse\n",
    "    for i in range(len(mat)):\n",
    "        mat[i] = mat[i][::-1]\n",
    "    print(\"matrix after reversal\", mat)\n",
    "    # transpose\n",
    "    for i in range(len(mat)):\n",
    "        for j in range(i,len(mat[0])):\n",
    "            mat[i][j], mat[j][i] = mat[j][i], mat[i][j]\n",
    "    \n",
    "    return mat\n",
    "\n",
    "\n",
    "mat = [\n",
    "    [1,2,3,4],\n",
    "    [5,6,7,8],\n",
    "    [9,10,11,12],\n",
    "    [13,14,15,16]\n",
    "]\n",
    "print(\"final rotated matrix\", rotateMatrixInPlaceBy90Degree(mat))\n"
   ]
  },
  {
   "cell_type": "code",
   "execution_count": null,
   "metadata": {},
   "outputs": [],
   "source": []
  }
 ]
}