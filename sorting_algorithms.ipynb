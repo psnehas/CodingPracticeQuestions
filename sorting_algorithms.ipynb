{
 "metadata": {
  "language_info": {
   "codemirror_mode": {
    "name": "ipython",
    "version": 3
   },
   "file_extension": ".py",
   "mimetype": "text/x-python",
   "name": "python",
   "nbconvert_exporter": "python",
   "pygments_lexer": "ipython3",
   "version": "3.7.6-final"
  },
  "orig_nbformat": 2,
  "kernelspec": {
   "name": "python3",
   "display_name": "Python 3"
  }
 },
 "nbformat": 4,
 "nbformat_minor": 2,
 "cells": [
  {
   "cell_type": "code",
   "execution_count": 17,
   "metadata": {},
   "outputs": [
    {
     "output_type": "stream",
     "name": "stdout",
     "text": [
      "[1, 2, 3, 4, 5, 6]\n"
     ]
    }
   ],
   "source": [
    "'''Quick sort:\n",
    "\n",
    "There are two major parts/routines/subroutines of sorts in quick sort. 1. Split or Quicksort 2. partition\n",
    "It has the split function or the quicksort function that splits the input -> calls the partition step first and -> based on the pivot we get back from the partition step it splits the data into left and right subtrees.\n",
    "Main goal of paritioning step is to find the pivot index (pivot -> the value within the partitioning space that I want to find a position for)'''\n",
    "\n",
    "def quicksort(array):\n",
    "    quickSort(array, 0, len(array)-1)\n",
    "    return array\n",
    "   \n",
    "def quickSort(array, left,right):\n",
    "    if left<right:\n",
    "        pivotInd = partition(array, left, right)\n",
    "        quickSort(array,left,pivotInd-1)\n",
    "        quickSort(array,pivotInd+1,right)\n",
    "\n",
    "def partition(array, left, right):\n",
    "    pivot = array[right]\n",
    "    i = left-1\n",
    "    for j in range(left,right):\n",
    "        if array[j]<pivot:\n",
    "            i+=1\n",
    "            array[i], array[j] = array[j], array[i]\n",
    "            \n",
    "    array[i+1], array[right] = array[right],array[i+1]\n",
    "    return i+1\n",
    "\n",
    "\n",
    "\n",
    "print(quicksort([3,2,1,5,6,4]))\n",
    "\n"
   ]
  },
  {
   "cell_type": "code",
   "execution_count": 13,
   "metadata": {},
   "outputs": [
    {
     "output_type": "stream",
     "name": "stdout",
     "text": [
      "Sorted array is:\n1\n5\n7\n8\n9\n10\n"
     ]
    }
   ],
   "source": [
    "# Python program for implementation of Quicksort Sort \n",
    "\n",
    "# This function takes last element as pivot, places \n",
    "# the pivot element at its correct position in sorted \n",
    "# array, and places all smaller (smaller than pivot) \n",
    "# to left of pivot and all greater elements to right \n",
    "# of pivot \n",
    "def partition(arr,low,high): \n",
    "\ti = ( low-1 )\t\t # index of smaller element \n",
    "\tpivot = arr[high]\t # pivot \n",
    "\n",
    "\tfor j in range(low , high): \n",
    "\n",
    "\t\t# If current element is smaller than the pivot \n",
    "\t\tif arr[j] < pivot: \n",
    "\t\t\n",
    "\t\t\t# increment index of smaller element \n",
    "\t\t\ti = i+1\n",
    "\t\t\tarr[i],arr[j] = arr[j],arr[i] \n",
    "\n",
    "\tarr[i+1],arr[high] = arr[high],arr[i+1] \n",
    "\treturn ( i+1 ) \n",
    "\n",
    "# The main function that implements QuickSort \n",
    "# arr[] --> Array to be sorted, \n",
    "# low --> Starting index, \n",
    "# high --> Ending index \n",
    "\n",
    "# Function to do Quick sort \n",
    "def quickSort(arr,low,high): \n",
    "\tif low < high: \n",
    "\n",
    "\t\t# pi is partitioning index, arr[p] is now \n",
    "\t\t# at right place \n",
    "\t\tpi = partition(arr,low,high) \n",
    "\n",
    "\t\t# Separately sort elements before \n",
    "\t\t# partition and after partition \n",
    "\t\tquickSort(arr, low, pi-1) \n",
    "\t\tquickSort(arr, pi+1, high) \n",
    "\n",
    "# Driver code to test above \n",
    "arr = [10, 7, 8, 9, 1, 5] \n",
    "n = len(arr) \n",
    "quickSort(arr,0,n-1) \n",
    "print (\"Sorted array is:\") \n",
    "for i in range(n): \n",
    "\tprint (\"%d\" %arr[i]), \n",
    "\n",
    "# This code is contributed by Mohit Kumra \n"
   ]
  },
  {
   "cell_type": "code",
   "execution_count": null,
   "metadata": {},
   "outputs": [],
   "source": []
  }
 ]
}