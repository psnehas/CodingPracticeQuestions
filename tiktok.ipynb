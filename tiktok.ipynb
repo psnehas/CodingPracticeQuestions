{
 "metadata": {
  "language_info": {
   "codemirror_mode": {
    "name": "ipython",
    "version": 3
   },
   "file_extension": ".py",
   "mimetype": "text/x-python",
   "name": "python",
   "nbconvert_exporter": "python",
   "pygments_lexer": "ipython3",
   "version": 3
  },
  "orig_nbformat": 2
 },
 "nbformat": 4,
 "nbformat_minor": 2,
 "cells": [
  {
   "cell_type": "code",
   "execution_count": null,
   "metadata": {},
   "outputs": [],
   "source": [
    "# Question: https://leetcode.com/discuss/interview-question/946044/Incremental-Memory-Leak-OA-How-to-solve\n",
    "\n",
    "def incremental_memory_leak(m1, m2):\n",
    "    i=0\n",
    "    while i<m1 or i<m2:\n",
    "        i+=1\n",
    "        m = max(m1,m2)\n",
    "        if m1 and m==m1 and m1>=i:\n",
    "            m1-=i\n",
    "        elif m2 and m==m2 and m2>=i:\n",
    "            m2-=i\n",
    "    return (i+1,m1,m2)\n",
    "    \n",
    "print(incremental_memory_leak(2,2))\n",
    "print(incremental_memory_leak(8,11))\n",
    "print(incremental_memory_leak(100,100))"
   ]
  },
  {
   "cell_type": "code",
   "execution_count": null,
   "metadata": {},
   "outputs": [],
   "source": [
    "\n"
   ]
  }
 ]
}