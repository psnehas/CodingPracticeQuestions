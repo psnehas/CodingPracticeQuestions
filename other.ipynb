{
 "metadata": {
  "language_info": {
   "codemirror_mode": {
    "name": "ipython",
    "version": 3
   },
   "file_extension": ".py",
   "mimetype": "text/x-python",
   "name": "python",
   "nbconvert_exporter": "python",
   "pygments_lexer": "ipython3",
   "version": "3.7.6-final"
  },
  "orig_nbformat": 2,
  "kernelspec": {
   "name": "python_defaultSpec_1600564543652",
   "display_name": "Python 3.7.6 64-bit ('torch': conda)"
  }
 },
 "nbformat": 4,
 "nbformat_minor": 2,
 "cells": [
  {
   "cell_type": "markdown",
   "metadata": {},
   "source": [
    "## WiT Regatta\n",
    "\n",
    "### - Keisha's takeaways\n",
    "\n",
    "1. “Begin again. Whatever you thought you were going to accomplish in 2020 before the pandemic hit, you can begin again.” - Dr. Tonya Drake, Chancellor and Regional Vice President at Western Governors University.\n",
    "\n",
    "2. “Embrace your unfiltered, casual self. Get really comfortable with your authentic self, and you’ll be successful if you’re being true to that.” - Hillary Mickell, Dean and Regional CEO of Northeastern University\n",
    "\n",
    "3. “Feedback is not personal! It’s providing a perspective. Are you being open to receiving that perspective?” - Yvonne Ruke Akpoveta, Change Strategist & Advisor, and Founder at The Change Leadership.\n",
    "\n",
    "4. “When going into a salary negotiation, ask yourself: ‘What do I want to earn based on what I see, what I’m worth and what I want?’ Have the courage to believe your work is valuable.” - Derek Bruce, Director Leadership Development at Signify\n",
    "\n",
    "5. \"Don't burn yourself out. People will respect the boundaries that you set. You just need to be communicative of those.\" - Felicia Williams from Facebook\n",
    "\n",
    "6. “Perfection is a land you’ll never reach and you’ll tire yourself out trying to get there.” - Tricia Cleppe, Account Director at davies + Dixon\n",
    "\n",
    "7. \"We have to embed an education teaching kids the mindset about failure.\" - Deborah Carter, Founder of NewTechKids\n",
    "\n",
    "8. \"It took me awhile to find my voice and when I actually found it, people actually listened to it.\" - Cynthia Tee, VP of Technology, Nordstrom.\n",
    "\n",
    "9. \"Diversity & inclusion needs to be everywhere...in order for people to change mindset I go back to the home where they were raised. It has to start from home.\" - Yaa Priscilla Birago discussing the importance of having tough conversations with kids. They grow up to be our leaders!\n",
    "\n",
    "10. \"You will mess up and it will feel uncomfortable. If you're not prepared for that, you need to step back and figure out when you'll be prepared for that.\" - Pert Lin from The Gates Foundation."
   ]
  },
  {
   "cell_type": "markdown",
   "metadata": {},
   "source": [
    "### Trapping Rain water - leetcode 42"
   ]
  },
  {
   "cell_type": "code",
   "execution_count": 1,
   "metadata": {
    "tags": []
   },
   "outputs": [
    {
     "output_type": "stream",
     "name": "stdout",
     "text": "6\n"
    }
   ],
   "source": [
    "# two pointer approach\n",
    "def rain_water(height):\n",
    "    left_wall, right_wall = 0,0\n",
    "    water = 0\n",
    "    left_ptr, right_ptr = 0, len(height)-1\n",
    "    while left_ptr<right_ptr:\n",
    "        if height[left_ptr]<height[right_ptr]:\n",
    "            if height[left_ptr] > left_wall:\n",
    "                left_wall = height[left_ptr]\n",
    "                \n",
    "            else:\n",
    "                water+= left_wall - height[left_ptr]\n",
    "                left_ptr += 1\n",
    "        else:\n",
    "            if height[right_ptr]>right_wall:\n",
    "                right_wall = height[right_ptr]\n",
    "               \n",
    "            else:\n",
    "                water+= right_wall - height[right_ptr]\n",
    "                right_ptr -=1\n",
    "    return water\n",
    "\n",
    "print(rain_water([0,1,0,2,1,0,1,3,2,1,2,1]))"
   ]
  },
  {
   "cell_type": "markdown",
   "metadata": {},
   "source": [
    "### Group Anagrams - Leetcode 49\n"
   ]
  },
  {
   "cell_type": "markdown",
   "metadata": {},
   "source": [
    "Given an array of strings, group anagrams together. <br/>\n",
    "Input: \n",
    "[\"eat\", \"tea\", \"tan\", \"ate\", \"nat\", \"bat\"] <br/>\n",
    "Output:<br/>\n",
    "[<br/>\n",
    "  [\"ate\",\"eat\",\"tea\"],<br/>\n",
    "  [\"nat\",\"tan\"],<br/>\n",
    "  [\"bat\"]<br/>\n",
    "]<br/>"
   ]
  },
  {
   "cell_type": "code",
   "execution_count": 3,
   "metadata": {
    "tags": []
   },
   "outputs": [
    {
     "output_type": "stream",
     "name": "stdout",
     "text": "[['eat', 'tea', 'ate'], ['tan', 'nat'], ['bat']]\n"
    }
   ],
   "source": [
    "import collections\n",
    "def anagrams(strs):\n",
    "    words_hashmap = collections.defaultdict(list)\n",
    "    result = []\n",
    "    for word in strs:\n",
    "        sorted_word = str(sorted(word))\n",
    "        words_hashmap[sorted_word].append(word)\n",
    "    for value in words_hashmap.values():\n",
    "        result.append(value)\n",
    "    return result\n",
    "\n",
    "print(anagrams([\"eat\", \"tea\", \"tan\", \"ate\", \"nat\", \"bat\"]))"
   ]
  },
  {
   "cell_type": "markdown",
   "metadata": {},
   "source": [
    "### Given an integer, return its string format with values separated by comma at the appropriate positions.<br/>\n",
    "Input: n = 1234<br/>\n",
    "Output: \"1,234\"<br/>"
   ]
  },
  {
   "cell_type": "code",
   "execution_count": 13,
   "metadata": {
    "tags": []
   },
   "outputs": [
    {
     "output_type": "stream",
     "name": "stdout",
     "text": "['1', '2', ',', '3', '4', '5', ',', '6', '7', '4']\n12,345,674\n"
    }
   ],
   "source": [
    "n = 12345674\n",
    "count = 0\n",
    "arr = []\n",
    "while n>0:\n",
    "    arr.insert(0,str(n%10))\n",
    "    count+=1\n",
    "    if count%3==0:\n",
    "        arr.insert(0,\",\")\n",
    "    n //=10\n",
    "print(arr)\n",
    "strar = \"\".join(arr)\n",
    "print(strar)"
   ]
  },
  {
   "cell_type": "markdown",
   "metadata": {},
   "source": [
    "### 3Sum question - Leetcode 15"
   ]
  },
  {
   "cell_type": "code",
   "execution_count": null,
   "metadata": {},
   "outputs": [],
   "source": [
    "def threeSum(nums):\n",
    "    result = []\n",
    "    if not nums:\n",
    "        return result\n",
    "    for i in range(len(nums)):\n",
    "        if nums[i]>0:\n",
    "            break\n",
    "        if i=0 or nums[i]!=nums[i-1]:\n",
    "            twoSum(nums, i , result)\n",
    "    return result\n",
    "\n",
    "def twoSum(nums, i, result):\n",
    "    low = i+1\n",
    "    hi = len(nums)-1\n",
    "    while(low<hi):\n",
    "        total = nums[i] + nums[low] + nums[hi]\n",
    "        if total<0:\n",
    "            low+=1\n",
    "        elif total>0:\n",
    "            hi-=1\n",
    "        else:\n",
    "            result.append([nums[i], nums[low], nums[hi]])\n",
    "            low+=1\n",
    "            hi-=1\n",
    "            while low<hi and nums[low]==nums[low-1]:\n",
    "                low+=1\n",
    "\n",
    "\n",
    "print(threeSum([-1,0,1,2,-1,-4]))"
   ]
  },
  {
   "source": [
    "### Sort the stack in ascending order -> CTCI 3.5\n",
    "\n",
    "Write a program to sort a stack such that the smallest items are on the top. You can use\n",
    "an additional temporary stack, but you may not copy the elements into any other data structure\n",
    "(such as an array). The stack supports the following operations: push, pop, peek, and is Empty."
   ],
   "cell_type": "markdown",
   "metadata": {}
  },
  {
   "cell_type": "code",
   "execution_count": 3,
   "metadata": {
    "tags": []
   },
   "outputs": [
    {
     "output_type": "stream",
     "name": "stdout",
     "text": "[1, 4, 10, 15, 23, 30]\n"
    }
   ],
   "source": [
    "# Sort the stack in ascending order\n",
    "\n",
    "def sort_stack(stack1):\n",
    "    stack2 = []\n",
    "    while stack1:\n",
    "        temp = stack1.pop()\n",
    "       \n",
    "        while stack2 and temp<stack2[-1]:\n",
    "            stack1.append(stack2.pop())\n",
    "        stack2.append(temp)\n",
    "\n",
    "    return stack2\n",
    "\n",
    "stack1 = [30,23,1,4,10,15]\n",
    "print(sort_stack(stack1))\n"
   ]
  },
  {
   "source": [
    "### CountArithmeticMeans -> Robinhood\n",
    "\n",
    "Given an array of integers a, your task is to calculate how many numbers in the array are equal to the arithmetic mean of their immediate neighbors. Count the number of indices such that a[i-1]+a[i+1] = 2 * a[i]\n",
    "If a[i-1] or a[i+1] doesn't exist, they should be considered equal to 0\n",
    "Input: [2,4,6,6,3]\n",
    "O/P : 3\n",
    "Expl: 0+4 = 2*2, 2+6 = 2*4, 4+6 != 2*6, 6+3!=2*6, 6+0 == 2*3\n"
   ],
   "cell_type": "markdown",
   "metadata": {}
  },
  {
   "cell_type": "code",
   "execution_count": 27,
   "metadata": {
    "tags": []
   },
   "outputs": [
    {
     "output_type": "stream",
     "name": "stdout",
     "text": "0\n3\n"
    }
   ],
   "source": [
    "\n",
    "def countArithmeticMeans(arr):\n",
    "    count = 0\n",
    "    if len(arr)<2 and arr[0]==0:\n",
    "        return 1\n",
    "    if len(arr)<2:\n",
    "        return 0\n",
    "    for i in range(len(arr)):\n",
    "        if i==0:\n",
    "            total = 0 + arr[i+1]\n",
    "        elif i==len(arr)-1:\n",
    "            total = arr[i-1]+0\n",
    "        else:\n",
    "            total = arr[i-1]+arr[i+1]\n",
    "        if total == 2* arr[i]:\n",
    "            count+=1\n",
    "    return count\n",
    "\n",
    "print(countArithmeticMeans([1]))\n",
    "print(countArithmeticMeans([2,4,6,6,3]))\n"
   ]
  },
  {
   "source": [
    "### Reduce the number -> Robinhood\n",
    "\n",
    "You are given a non-negative integer number represented as a string of digits and a positive integer k. Your task isto perform the following algorithm:\n",
    "1. If the length of the number is <= k,end the algorithm. Otherwise proceed to the next steps:\n",
    "2. Split the number into groups of k digits in each. The last group may contain less than k digits;\n",
    "3. Add up the digits in each group and concatenate these results in the same order;\n",
    "4. Replace the number with the result of step 3 and go back to step 1.\n",
    "Return the resulting string number after the algorithm ends.\n",
    "\n",
    "It is guaranteed that the algorithm will end at step 1 at some point.\n",
    "\n",
    "Example:\n",
    "\n",
    "For number = \"1111122222\" and k=3, the output should be reduceTheNumber(number, k) = \"132\"\n",
    "expl:\n",
    "111 112 222 2\n",
    "3   4   6   2\n",
    "346 2\n",
    "13  2\n",
    "len(13)=2 < k so merge the sets => 132\n",
    "\n"
   ],
   "cell_type": "markdown",
   "metadata": {}
  },
  {
   "cell_type": "code",
   "execution_count": 26,
   "metadata": {
    "tags": []
   },
   "outputs": [
    {
     "output_type": "stream",
     "name": "stdout",
     "text": "132\n510\n"
    }
   ],
   "source": [
    "def reduceTheNumber(number, k):\n",
    "    if len(number)<=k:\n",
    "        return number\n",
    "    # create chunks of k size ->list    \n",
    "    chunks = [number[i:i+k] for i in range(0, len(number), k)]\n",
    "    \n",
    "    res = [] #intermediate list to store the totals of each chunk \n",
    "    for chunk in chunks:\n",
    "        res += [sum([int(x) for x in chunk])]   #yields a list of integers\n",
    "    \n",
    "    # concatenate the list into one single integer and then convert it to string.\n",
    "    strings = [str(integer) for integer in res]\n",
    "    \n",
    "    return reduceTheNumber(\"\".join(strings),k)\n",
    "\n",
    "print(reduceTheNumber(\"1111122222\", 3))\n",
    "print(reduceTheNumber(\"1111122222\", 5))"
   ]
  },
  {
   "source": [
    "### Reorder data in log files - LC 937"
   ],
   "cell_type": "markdown",
   "metadata": {}
  },
  {
   "cell_type": "code",
   "execution_count": 7,
   "metadata": {
    "tags": []
   },
   "outputs": [
    {
     "output_type": "stream",
     "name": "stdout",
     "text": "['let1 art can', 'let3 art zero', 'let2 own kit dig', 'dig1 8 1 5 1', 'dig2 3 6']\n"
    }
   ],
   "source": [
    "def reorderLogFiles(logs):\n",
    "    digit_log = []\n",
    "    letter_log = []\n",
    "    result = []\n",
    "    for log in logs:\n",
    "        log_split = log.split()\n",
    "        if log_split[1].isdigit():\n",
    "            digit_log.append(log)\n",
    "        else:\n",
    "            letter_log.append(log_split)\n",
    "            sorted_letter_log = sorted(letter_log, key = lambda x: (x[1:], x[0]))\n",
    "    \n",
    "    for letter in sorted_letter_log:\n",
    "        result.append(' '.join(letter))\n",
    "\n",
    "    return result + digit_log\n",
    "\n",
    "print(reorderLogFiles(logs = [\"dig1 8 1 5 1\",\"let1 art can\",\"dig2 3 6\",\"let2 own kit dig\",\"let3 art zero\"]))"
   ]
  },
  {
   "source": [
    "### Meeting Rooms 2 - LC 253\n",
    "<br/>\n",
    "Given an array of meeting time intervals consisting of start and end times [[s1,e1],[s2,e2],...], (s1<e1), find the minimum number of conference rooms required. \n",
    "<br/>\n",
    "Example1: <br/>\n",
    "Input: [[0,30],[5,10],[15,20]]<br/>\n",
    "Output: 2<br/>\n",
    "Input: [[7,10],[2,4]]<br/>\n",
    "Output: 1<br/>\n"
   ],
   "cell_type": "markdown",
   "metadata": {}
  },
  {
   "cell_type": "code",
   "execution_count": 6,
   "metadata": {
    "tags": []
   },
   "outputs": [
    {
     "output_type": "stream",
     "name": "stdout",
     "text": "2\n1\n"
    }
   ],
   "source": [
    "import heapq\n",
    "def meetingRooms(intervals):\n",
    "    # if no meeting intervals, return 0\n",
    "    if not intervals:\n",
    "        return 0\n",
    "    # sort the intervals in ascending order of start times\n",
    "    intervals.sort(key=lambda x:x[0])\n",
    "    #initialize heap to keep track of meeting rooms and assign first meeting interval[0][1]. Only push end times to heap to pull the first meeting that finishes \n",
    "    # want to be able to remove the end time that is earliest from the room datastructure. \n",
    "    room = [intervals[0][1]]\n",
    "    #check if existing meeting in the heap will finish before the current meeting start time. \n",
    "    #if existing meeting end time is less than the next arriving meeting's start time, then that room can be utilized for the next meeting. Else new meeting room must be used. Simulating one meeting room, and then calculating the length of meeting intervals in the room will yield the number of rooms that must be allocated.\n",
    "    for meeting in intervals[1:]:\n",
    "        if room[0] <= meeting[0]:\n",
    "            heapq.heappop(room)\n",
    "        heapq.heappush(room, meeting[1])\n",
    "    \n",
    "    return len(room)\n",
    "\n",
    "print(meetingRooms([[0,30],[5,10],[15,20]]))\n",
    "print(meetingRooms([[7,10],[2,4]]))\n",
    "\n",
    "\n",
    "'''\n",
    "Runtime complexity analysis:\n",
    "\n",
    "Sorting intervals = O(n logn)\n",
    "Heap creation, insertion, deletion, including maintaining the heap constraint/ heap invariant = O(n logn)\n",
    "So total time = O(n logn)\n",
    "Space = O(n) worst case if every interval requires separate meeting room.\n",
    "'''\n"
   ]
  },
  {
   "cell_type": "code",
   "execution_count": null,
   "metadata": {},
   "outputs": [],
   "source": []
  }
 ]
}