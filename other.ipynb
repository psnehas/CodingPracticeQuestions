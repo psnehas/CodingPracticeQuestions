{
 "metadata": {
  "language_info": {
   "codemirror_mode": {
    "name": "ipython",
    "version": 3
   },
   "file_extension": ".py",
   "mimetype": "text/x-python",
   "name": "python",
   "nbconvert_exporter": "python",
   "pygments_lexer": "ipython3",
   "version": "3.8.3-final"
  },
  "orig_nbformat": 2,
  "kernelspec": {
   "name": "python3",
   "display_name": "Python 3"
  }
 },
 "nbformat": 4,
 "nbformat_minor": 2,
 "cells": [
  {
   "cell_type": "markdown",
   "metadata": {},
   "source": [
    "## WiT Regatta\n",
    "\n",
    "### - Keisha's takeaways\n",
    "\n",
    "1. “Begin again. Whatever you thought you were going to accomplish in 2020 before the pandemic hit, you can begin again.” - Dr. Tonya Drake, Chancellor and Regional Vice President at Western Governors University.\n",
    "\n",
    "2. “Embrace your unfiltered, casual self. Get really comfortable with your authentic self, and you’ll be successful if you’re being true to that.” - Hillary Mickell, Dean and Regional CEO of Northeastern University\n",
    "\n",
    "3. “Feedback is not personal! It’s providing a perspective. Are you being open to receiving that perspective?” - Yvonne Ruke Akpoveta, Change Strategist & Advisor, and Founder at The Change Leadership.\n",
    "\n",
    "4. “When going into a salary negotiation, ask yourself: ‘What do I want to earn based on what I see, what I’m worth and what I want?’ Have the courage to believe your work is valuable.” - Derek Bruce, Director Leadership Development at Signify\n",
    "\n",
    "5. \"Don't burn yourself out. People will respect the boundaries that you set. You just need to be communicative of those.\" - Felicia Williams from Facebook\n",
    "\n",
    "6. “Perfection is a land you’ll never reach and you’ll tire yourself out trying to get there.” - Tricia Cleppe, Account Director at davies + Dixon\n",
    "\n",
    "7. \"We have to embed an education teaching kids the mindset about failure.\" - Deborah Carter, Founder of NewTechKids\n",
    "\n",
    "8. \"It took me awhile to find my voice and when I actually found it, people actually listened to it.\" - Cynthia Tee, VP of Technology, Nordstrom.\n",
    "\n",
    "9. \"Diversity & inclusion needs to be everywhere...in order for people to change mindset I go back to the home where they were raised. It has to start from home.\" - Yaa Priscilla Birago discussing the importance of having tough conversations with kids. They grow up to be our leaders!\n",
    "\n",
    "10. \"You will mess up and it will feel uncomfortable. If you're not prepared for that, you need to step back and figure out when you'll be prepared for that.\" - Pert Lin from The Gates Foundation."
   ]
  },
  {
   "cell_type": "markdown",
   "metadata": {},
   "source": [
    "### Trapping Rain water - leetcode 42"
   ]
  },
  {
   "cell_type": "code",
   "execution_count": 1,
   "metadata": {
    "tags": []
   },
   "outputs": [
    {
     "output_type": "stream",
     "name": "stdout",
     "text": "6\n"
    }
   ],
   "source": [
    "# two pointer approach\n",
    "def rain_water(height):\n",
    "    left_wall, right_wall = 0,0\n",
    "    water = 0\n",
    "    left_ptr, right_ptr = 0, len(height)-1\n",
    "    while left_ptr<right_ptr:\n",
    "        if height[left_ptr]<height[right_ptr]:\n",
    "            if height[left_ptr] > left_wall:\n",
    "                left_wall = height[left_ptr]\n",
    "                \n",
    "            else:\n",
    "                water+= left_wall - height[left_ptr]\n",
    "                left_ptr += 1\n",
    "        else:\n",
    "            if height[right_ptr]>right_wall:\n",
    "                right_wall = height[right_ptr]\n",
    "               \n",
    "            else:\n",
    "                water+= right_wall - height[right_ptr]\n",
    "                right_ptr -=1\n",
    "    return water\n",
    "\n",
    "print(rain_water([0,1,0,2,1,0,1,3,2,1,2,1]))"
   ]
  },
  {
   "cell_type": "markdown",
   "metadata": {},
   "source": [
    "### Group Anagrams - Leetcode 49\n"
   ]
  },
  {
   "cell_type": "markdown",
   "metadata": {},
   "source": [
    "Given an array of strings, group anagrams together. <br/>\n",
    "Input: \n",
    "[\"eat\", \"tea\", \"tan\", \"ate\", \"nat\", \"bat\"] <br/>\n",
    "Output:<br/>\n",
    "[<br/>\n",
    "  [\"ate\",\"eat\",\"tea\"],<br/>\n",
    "  [\"nat\",\"tan\"],<br/>\n",
    "  [\"bat\"]<br/>\n",
    "]<br/>"
   ]
  },
  {
   "cell_type": "code",
   "execution_count": 3,
   "metadata": {
    "tags": []
   },
   "outputs": [
    {
     "output_type": "stream",
     "name": "stdout",
     "text": "[['eat', 'tea', 'ate'], ['tan', 'nat'], ['bat']]\n"
    }
   ],
   "source": [
    "import collections\n",
    "def anagrams(strs):\n",
    "    words_hashmap = collections.defaultdict(list)\n",
    "    result = []\n",
    "    for word in strs:\n",
    "        sorted_word = str(sorted(word))\n",
    "        words_hashmap[sorted_word].append(word)\n",
    "    for value in words_hashmap.values():\n",
    "        result.append(value)\n",
    "    return result\n",
    "\n",
    "print(anagrams([\"eat\", \"tea\", \"tan\", \"ate\", \"nat\", \"bat\"]))"
   ]
  },
  {
   "cell_type": "markdown",
   "metadata": {},
   "source": [
    "### Given an integer, return its string format with values separated by comma at the appropriate positions.<br/>\n",
    "Input: n = 1234<br/>\n",
    "Output: \"1,234\"<br/>"
   ]
  },
  {
   "cell_type": "code",
   "execution_count": 4,
   "metadata": {
    "tags": []
   },
   "outputs": [
    {
     "output_type": "stream",
     "name": "stdout",
     "text": [
      "['1', ',', '2', '3', '4', ',', '5', '6', '7', ',', '4', '8', '1']\n1,234,567,481\n"
     ]
    }
   ],
   "source": [
    "n = 1234567481\n",
    "count = 0\n",
    "arr = []\n",
    "while n>0:\n",
    "    arr.insert(0,str(n%10))\n",
    "    count+=1\n",
    "    if count%3==0:\n",
    "        arr.insert(0,\",\")\n",
    "    n //=10\n",
    "print(arr)\n",
    "strar = \"\".join(arr)\n",
    "print(strar)"
   ]
  },
  {
   "cell_type": "code",
   "execution_count": null,
   "metadata": {},
   "outputs": [],
   "source": []
  },
  {
   "cell_type": "markdown",
   "metadata": {},
   "source": [
    "### 3Sum question - Leetcode 15"
   ]
  },
  {
   "cell_type": "code",
   "execution_count": null,
   "metadata": {},
   "outputs": [],
   "source": [
    "def threeSum(nums):\n",
    "    result = []\n",
    "    if not nums:\n",
    "        return result\n",
    "    for i in range(len(nums)):\n",
    "        if nums[i]>0:\n",
    "            break\n",
    "        if i=0 or nums[i]!=nums[i-1]:\n",
    "            twoSum(nums, i , result)\n",
    "    return result\n",
    "\n",
    "def twoSum(nums, i, result):\n",
    "    low = i+1\n",
    "    hi = len(nums)-1\n",
    "    while(low<hi):\n",
    "        total = nums[i] + nums[low] + nums[hi]\n",
    "        if total<0:\n",
    "            low+=1\n",
    "        elif total>0:\n",
    "            hi-=1\n",
    "        else:\n",
    "            result.append([nums[i], nums[low], nums[hi]])\n",
    "            low+=1\n",
    "            hi-=1\n",
    "            while low<hi and nums[low]==nums[low-1]:\n",
    "                low+=1\n",
    "\n",
    "\n",
    "print(threeSum([-1,0,1,2,-1,-4]))"
   ]
  },
  {
   "source": [
    "### Sort the stack in ascending order -> CTCI 3.5\n",
    "\n",
    "Write a program to sort a stack such that the smallest items are on the top. You can use\n",
    "an additional temporary stack, but you may not copy the elements into any other data structure\n",
    "(such as an array). The stack supports the following operations: push, pop, peek, and is Empty."
   ],
   "cell_type": "markdown",
   "metadata": {}
  },
  {
   "cell_type": "code",
   "execution_count": 3,
   "metadata": {
    "tags": []
   },
   "outputs": [
    {
     "output_type": "stream",
     "name": "stdout",
     "text": "[1, 4, 10, 15, 23, 30]\n"
    }
   ],
   "source": [
    "# Sort the stack in ascending order\n",
    "\n",
    "def sort_stack(stack1):\n",
    "    stack2 = []\n",
    "    while stack1:\n",
    "        temp = stack1.pop()\n",
    "       \n",
    "        while stack2 and temp<stack2[-1]:\n",
    "            stack1.append(stack2.pop())\n",
    "        stack2.append(temp)\n",
    "\n",
    "    return stack2\n",
    "\n",
    "stack1 = [30,23,1,4,10,15]\n",
    "print(sort_stack(stack1))\n"
   ]
  },
  {
   "source": [
    "### CountArithmeticMeans -> Robinhood\n",
    "\n",
    "Given an array of integers a, your task is to calculate how many numbers in the array are equal to the arithmetic mean of their immediate neighbors. Count the number of indices such that a[i-1]+a[i+1] = 2 * a[i]\n",
    "If a[i-1] or a[i+1] doesn't exist, they should be considered equal to 0\n",
    "Input: [2,4,6,6,3]\n",
    "O/P : 3\n",
    "Expl: 0+4 = 2*2, 2+6 = 2*4, 4+6 != 2*6, 6+3!=2*6, 6+0 == 2*3\n"
   ],
   "cell_type": "markdown",
   "metadata": {}
  },
  {
   "cell_type": "code",
   "execution_count": 27,
   "metadata": {
    "tags": []
   },
   "outputs": [
    {
     "output_type": "stream",
     "name": "stdout",
     "text": "0\n3\n"
    }
   ],
   "source": [
    "\n",
    "def countArithmeticMeans(arr):\n",
    "    count = 0\n",
    "    if len(arr)<2 and arr[0]==0:\n",
    "        return 1\n",
    "    if len(arr)<2:\n",
    "        return 0\n",
    "    for i in range(len(arr)):\n",
    "        if i==0:\n",
    "            total = 0 + arr[i+1]\n",
    "        elif i==len(arr)-1:\n",
    "            total = arr[i-1]+0\n",
    "        else:\n",
    "            total = arr[i-1]+arr[i+1]\n",
    "        if total == 2* arr[i]:\n",
    "            count+=1\n",
    "    return count\n",
    "\n",
    "print(countArithmeticMeans([1]))\n",
    "print(countArithmeticMeans([2,4,6,6,3]))\n"
   ]
  },
  {
   "source": [
    "### Reduce the number -> Robinhood\n",
    "\n",
    "You are given a non-negative integer number represented as a string of digits and a positive integer k. Your task isto perform the following algorithm:\n",
    "1. If the length of the number is <= k,end the algorithm. Otherwise proceed to the next steps:\n",
    "2. Split the number into groups of k digits in each. The last group may contain less than k digits;\n",
    "3. Add up the digits in each group and concatenate these results in the same order;\n",
    "4. Replace the number with the result of step 3 and go back to step 1.\n",
    "Return the resulting string number after the algorithm ends.\n",
    "\n",
    "It is guaranteed that the algorithm will end at step 1 at some point.\n",
    "\n",
    "Example:\n",
    "\n",
    "For number = \"1111122222\" and k=3, the output should be reduceTheNumber(number, k) = \"132\"\n",
    "expl:\n",
    "111 112 222 2\n",
    "3   4   6   2\n",
    "346 2\n",
    "13  2\n",
    "len(13)=2 < k so merge the sets => 132\n",
    "\n"
   ],
   "cell_type": "markdown",
   "metadata": {}
  },
  {
   "cell_type": "code",
   "execution_count": 26,
   "metadata": {
    "tags": []
   },
   "outputs": [
    {
     "output_type": "stream",
     "name": "stdout",
     "text": "132\n510\n"
    }
   ],
   "source": [
    "def reduceTheNumber(number, k):\n",
    "    if len(number)<=k:\n",
    "        return number\n",
    "    # create chunks of k size ->list    \n",
    "    chunks = [number[i:i+k] for i in range(0, len(number), k)]\n",
    "    \n",
    "    res = [] #intermediate list to store the totals of each chunk \n",
    "    for chunk in chunks:\n",
    "        res += [sum([int(x) for x in chunk])]   #yields a list of integers\n",
    "    \n",
    "    # concatenate the list into one single integer and then convert it to string.\n",
    "    strings = [str(integer) for integer in res]\n",
    "    \n",
    "    return reduceTheNumber(\"\".join(strings),k)\n",
    "\n",
    "print(reduceTheNumber(\"1111122222\", 3))\n",
    "print(reduceTheNumber(\"1111122222\", 5))"
   ]
  },
  {
   "source": [
    "### Reorder data in log files - LC 937"
   ],
   "cell_type": "markdown",
   "metadata": {}
  },
  {
   "cell_type": "code",
   "execution_count": 7,
   "metadata": {
    "tags": []
   },
   "outputs": [
    {
     "output_type": "stream",
     "name": "stdout",
     "text": "['let1 art can', 'let3 art zero', 'let2 own kit dig', 'dig1 8 1 5 1', 'dig2 3 6']\n"
    }
   ],
   "source": [
    "def reorderLogFiles(logs):\n",
    "    digit_log = []\n",
    "    letter_log = []\n",
    "    result = []\n",
    "    for log in logs:\n",
    "        log_split = log.split()\n",
    "        if log_split[1].isdigit():\n",
    "            digit_log.append(log)\n",
    "        else:\n",
    "            letter_log.append(log_split)\n",
    "            sorted_letter_log = sorted(letter_log, key = lambda x: (x[1:], x[0]))\n",
    "    \n",
    "    for letter in sorted_letter_log:\n",
    "        result.append(' '.join(letter))\n",
    "\n",
    "    return result + digit_log\n",
    "\n",
    "print(reorderLogFiles(logs = [\"dig1 8 1 5 1\",\"let1 art can\",\"dig2 3 6\",\"let2 own kit dig\",\"let3 art zero\"]))"
   ]
  },
  {
   "source": [
    "### Meeting Rooms 2 - LC 253\n",
    "<br/>\n",
    "Given an array of meeting time intervals consisting of start and end times [[s1,e1],[s2,e2],...], (s1<e1), find the minimum number of conference rooms required. \n",
    "<br/>\n",
    "Example1: <br/>\n",
    "Input: [[0,30],[5,10],[15,20]]<br/>\n",
    "Output: 2<br/>\n",
    "Input: [[7,10],[2,4]]<br/>\n",
    "Output: 1<br/>\n"
   ],
   "cell_type": "markdown",
   "metadata": {}
  },
  {
   "cell_type": "code",
   "execution_count": 6,
   "metadata": {
    "tags": []
   },
   "outputs": [
    {
     "output_type": "stream",
     "name": "stdout",
     "text": "2\n1\n"
    }
   ],
   "source": [
    "import heapq\n",
    "def meetingRooms(intervals):\n",
    "    # if no meeting intervals, return 0\n",
    "    if not intervals:\n",
    "        return 0\n",
    "    # sort the intervals in ascending order of start times\n",
    "    intervals.sort(key=lambda x:x[0])\n",
    "    #initialize heap to keep track of meeting rooms and assign first meeting interval[0][1]. Only push end times to heap to pull the first meeting that finishes \n",
    "    # want to be able to remove the end time that is earliest from the room datastructure. \n",
    "    room = [intervals[0][1]]\n",
    "    #check if existing meeting in the heap will finish before the current meeting start time. \n",
    "    #if existing meeting end time is less than the next arriving meeting's start time, then that room can be utilized for the next meeting. Else new meeting room must be used. Simulating one meeting room, and then calculating the length of meeting intervals in the room will yield the number of rooms that must be allocated.\n",
    "    for meeting in intervals[1:]:\n",
    "        if room[0] <= meeting[0]:\n",
    "            heapq.heappop(room)\n",
    "        heapq.heappush(room, meeting[1])\n",
    "    \n",
    "    return len(room)\n",
    "\n",
    "print(meetingRooms([[0,30],[5,10],[15,20]]))\n",
    "print(meetingRooms([[7,10],[2,4]]))\n",
    "\n",
    "\n",
    "'''\n",
    "Runtime complexity analysis:\n",
    "\n",
    "Sorting intervals = O(n logn)\n",
    "Heap creation, insertion, deletion, including maintaining the heap constraint/ heap invariant = O(n logn)\n",
    "So total time = O(n logn)\n",
    "Space = O(n) worst case if every interval requires separate meeting room.\n",
    "'''\n"
   ]
  },
  {
   "source": [
    "#### Given a 2D array, write a function that groups the inner arrays by mean so that the indices of the arrays with the same mean are grouped together."
   ],
   "cell_type": "markdown",
   "metadata": {}
  },
  {
   "cell_type": "code",
   "execution_count": 13,
   "metadata": {
    "tags": []
   },
   "outputs": [
    {
     "output_type": "stream",
     "name": "stdout",
     "text": "[[0, 1], [2, 3], [4]]\n"
    }
   ],
   "source": [
    "\n",
    "arr = [\n",
    "    [1,2,3],\n",
    "    [3,2,1],\n",
    "    [2,3,4],\n",
    "    [3,4,2],\n",
    "    [4,5,6]\n",
    "]\n",
    "\n",
    "import collections\n",
    "def group_together(arr):\n",
    "    result = []\n",
    "    mean_mapping = collections.defaultdict(list)\n",
    "    for index,row in enumerate(arr):\n",
    "        m = sum(row)//len(row)\n",
    "        mean_mapping[m].append(index)\n",
    "    # print(mean_mapping)\n",
    "    for values in mean_mapping.values():\n",
    "        result.append(values)\n",
    "        # print(result)\n",
    "    return result\n",
    "\n",
    "print(group_together(arr))\n"
   ]
  },
  {
   "source": [
    "### Leetcode 702 : Search in a Sorted Array of Unknown Size\n",
    "\n",
    "Given an integer array sorted in ascending order, write a function to search target in nums.  If target exists, then return its index, otherwise return -1. However, the array size is unknown to you. You may only access the array using an ArrayReader interface, where ArrayReader.get(k) returns the element of the array at index k (0-indexed). <br/>\n",
    "\n",
    "You may assume all integers in the array are less than 10000, and if you access the array out of bounds, ArrayReader.get will return 2147483647. <br/>\n",
    "\n",
    "Input: array = \\[-1,0,3,5,9,12\\], target = 9 <br/>\n",
    "Output: 4 <br/>\n",
    "Explanation: 9 exists in nums and its index is 4"
   ],
   "cell_type": "markdown",
   "metadata": {}
  },
  {
   "cell_type": "code",
   "execution_count": 16,
   "metadata": {
    "tags": []
   },
   "outputs": [
    {
     "output_type": "stream",
     "name": "stdout",
     "text": "4\n-1\n"
    }
   ],
   "source": [
    "class ArrayReader:\n",
    "    def __init__(self, arr):\n",
    "        self.arr = arr\n",
    "    \n",
    "    def get(self, index):\n",
    "        return self.arr[index]\n",
    "\n",
    "\n",
    "\n",
    "def binarySearch(reader, target):\n",
    "    #if the first element itself is equal to target return the index. Also covers the testcase where the length of the arr is 1.\n",
    "    if reader.get(0) == target:\n",
    "        return 0\n",
    "    \n",
    "    #find the boundaries\n",
    "    left, right = 0, 1\n",
    "    while reader.get(right)<target:\n",
    "        left = right\n",
    "        right<<=1 #right*=2\n",
    "    \n",
    "    #perform binary search\n",
    "    while left<=right:\n",
    "        mid = left + (right-left)//2\n",
    "        if reader.get(mid) == target:\n",
    "            return mid\n",
    "        \n",
    "        elif reader.get(mid) > target:\n",
    "            right = mid - 1\n",
    "        else:\n",
    "            left = mid + 1\n",
    "    \n",
    "    return -1\n",
    "\n",
    "\n",
    "\n",
    "arr = [-1,0,3,5,9,12]\n",
    "reader = ArrayReader(arr)\n",
    "print(binarySearch(reader, 9))\n",
    "print(binarySearch(reader, 2))"
   ]
  },
  {
   "cell_type": "code",
   "execution_count": null,
   "metadata": {},
   "outputs": [],
   "source": [
    "'''\n",
    "Peloton nameless question -> similar to number of islands.\n",
    "'''\n",
    "from collections import deque\n",
    "input = [[4,4,4,4],\n",
    "         [5,5,5,4],\n",
    "         [2,5,7,5]]\n",
    "\n",
    "# input = []\n",
    "\n",
    "def bfs(input,r,c):\n",
    "    if not input:\n",
    "        return 0\n",
    "\n",
    "    n = len(input)\n",
    "    m = len(input[0])\n",
    "\n",
    "    directions = [(0,1),(1,0),(0,-1),(-1,0)]\n",
    "    q = deque([(r,c)])\n",
    "    req = input[r][c]\n",
    "    ans = 0\n",
    "    while q:\n",
    "        x,y = q.popleft()\n",
    "\n",
    "        if x >= n or y >= m:\n",
    "            continue\n",
    "\n",
    "        if input[x][y] == req:\n",
    "            ans += 1\n",
    "            input[x][y] = -1\n",
    "        else:\n",
    "            continue\n",
    "\n",
    "        for r,s in directions:\n",
    "            i = x + r\n",
    "            j = y + s\n",
    "            q.append((i,j))\n",
    "\n",
    "    return ans\n",
    "\n",
    "print(bfs(input,1,2))"
   ]
  },
  {
   "cell_type": "code",
   "execution_count": null,
   "metadata": {},
   "outputs": [],
   "source": [
    "'''\n",
    "SNAKE PROBLEM - Peloton\n",
    "'''\n",
    "\n",
    "\n",
    "from collections import deque\n",
    "# input = [[1,1,1,1,1,1,1,0,0],\n",
    "#          [1,1,0,0,0,0,0,1,1],\n",
    "#          [0,0,0,0,0,1,1,0,1],\n",
    "#          [1,1,0,1,1,1,1,0,0],\n",
    "#          [1,1,0,0,0,0,0,0,1],\n",
    "#          [1,1,0,1,1,0,1,0,1]]\n",
    "\n",
    "input = [\n",
    "    ['+','0','0','0','+'],\n",
    "    ['+','0','+','0','+'],\n",
    "    ['+','0','0','0','+'],\n",
    "    ['+','0','+','0','+']\n",
    "    ]\n",
    "\n",
    "def findNearestPath(input, r, c):\n",
    "    if not input:\n",
    "        return [-1,-1]\n",
    "\n",
    "    n = len(input)\n",
    "    m = len(input[0])\n",
    "\n",
    "    q = deque([(r,c)])\n",
    "    directions = [(-1,0),(0,-1),(0,1),(1,0)]\n",
    "    entry = True\n",
    "    while q:\n",
    "        x,y = q.popleft()\n",
    "\n",
    "        if x >= n or y >= m or x < 0 or y < 0:\n",
    "            continue\n",
    "\n",
    "        if input[x][y] != '0':\n",
    "            continue\n",
    "\n",
    "        if not entry and (x == n - 1 or y == m - 1 or x == 0 or y == 0):\n",
    "            return (x,y)\n",
    "\n",
    "        for u,v in directions:\n",
    "            i = x + u\n",
    "            j = y + v\n",
    "            q.append((i,j))\n",
    "\n",
    "        input[x][y] = 1\n",
    "        entry = False\n",
    "\n",
    "    return (-1,-1)\n",
    "\n",
    "print(findNearestPath(input,3,1))"
   ]
  },
  {
   "cell_type": "code",
   "execution_count": 1,
   "metadata": {
    "tags": []
   },
   "outputs": [
    {
     "output_type": "execute_result",
     "data": {
      "text/plain": [
       "'ippississiM'"
      ]
     },
     "metadata": {},
     "execution_count": 1
    }
   ],
   "source": [
    "s = \"Mississippi\"\n",
    "\n",
    "def printStr(s):\n",
    "    \n",
    "    if len(s)==1:\n",
    "        return s\n",
    "    return printStr(s[1:])+s[0]\n",
    "    # print(s)\n",
    "\n",
    "printStr(s)"
   ]
  },
  {
   "cell_type": "code",
   "execution_count": 3,
   "metadata": {},
   "outputs": [
    {
     "output_type": "stream",
     "name": "stdout",
     "text": [
      "pqa\nbcp\n"
     ]
    }
   ],
   "source": [
    "# Given an array of codes and their decodes, create a function to decode an encoded message\n",
    "\n",
    "codes = ['a\\t100100', 'b\\t100101', 'c\\t110001', 'd\\t100000', '[newline]\\t111111', 'p\\t111110', 'q\\t000001']\n",
    "\n",
    "encoded = \"111110000001100100111111100101110001111110\"\n",
    "\n",
    "# Your function solution\n",
    "import collections\n",
    "def decode(codes, encoded):\n",
    "  code_dict = collections.defaultdict()\n",
    "  code_len = 0\n",
    "  result = ''\n",
    "  for code in codes:\n",
    "    val, key = code.split('\\t')\n",
    "    code_dict[key] = val\n",
    "    code_len = len(key)\n",
    "#   print(code_dict)\n",
    "  i = 0\n",
    "  while i+code_len <= len(encoded):\n",
    "    result+=code_dict[encoded[i:i+code_len]]\n",
    "    i+=code_len\n",
    "  \n",
    "  print(result.replace('[newline]','\\n'))\n",
    "\n",
    "decode(codes, encoded)"
   ]
  },
  {
   "cell_type": "code",
   "execution_count": 4,
   "metadata": {},
   "outputs": [
    {
     "output_type": "stream",
     "name": "stdout",
     "text": [
      "defaultdict(<class 'int'>, {'com': 1340, 'google.com': 900, 'yahoo.com': 410, 'mail.yahoo.com': 60, 'sports.yahoo.com': 50, 'mobile.sports.yahoo.com': 10, 'stackoverflow.com': 10, 'overflow.com': 20, 'org': 3, 'wikipedia.org': 3, 'en.wikipedia.org': 2, 'm.wikipedia.org': 1, 'sports': 1, 'mobile.sports': 1, 'uk': 1, 'co.uk': 1, 'google.co.uk': 1})\n"
     ]
    }
   ],
   "source": [
    "# Given an array of domains and subdomains, find the count of each domain split by a period .\n",
    "\n",
    "counts1 = [\n",
    "     \"60,mail.yahoo.com\",\n",
    "     \"10,mobile.sports.yahoo.com\",\n",
    "     \"40,sports.yahoo.com\",\n",
    "     \"300,yahoo.com\"\n",
    "]\n",
    "\n",
    "\n",
    "counts2 = [ \"900,google.com\",\n",
    "     \"60,mail.yahoo.com\",\n",
    "     \"10,mobile.sports.yahoo.com\",\n",
    "     \"40,sports.yahoo.com\",\n",
    "     \"300,yahoo.com\",\n",
    "     \"10,stackoverflow.com\",\n",
    "     \"20,overflow.com\",\n",
    "     \"2,en.wikipedia.org\",\n",
    "     \"1,m.wikipedia.org\",\n",
    "     \"1,mobile.sports\",\n",
    "     \"1,google.co.uk\"]\n",
    "\n",
    "\n",
    "'''\n",
    "My Solution\n",
    "'''\n",
    "import collections\n",
    "def domain_count(count: [str]) -> {str: int}:\n",
    "  # write code here\n",
    "  # split string based on ','' and create a dictionary of str:int\n",
    "  dom_dict = collections.defaultdict(int) #O(n) space\n",
    "  for cnt in count: #O(n)\n",
    "    val, key = cnt.split(',')\n",
    "    dom_dict[key] = int(val)\n",
    "  \n",
    "  # iterate on the dict, get key, split based on '.' and store in stack. Pull each str out, iterate through keys to find the match and update count/insert new domain in the result dict.\n",
    "  res_dict = collections.defaultdict(int) #O(n) space\n",
    "  stack = []  #O(m) space\n",
    "\n",
    "  for key in dom_dict.keys(): #O(n)\n",
    "    string = key\n",
    "    s= string.split(\".\")\n",
    "    \n",
    "    for i in range(len(s)): #O(m)\n",
    "      stack.append(s[i])\n",
    "    temp_list = [] #O(m)\n",
    "    temp = \"\" #O(m)\n",
    "    while stack:  #O(m)\n",
    "      domain = stack.pop()\n",
    "      temp_list.insert(0,domain) # O(m)\n",
    "      temp='.'.join(temp_list)\n",
    "      if temp in key:\n",
    "        k = dom_dict[key]\n",
    "      res_dict[temp] += k\n",
    "  \n",
    "  return res_dict\n",
    "\n",
    "\n",
    "print(domain_count(counts2))\n",
    "   \n",
    "\n",
    "# Space complexity of your function:\n",
    "# ____O(n)+O(m) = O(n+m)\n",
    "\n",
    "# Time complexity of your function:\n",
    "# ____ O(n) + O(n)* O(m+m2) = O(n) + O(m2n) = O(m2n)\n",
    "\n",
    "#  n = number of domains in the input\n",
    "#  m = length of each domain string in the input\n",
    "\n",
    "\n",
    "'''\n",
    "Guillermos solution\n",
    "\n",
    "counts = [ \"900,google.com\",\n",
    "     \"60,mail.yahoo.com\",\n",
    "     \"10,mobile.sports.yahoo.com\",\n",
    "     \"40,sports.yahoo.com\",\n",
    "     \"300,yahoo.com\",\n",
    "     \"10,stackoverflow.com\",\n",
    "     \"20,overflow.com\",\n",
    "     \"2,en.wikipedia.org\",\n",
    "     \"1,m.wikipedia.org\",\n",
    "     \"1,mobile.sports\",\n",
    "     \"1,google.co.uk\"]\n",
    "\n",
    "# - Split count with domain.\n",
    "# - Split subdomains/domains\n",
    "# - Add keys/values to dict()\n",
    "\n",
    "def domain_count(count: [str]) -> {str: int}:\n",
    "    domains = dict()\n",
    "\n",
    "\n",
    "    for s in count:\n",
    "\n",
    "        # s = '900, google.com'\n",
    "        item = s.split(',')\n",
    "\n",
    "        # cnt = 900\n",
    "        cnt = int(item[0])\n",
    "        # main_dom = 'google.com'\n",
    "        main_dom = item[1]\n",
    "\n",
    "        # ['google', 'com']\n",
    "        d = main_dom.split('.')\n",
    "\n",
    "        # Len = 2\n",
    "        for sub in range(len(d)):\n",
    "            # domain =  'google'\n",
    "            domain = d[sub]\n",
    "            \n",
    "            i = 1\n",
    "            # Organize domains with '.' since they are missing\n",
    "            while sub < len(d) and sub+i < len(d):\n",
    "                # domain = google.com\n",
    "                domain += '.' + d[sub+i]\n",
    "                # Keep going to the next letter\n",
    "                i += 1\n",
    "\n",
    "\n",
    "            if domain in domains:\n",
    "                domains[domain] += cnt\n",
    "            else:\n",
    "                # domains = {google.com: 900}\n",
    "                domains[domain] = cnt\n",
    "\n",
    "    return domains\n",
    "\n",
    "\n",
    "\n",
    "\n",
    "# Space complexity\n",
    "# O(n)\n",
    "\n",
    "# Time\n",
    "# O(n^2)\n",
    "\n",
    "print(domain_count(counts))\n",
    "'''"
   ]
  },
  {
   "cell_type": "code",
   "execution_count": 6,
   "metadata": {},
   "outputs": [
    {
     "output_type": "stream",
     "name": "stdout",
     "text": [
      "False\n"
     ]
    }
   ],
   "source": [
    "inputs = [-1,8,3]\n",
    "tests = [3,9]\n",
    "\n",
    "# Bruet Force\n",
    "\n",
    "def summation(inputs,tests):\n",
    "    for i in range(len(inputs)):\n",
    "        for j in range(i+1,len(inputs)):\n",
    "            if inputs[i]+inputs[j] in tests:\n",
    "                print(inputs[i],inputs[j])\n",
    "                return True\n",
    "    return False\n",
    "\n",
    "print(summation(inputs,tests))\n",
    "\n",
    "\n",
    "# using two sum approach\n",
    "\n",
    "def summation_two(inputs,tests):\n",
    "    hm = {}\n",
    "    for index,input in enumerate(inputs):\n",
    "        if input not in hm:\n",
    "            hm[input] = index\n",
    "    print(hm)\n",
    "    for test in tests:\n",
    "        if two_sum(hm,test):\n",
    "            return True\n",
    "    return False\n",
    "\n",
    "def two_sum(hm,test):\n",
    "    if test-"
   ]
  },
  {
   "cell_type": "code",
   "execution_count": 13,
   "metadata": {},
   "outputs": [
    {
     "output_type": "stream",
     "name": "stdout",
     "text": [
      "1\n"
     ]
    }
   ],
   "source": [
    "def max_len_same(arr):\n",
    "    max_len = 0\n",
    "    length = 1\n",
    "    for i in range(1,len(arr)):\n",
    "        if arr[i-1]==arr[i]:\n",
    "            length+=1\n",
    "        else:\n",
    "            length=1\n",
    "        max_len = max(length,max_len)\n",
    "    return max_len\n",
    "\n",
    "print(max_len_same([1,2,3,4,5]))"
   ]
  },
  {
   "cell_type": "code",
   "execution_count": 16,
   "metadata": {},
   "outputs": [
    {
     "output_type": "stream",
     "name": "stdout",
     "text": [
      "(3, [2, 2, 2])\n"
     ]
    }
   ],
   "source": [
    "def max_len_same_ret_subarr(arr):\n",
    "    st_indices = {}\n",
    "    end_indices = {}\n",
    "    count = {}\n",
    "    length = 0\n",
    "    st = 0\n",
    "    end = 0\n",
    "    max_len = 0\n",
    "    for i in range(len(arr)):\n",
    "        if arr[i] not in st_indices:\n",
    "            st_indices[arr[i]]=i\n",
    "        end_indices[arr[i]]=i\n",
    "        count[arr[i]] = count.get(arr[i],0)+1\n",
    "    for i in range(len(arr)):\n",
    "        if count[arr[i]]>max_len:\n",
    "            max_len = count[arr[i]]\n",
    "            st = st_indices[arr[i]]\n",
    "            end = end_indices[arr[i]]\n",
    "    return (max_len, arr[st:end+1])\n",
    "\n",
    "print(max_len_same_ret_subarr([1,1,4,2,2,2,5,5]))"
   ]
  },
  {
   "cell_type": "code",
   "execution_count": null,
   "metadata": {},
   "outputs": [],
   "source": [
    "# Product of array except self\n",
    "\n",
    "def array_of_array_products(arr):\n",
    "   # your code goes here\n",
    "    \n",
    "    length = len(arr)\n",
    "    if length<2:\n",
    "      return []\n",
    "    left = [0]*length\n",
    "    right = [0]*length\n",
    "    result = [0]*length\n",
    "    left[0] = 1\n",
    "    right[length-1] = 1\n",
    "    for i in range(1,length):\n",
    "      left[i] = left[i-1]*arr[i-1]\n",
    "    for i in range(length-2,-1,-1):\n",
    "      right[i] = right[i+1] * arr[i+1]\n",
    "    for i in range(length):\n",
    "      result[i] = left[i]*right[i]\n",
    "    return result\n",
    "      "
   ]
  },
  {
   "cell_type": "code",
   "execution_count": 1,
   "metadata": {},
   "outputs": [
    {
     "output_type": "stream",
     "name": "stdout",
     "text": [
      "4\n"
     ]
    }
   ],
   "source": [
    "# Count the number of occurrences of an element N in a given array arr.\n",
    "\n",
    "arr = [1,2,3,3,3,3,9,15]\n",
    "number = 3\n",
    "def binary_search(arr,number,searchFirst):\n",
    "    left = 0\n",
    "    right = len(arr)-1\n",
    "    while left<=right:\n",
    "        mid = left+(right-left)//2\n",
    "        if arr[mid] == number:\n",
    "            res = mid\n",
    "            if searchFirst:\n",
    "                right=mid-1\n",
    "            else:\n",
    "                left=mid+1\n",
    "        elif arr[mid]<number:\n",
    "            left = mid+1\n",
    "        else:\n",
    "            right = mid-1\n",
    "    return res\n",
    "            \n",
    "left = binary_search(arr,number,True)\n",
    "right = binary_search(arr,number,False)\n",
    "print(right-left+1)"
   ]
  },
  {
   "cell_type": "code",
   "execution_count": null,
   "metadata": {},
   "outputs": [],
   "source": []
  }
 ]
}