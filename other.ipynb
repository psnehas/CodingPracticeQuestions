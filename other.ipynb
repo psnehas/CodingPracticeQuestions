{
 "metadata": {
  "language_info": {
   "codemirror_mode": {
    "name": "ipython",
    "version": 3
   },
   "file_extension": ".py",
   "mimetype": "text/x-python",
   "name": "python",
   "nbconvert_exporter": "python",
   "pygments_lexer": "ipython3",
   "version": "3.7.6-final"
  },
  "orig_nbformat": 2,
  "kernelspec": {
   "name": "python_defaultSpec_1599893072368",
   "display_name": "Python 3.7.6 64-bit ('torch': conda)"
  }
 },
 "nbformat": 4,
 "nbformat_minor": 2,
 "cells": [
  {
   "cell_type": "markdown",
   "metadata": {},
   "source": [
    "## WiT Regatta\n",
    "\n",
    "### - Keisha's takeaways\n",
    "\n",
    "1. “Begin again. Whatever you thought you were going to accomplish in 2020 before the pandemic hit, you can begin again.” - Dr. Tonya Drake, Chancellor and Regional Vice President at Western Governors University.\n",
    "\n",
    "2. “Embrace your unfiltered, casual self. Get really comfortable with your authentic self, and you’ll be successful if you’re being true to that.” - Hillary Mickell, Dean and Regional CEO of Northeastern University\n",
    "\n",
    "3. “Feedback is not personal! It’s providing a perspective. Are you being open to receiving that perspective?” - Yvonne Ruke Akpoveta, Change Strategist & Advisor, and Founder at The Change Leadership.\n",
    "\n",
    "4. “When going into a salary negotiation, ask yourself: ‘What do I want to earn based on what I see, what I’m worth and what I want?’ Have the courage to believe your work is valuable.” - Derek Bruce, Director Leadership Development at Signify\n",
    "\n",
    "5. \"Don't burn yourself out. People will respect the boundaries that you set. You just need to be communicative of those.\" - Felicia Williams from Facebook\n",
    "\n",
    "6. “Perfection is a land you’ll never reach and you’ll tire yourself out trying to get there.” - Tricia Cleppe, Account Director at davies + Dixon\n",
    "\n",
    "7. \"We have to embed an education teaching kids the mindset about failure.\" - Deborah Carter, Founder of NewTechKids\n",
    "\n",
    "8. \"It took me awhile to find my voice and when I actually found it, people actually listened to it.\" - Cynthia Tee, VP of Technology, Nordstrom.\n",
    "\n",
    "9. \"Diversity & inclusion needs to be everywhere...in order for people to change mindset I go back to the home where they were raised. It has to start from home.\" - Yaa Priscilla Birago discussing the importance of having tough conversations with kids. They grow up to be our leaders!\n",
    "\n",
    "10. \"You will mess up and it will feel uncomfortable. If you're not prepared for that, you need to step back and figure out when you'll be prepared for that.\" - Pert Lin from The Gates Foundation."
   ]
  },
  {
   "cell_type": "markdown",
   "metadata": {},
   "source": [
    "### Trapping Rain water - leetcode 42"
   ]
  },
  {
   "cell_type": "code",
   "execution_count": 1,
   "metadata": {
    "tags": []
   },
   "outputs": [
    {
     "output_type": "stream",
     "name": "stdout",
     "text": "6\n"
    }
   ],
   "source": [
    "# two pointer approach\n",
    "def rain_water(height):\n",
    "    left_wall, right_wall = 0,0\n",
    "    water = 0\n",
    "    left_ptr, right_ptr = 0, len(height)-1\n",
    "    while left_ptr<right_ptr:\n",
    "        if height[left_ptr]<height[right_ptr]:\n",
    "            if height[left_ptr] > left_wall:\n",
    "                left_wall = height[left_ptr]\n",
    "                \n",
    "            else:\n",
    "                water+= left_wall - height[left_ptr]\n",
    "                left_ptr += 1\n",
    "        else:\n",
    "            if height[right_ptr]>right_wall:\n",
    "                right_wall = height[right_ptr]\n",
    "               \n",
    "            else:\n",
    "                water+= right_wall - height[right_ptr]\n",
    "                right_ptr -=1\n",
    "    return water\n",
    "\n",
    "print(rain_water([0,1,0,2,1,0,1,3,2,1,2,1]))"
   ]
  },
  {
   "cell_type": "markdown",
   "metadata": {},
   "source": [
    "### Group Anagrams - Leetcode 49\n"
   ]
  },
  {
   "cell_type": "markdown",
   "metadata": {},
   "source": [
    "Given an array of strings, group anagrams together. <br/>\n",
    "Input: \n",
    "[\"eat\", \"tea\", \"tan\", \"ate\", \"nat\", \"bat\"] <br/>\n",
    "Output:<br/>\n",
    "[<br/>\n",
    "  [\"ate\",\"eat\",\"tea\"],<br/>\n",
    "  [\"nat\",\"tan\"],<br/>\n",
    "  [\"bat\"]<br/>\n",
    "]<br/>"
   ]
  },
  {
   "cell_type": "code",
   "execution_count": 3,
   "metadata": {
    "tags": []
   },
   "outputs": [
    {
     "output_type": "stream",
     "name": "stdout",
     "text": "[['eat', 'tea', 'ate'], ['tan', 'nat'], ['bat']]\n"
    }
   ],
   "source": [
    "import collections\n",
    "def anagrams(strs):\n",
    "    words_hashmap = collections.defaultdict(list)\n",
    "    result = []\n",
    "    for word in strs:\n",
    "        sorted_word = str(sorted(word))\n",
    "        words_hashmap[sorted_word].append(word)\n",
    "    for value in words_hashmap.values():\n",
    "        result.append(value)\n",
    "    return result\n",
    "\n",
    "print(anagrams([\"eat\", \"tea\", \"tan\", \"ate\", \"nat\", \"bat\"]))"
   ]
  },
  {
   "cell_type": "markdown",
   "metadata": {},
   "source": [
    "### Given an integer, return its string format with values separated by comma at the appropriate positions.<br/>\n",
    "Input: n = 1234<br/>\n",
    "Output: \"1,234\"<br/>"
   ]
  },
  {
   "cell_type": "code",
   "execution_count": 13,
   "metadata": {
    "tags": []
   },
   "outputs": [
    {
     "output_type": "stream",
     "name": "stdout",
     "text": "['1', '2', ',', '3', '4', '5', ',', '6', '7', '4']\n12,345,674\n"
    }
   ],
   "source": [
    "n = 12345674\n",
    "count = 0\n",
    "arr = []\n",
    "while n>0:\n",
    "    arr.insert(0,str(n%10))\n",
    "    count+=1\n",
    "    if count%3==0:\n",
    "        arr.insert(0,\",\")\n",
    "    n //=10\n",
    "print(arr)\n",
    "strar = \"\".join(arr)\n",
    "print(strar)"
   ]
  },
  {
   "cell_type": "markdown",
   "metadata": {},
   "source": []
  },
  {
   "cell_type": "markdown",
   "metadata": {},
   "source": [
    "### 3Sum question - Leetcode 15"
   ]
  },
  {
   "cell_type": "code",
   "execution_count": null,
   "metadata": {},
   "outputs": [],
   "source": [
    "def threeSum(nums):\n",
    "    result = []\n",
    "    if not nums:\n",
    "        return result\n",
    "    for i in range(len(nums)):\n",
    "        if nums[i]>0:\n",
    "            break\n",
    "        if i=0 or nums[i]!=nums[i-1]:\n",
    "            twoSum(nums, i , result)\n",
    "    return result\n",
    "\n",
    "def twoSum(nums, i, result):\n",
    "    low = i+1\n",
    "    hi = len(nums)-1\n",
    "    while(low<hi):\n",
    "        total = nums[i] + nums[low] + nums[hi]\n",
    "        if total<0:\n",
    "            low+=1\n",
    "        elif total>0:\n",
    "            hi-=1\n",
    "        else:\n",
    "            result.append([nums[i], nums[low], nums[hi]])\n",
    "            low+=1\n",
    "            hi-=1\n",
    "            while low<hi and nums[low]==nums[low-1]:\n",
    "                low+=1\n",
    "\n",
    "\n",
    "print(threeSum([-1,0,1,2,-1,-4]))"
   ]
  },
  {
   "cell_type": "code",
   "execution_count": 3,
   "metadata": {
    "tags": []
   },
   "outputs": [
    {
     "output_type": "stream",
     "name": "stdout",
     "text": "[1, 4, 10, 15, 23, 30]\n"
    }
   ],
   "source": [
    "# Sort the stack in ascending order\n",
    "\n",
    "def sort_stack(stack1):\n",
    "    stack2 = []\n",
    "    while stack1:\n",
    "        temp = stack1.pop()\n",
    "        # if len(stack2)!=0:\n",
    "        while stack2 and temp<stack2[-1]:\n",
    "            stack1.append(stack2.pop())\n",
    "        stack2.append(temp)\n",
    "        # else:\n",
    "        #     stack2.append(temp)\n",
    "\n",
    "    return stack2\n",
    "\n",
    "stack1 = [30,23,1,4,10,15]\n",
    "print(sort_stack(stack1))\n"
   ]
  },
  {
   "cell_type": "code",
   "execution_count": null,
   "metadata": {},
   "outputs": [],
   "source": []
  }
 ]
}