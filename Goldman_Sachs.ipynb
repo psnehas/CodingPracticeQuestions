{
 "metadata": {
  "language_info": {
   "codemirror_mode": {
    "name": "ipython",
    "version": 3
   },
   "file_extension": ".py",
   "mimetype": "text/x-python",
   "name": "python",
   "nbconvert_exporter": "python",
   "pygments_lexer": "ipython3",
   "version": "3.7.6-final"
  },
  "orig_nbformat": 2,
  "kernelspec": {
   "name": "python_defaultSpec_1598832796640",
   "display_name": "Python 3.7.6 64-bit ('torch': conda)"
  }
 },
 "nbformat": 4,
 "nbformat_minor": 2,
 "cells": [
  {
   "cell_type": "markdown",
   "metadata": {},
   "source": [
    "### Find array element that divides the array into two equal halves such that the left sum = right sum"
   ]
  },
  {
   "cell_type": "code",
   "execution_count": 1,
   "metadata": {
    "tags": []
   },
   "outputs": [
    {
     "output_type": "stream",
     "name": "stdout",
     "text": "left_sum 2\nright_sum 14\nleft_sum 5\nright_sum 10\nleft_sum 9\nright_sum 9\n1\n"
    }
   ],
   "source": [
    "# approach 1: not very efficient.\n",
    "def mid_val1(arr):\n",
    "    for i in range(1, len(arr)-1):\n",
    "        left_sum = right_sum = 0\n",
    "        left = i-1\n",
    "        while left>=0:\n",
    "            # print(\"left:\", arr[left])\n",
    "            left_sum+=arr[left]\n",
    "            left-=1\n",
    "        print(\"left_sum\", left_sum)\n",
    "        right = i+1\n",
    "        while right<len(arr):\n",
    "            # print(\"right:\", arr[right])\n",
    "            right_sum+=arr[right]\n",
    "            right+=1\n",
    "        print(\"right_sum\", right_sum)\n",
    "        if left_sum==right_sum:\n",
    "            return arr[i]\n",
    "    return -1\n",
    "\n",
    "print(mid_val1([2,3,4,1,4,5]))"
   ]
  },
  {
   "cell_type": "code",
   "execution_count": 2,
   "metadata": {
    "tags": []
   },
   "outputs": [
    {
     "output_type": "stream",
     "name": "stdout",
     "text": "left_sum_arr [2, 5, 7, 5, 5, 0]\nright_sum_arr [5, 7, 5, 5, 9, 5]\n1\n"
    }
   ],
   "source": [
    "# Approach 2\n",
    "#  using 2 arrays to store left and right sums\n",
    "# O(n) time, O(n) space\n",
    "def mid_val2(arr):\n",
    "    n = len(arr)\n",
    "    left_sum_arr = [0]*n\n",
    "    right_sum_arr = [0]*n\n",
    "    left_sum_arr[0] = arr[0]\n",
    "    for i in range(1, n-1):\n",
    "        left_sum_arr[i] = arr[i-1]+arr[i]\n",
    "    print(\"left_sum_arr\",left_sum_arr)\n",
    "    right_sum_arr[n-1] = arr[n-1]\n",
    "    for i in range(n-2,-1,-1):\n",
    "        right_sum_arr[i] = arr[i+1]+arr[i]\n",
    "    print(\"right_sum_arr\", right_sum_arr)\n",
    "    for i in range(1,n-1):\n",
    "        if left_sum_arr[i] == right_sum_arr[i]:\n",
    "            return arr[i]\n",
    "    return -1\n",
    "\n",
    "\n",
    "print(mid_val2([2,3,4,1,4,5]))"
   ]
  },
  {
   "cell_type": "code",
   "execution_count": 3,
   "metadata": {
    "tags": []
   },
   "outputs": [
    {
     "output_type": "stream",
     "name": "stdout",
     "text": "left_sum 5\nright_sum 5\nleft_sum 9\nright_sum 9\n1\n"
    }
   ],
   "source": [
    "# approach 3\n",
    "# both space and time efficient using 2 pointers\n",
    "\n",
    "def mid_val3(arr):\n",
    "    i, j = 0, len(arr)-1\n",
    "    left_sum, right_sum = 0,0\n",
    "    \n",
    "    while(i<j):\n",
    "        left_sum+=arr[i]\n",
    "        right_sum+=arr[j]\n",
    "        \n",
    "        while left_sum<right_sum:\n",
    "            i+=1\n",
    "            left_sum+=arr[i]\n",
    "           \n",
    "        while right_sum<left_sum:\n",
    "            j-=1\n",
    "            right_sum+=arr[j] \n",
    "        i+=1\n",
    "        j-=1\n",
    "        print(\"left_sum\",left_sum)\n",
    "        print(\"right_sum\",right_sum)    \n",
    "    if left_sum == right_sum:\n",
    "        return arr[i]\n",
    "    else:\n",
    "        return -1\n",
    "\n",
    "print(mid_val3([2,3,4,1,4,5]))"
   ]
  },
  {
   "cell_type": "markdown",
   "metadata": {},
   "source": [
    "## Meandering array or maximum-minimum array"
   ]
  },
  {
   "cell_type": "code",
   "execution_count": 4,
   "metadata": {
    "tags": []
   },
   "outputs": [
    {
     "output_type": "stream",
     "name": "stdout",
     "text": "[8, 1, 7, 3, 6, 4, 5]\n"
    }
   ],
   "source": [
    "'''\n",
    " Rearrange an array in maximum minimum form\n",
    "\n",
    "Input: arr[] = {1, 2, 3, 4, 5, 6, 7}\n",
    "Output: arr[] = {7, 1, 6, 2, 5, 3, 4}\n",
    "\n",
    "Input: arr[] = {1, 2, 3, 4, 5, 6}\n",
    "Output: arr[] = {6, 1, 5, 2, 4, 3}\n",
    "\n",
    "1) approach 1: sort the array, use two pointers and store the resultant in a new array\n",
    "# Question aka \n",
    "'''\n",
    "def rearrange(arr):\n",
    "    arr.sort()\n",
    "    left, right = 0, len(arr)-1\n",
    "    result = []\n",
    "    while left<right:\n",
    "        result.append(arr[right])\n",
    "        right-=1\n",
    "        result.append(arr[left])\n",
    "        left+=1\n",
    "    if len(arr)%2!=0:\n",
    "        result.append(arr[left])\n",
    "    return result\n",
    "    \n",
    "print(rearrange([1, 8, 3, 6, 5, 4, 7]))\n"
   ]
  },
  {
   "cell_type": "markdown",
   "metadata": {},
   "source": [
    "## Lexicographically maximum substring of a string"
   ]
  },
  {
   "cell_type": "code",
   "execution_count": 5,
   "metadata": {
    "tags": []
   },
   "outputs": [
    {
     "output_type": "stream",
     "name": "stdout",
     "text": "str[i:] ababaa\nlex_max: ababaa\nstr[i:] babaa\nlex_max: babaa\nstr[i:] abaa\nlex_max: babaa\nstr[i:] baa\nlex_max: babaa\nstr[i:] aa\nlex_max: babaa\nstr[i:] a\nlex_max: babaa\nbabaa\n"
    }
   ],
   "source": [
    "'''\n",
    "Lexicographically maximum substring of a string\n",
    "'''\n",
    "\n",
    "def lex_max_sub(str):\n",
    "    lex_max = \"\"\n",
    "    for i in range(len(str)):\n",
    "        print(\"str[i:]\", str[i:])\n",
    "        lex_max = max(lex_max,str[i:])\n",
    "        print(\"lex_max:\", lex_max)\n",
    "    return lex_max\n",
    "\n",
    "print(lex_max_sub(\"ababaa\"))"
   ]
  },
  {
   "cell_type": "markdown",
   "metadata": {},
   "source": [
    "## Counting Pairs\n",
    "aka K-diff pairs in array - Leetcode 532"
   ]
  },
  {
   "cell_type": "markdown",
   "metadata": {},
   "source": [
    "Given an array of integers and an integer k, you need to find the number of unique k-diff pairs in the array. Here a k-diff pair is defined as an integer pair (i, j), where i and j are both numbers in the array and their absolute difference is k.\n",
    "Input: [3, 1, 4, 1, 5], k = 2<br/>\n",
    "Output: 2<br/>\n",
    "Explanation: There are two 2-diff pairs in the array, (1, 3) and (3, 5).<br/>\n",
    "Although we have two 1s in the input, we should only return the number of unique pairs<br/>\n",
    "Input: [1, 3, 1, 5, 4], k = 0<br/>\n",
    "Output: 1<br/>\n",
    "Explanation: There is one 0-diff pair in the array, (1, 1).<br/>"
   ]
  },
  {
   "cell_type": "code",
   "execution_count": 12,
   "metadata": {
    "tags": []
   },
   "outputs": [
    {
     "output_type": "stream",
     "name": "stdout",
     "text": "1\n4\n"
    }
   ],
   "source": [
    "import collections\n",
    "def pairs(arr, k):\n",
    "    if k<0:\n",
    "        return 0\n",
    "    count = 0\n",
    "    # create a dictionary out of the array elements aka frequency map.\n",
    "    numbers = collections.defaultdict(int)\n",
    "    for num in arr:\n",
    "        numbers[num]+=1\n",
    "    # numbers = Counter(arr)\n",
    "    for num in numbers:\n",
    "        if k==0:\n",
    "            if numbers[num]>=2:\n",
    "                count+=1\n",
    "        else:\n",
    "            if k+num in numbers:\n",
    "                count+=1\n",
    "    return count\n",
    "\n",
    "print(pairs([1,3,1,5,4], 0))\n",
    "print(pairs([1,2,3,4,5], 1))"
   ]
  },
  {
   "cell_type": "code",
   "execution_count": null,
   "metadata": {},
   "outputs": [],
   "source": []
  }
 ]
}