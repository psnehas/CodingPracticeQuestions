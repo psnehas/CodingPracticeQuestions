{
 "metadata": {
  "language_info": {
   "codemirror_mode": {
    "name": "ipython",
    "version": 3
   },
   "file_extension": ".py",
   "mimetype": "text/x-python",
   "name": "python",
   "nbconvert_exporter": "python",
   "pygments_lexer": "ipython3",
   "version": "3.7.6-final"
  },
  "orig_nbformat": 2,
  "kernelspec": {
   "name": "python_defaultSpec_1597956829927",
   "display_name": "Python 3.7.6 64-bit"
  }
 },
 "nbformat": 4,
 "nbformat_minor": 2,
 "cells": [
  {
   "cell_type": "markdown",
   "metadata": {},
   "source": [
    "## WiT Regatta\n",
    "\n",
    "#### - Keisha's takeaways\n",
    "\n",
    "1.\t“Begin again. Whatever you thought you were going to accomplish in 2020 before the pandemic hit, you can begin again.” - Dr. Tonya Drake, Chancellor and Regional Vice President at Western Governors University.\n",
    "\n",
    "2.\t“Embrace your unfiltered, casual self. Get really comfortable with your authentic self, and you’ll be successful if you’re being true to that.” - Hillary Mickell, Dean and Regional CEO of Northeastern University\n",
    "\n",
    "3.\t“Feedback is not personal! It’s providing a perspective. Are you being open to receiving that perspective?” - Yvonne Ruke Akpoveta, Change Strategist & Advisor, and Founder at The Change Leadership.\n",
    "\n",
    "4.\t“When going into a salary negotiation, ask yourself: ‘What do I want to earn based on what I see, what I’m worth and what I want?’ Have the courage to believe your work is valuable.” - Derek Bruce, Director Leadership Development at Signify\n",
    "\n",
    "5.\t\"Don't burn yourself out. People will respect the boundaries that you set. You just need to be communicative of those.\" - Felicia Williams from Facebook \n",
    "\n",
    "6.\t“Perfection is a land you’ll never reach and you’ll tire yourself out trying to get there.” - Tricia Cleppe, Account Director at davies + Dixon\n",
    "\n",
    "\n",
    "7.\t\"We have to embed an education teaching kids the mindset about failure.\" - Deborah Carter, Founder of NewTechKids \n",
    "\n",
    "8.\t\"It took me awhile to find my voice and when I actually found it, people actually listened to it.\" - Cynthia Tee, VP of Technology, Nordstrom.\n",
    "\n",
    "\n",
    "9.\t\"Diversity & inclusion needs to be everywhere...in order for people to change mindset I go back to the home where they were raised. It has to start from home.\" - Yaa Priscilla Birago discussing the importance of having tough conversations with kids. They grow up to be our leaders! \n",
    "\n",
    "10.\t\"You will mess up and it will feel uncomfortable. If you're not prepared for that, you need to step back and figure out when you'll be prepared for that.\" - Pert Lin from The Gates Foundation. \n"
   ]
  },
  {
   "cell_type": "markdown",
   "metadata": {},
   "source": [
    "### Trapping Rain water - leetcode 42"
   ]
  },
  {
   "cell_type": "code",
   "execution_count": 1,
   "metadata": {
    "tags": []
   },
   "outputs": [
    {
     "output_type": "stream",
     "name": "stdout",
     "text": "6\n"
    }
   ],
   "source": [
    "# two pointer approach\n",
    "\n",
    "def rain_water(height):\n",
    "    left_wall, right_wall = 0,0\n",
    "    water = 0\n",
    "    left_ptr, right_ptr = 0, len(height)-1\n",
    "    while left_ptr<right_ptr:\n",
    "        if height[left_ptr]<height[right_ptr]:\n",
    "            if height[left_ptr] > left_wall:\n",
    "                left_wall = height[left_ptr]\n",
    "                \n",
    "            else:\n",
    "                water+= left_wall - height[left_ptr]\n",
    "                left_ptr += 1\n",
    "        else:\n",
    "            if height[right_ptr]>right_wall:\n",
    "                right_wall = height[right_ptr]\n",
    "               \n",
    "            else:\n",
    "                water+= right_wall - height[right_ptr]\n",
    "                right_ptr -=1\n",
    "    return water\n",
    "\n",
    "print(rain_water([0,1,0,2,1,0,1,3,2,1,2,1]))\n",
    "            "
   ]
  },
  {
   "cell_type": "code",
   "execution_count": null,
   "metadata": {},
   "outputs": [],
   "source": []
  }
 ]
}