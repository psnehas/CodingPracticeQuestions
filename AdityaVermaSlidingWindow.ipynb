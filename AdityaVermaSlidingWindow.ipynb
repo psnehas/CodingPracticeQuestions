{
 "metadata": {
  "language_info": {
   "codemirror_mode": {
    "name": "ipython",
    "version": 3
   },
   "file_extension": ".py",
   "mimetype": "text/x-python",
   "name": "python",
   "nbconvert_exporter": "python",
   "pygments_lexer": "ipython3",
   "version": "3.8.10"
  },
  "orig_nbformat": 2,
  "kernelspec": {
   "name": "python3",
   "display_name": "Python 3.8.10 64-bit (windows store)"
  },
  "interpreter": {
   "hash": "016e124bb190dde6d7394a43e256aeaad55640fa89fa7487e5e8d38e1342c05f"
  }
 },
 "nbformat": 4,
 "nbformat_minor": 2,
 "cells": [
  {
   "cell_type": "markdown",
   "source": [
    "### Sliding window pattern:\n",
    "<pre>\n",
    "<p>\n",
    "<b> Fixed Size window: </b>\n",
    "\n",
    "while j < len(arr or str): \n",
    "\n",
    "    perform calculations \n",
    "\n",
    "    if j-i+1 less than k: \n",
    "        j+=1 \n",
    "        \n",
    "    elif j-i+1==k: \n",
    "        1. get answer from calculations (remove i)\n",
    "        2. slide the window while maintaining the size\n",
    "\n",
    "return answer\n",
    "</p>\n",
    "</pre>\n",
    "\n",
    "<pre>\n",
    "<p>\n",
    "<b> Variable Size window: </b>\n",
    "\n",
    "while j < len(arr or str): \n",
    "\n",
    "    perform calculations \n",
    "\n",
    "    if condition less than k: \n",
    "        j+=1 \n",
    "\n",
    "    elif condition==k: \n",
    "        get answer from calculations \n",
    "        j++\n",
    "        \n",
    "    elif condition>k: \n",
    "        while condition>k:\n",
    "            remove calculations for i\n",
    "            i+=1\n",
    "        j+=1\n",
    "\n",
    "return answer\n",
    "</p>\n",
    "</pre>\n",
    "\n",
    "\n",
    "#### Note: All the codes below are working"
   ],
   "metadata": {}
  },
  {
   "cell_type": "markdown",
   "source": [
    "### Q. Maximum sum subarray of size k"
   ],
   "metadata": {}
  },
  {
   "cell_type": "code",
   "execution_count": 1,
   "source": [
    "def maxSumSubarrayOfSizeK(arr,k):\r\n",
    "    start,end = 0,0\r\n",
    "    maxSum, total = 0,0\r\n",
    "\r\n",
    "    while end<len(arr):\r\n",
    "        #calculations\r\n",
    "        total+=arr[end]\r\n",
    "        if end-start+1<k:\r\n",
    "            end+=1\r\n",
    "        elif end-start+1==k:\r\n",
    "            #get answer\r\n",
    "            maxSum = max(total, maxSum)\r\n",
    "            #slide the window\r\n",
    "            total-=arr[start]\r\n",
    "            start+=1\r\n",
    "            end+=1\r\n",
    "        \r\n",
    "    return maxSum\r\n",
    "arr1 = [100,300,400,200,600]\r\n",
    "print(maxSumSubarrayOfSizeK(arr1,4))"
   ],
   "outputs": [
    {
     "output_type": "stream",
     "name": "stdout",
     "text": [
      "600\n"
     ]
    }
   ],
   "metadata": {}
  },
  {
   "cell_type": "markdown",
   "source": [
    "### Q. First negative number in every window of size k"
   ],
   "metadata": {}
  },
  {
   "cell_type": "code",
   "execution_count": 5,
   "source": [
    "import collections\r\n",
    "def firstNegNum(arr,k):\r\n",
    "    # brute force\r\n",
    "    '''\r\n",
    "    result = []\r\n",
    "    for i in range(len(arr)-k+1):\r\n",
    "        print(\"i=\", i)\r\n",
    "        for j in range(i, i+k):\r\n",
    "            print(\"j=\",j)\r\n",
    "            if arr[j]<0:\r\n",
    "                result.append(arr[j])\r\n",
    "                break\r\n",
    "        else:\r\n",
    "            result.append(0)\r\n",
    "    return result\r\n",
    "    '''\r\n",
    "\r\n",
    "    result = []\r\n",
    "    queue = collections.deque()\r\n",
    "    i = j = 0\r\n",
    "    while j<len(arr):\r\n",
    "        #calculations\r\n",
    "        if arr[j]<0:\r\n",
    "            queue.append(arr[j])\r\n",
    "        if j-i+1<k:\r\n",
    "            j+=1\r\n",
    "        elif j-i+1==k:\r\n",
    "            #collect result\r\n",
    "            if len(queue)==0:\r\n",
    "                result.append(0)\r\n",
    "            else:\r\n",
    "                result.append(queue[0])\r\n",
    "                #slide the window\r\n",
    "                if queue[0]==arr[i]:\r\n",
    "                    queue.popleft()\r\n",
    "            i+=1\r\n",
    "            j+=1\r\n",
    "    return result\r\n",
    "            \r\n",
    "    \r\n",
    "    \r\n",
    "print(firstNegNum([12,-1,-7,8,-15,30,16,28], 3))"
   ],
   "outputs": [
    {
     "output_type": "stream",
     "name": "stdout",
     "text": [
      "[-1, -1, -7, -15, -15, 0]\n"
     ]
    }
   ],
   "metadata": {}
  },
  {
   "cell_type": "markdown",
   "source": [
    "### Q. Count occurrences of Anagrams"
   ],
   "metadata": {}
  },
  {
   "cell_type": "code",
   "execution_count": 6,
   "source": [
    "\r\n",
    "def countOccurrencesofAnagrams(s, pat):\r\n",
    "    k = len(pat)\r\n",
    "    patternMap = collections.Counter(pat)\r\n",
    "    result =0\r\n",
    "    # when elem in patternmap are = 0 => that substring is anagram of pat. But checking each key for zero is tedious, so maintain a count for distinct keys. Whenever any key reaches val 0, decr the count. \r\n",
    "    # When the current elem goes out of the window, incr corresp key in patternmap and incr the count.\r\n",
    "    count = len(patternMap)\r\n",
    "    i = j = 0\r\n",
    "    while j<len(s):\r\n",
    "        # calculations\r\n",
    "        if s[j] in patternMap:\r\n",
    "            patternMap[s[j]]-=1\r\n",
    "            if patternMap[s[j]]==0:\r\n",
    "                count-=1\r\n",
    "        if j-i+1<k:\r\n",
    "            j+=1\r\n",
    "        elif j-i+1==k:\r\n",
    "            # collect answer\r\n",
    "            if count==0:\r\n",
    "                result+=1\r\n",
    "            # slide the window\r\n",
    "            if s[i] in patternMap:\r\n",
    "                patternMap[s[i]]+=1\r\n",
    "                if patternMap[s[i]]==1:\r\n",
    "                    count+=1\r\n",
    "            i+=1\r\n",
    "            j+=1\r\n",
    "    return result\r\n",
    "    \r\n",
    "print(countOccurrencesofAnagrams(\"fororfrdofr\",\"for\"))"
   ],
   "outputs": [
    {
     "output_type": "stream",
     "name": "stdout",
     "text": [
      "3\n"
     ]
    }
   ],
   "metadata": {}
  },
  {
   "cell_type": "markdown",
   "source": [
    "### Q. Sliding window maximum - maximum of all subarrays of size k"
   ],
   "metadata": {}
  },
  {
   "cell_type": "code",
   "execution_count": 3,
   "source": [
    "import collections\r\n",
    "def maxSlidingWindow(nums, k):\r\n",
    "        '''\r\n",
    "        Brute Force\r\n",
    "\r\n",
    "        result = []\r\n",
    "        for i in range(len(arr)-k+1):\r\n",
    "            result.append(max(arr[i:i+k]))\r\n",
    "        return result\r\n",
    "        '''\r\n",
    "\r\n",
    "        # extra edge case where k is greater than len of array\r\n",
    "        if k>len(nums):\r\n",
    "            return [max(nums)]\r\n",
    "        i = j = 0\r\n",
    "        queue = collections.deque()\r\n",
    "        result = []\r\n",
    "        \r\n",
    "        while j<len(nums):\r\n",
    "            while queue and queue[-1]<nums[j]:\r\n",
    "                queue.pop()\r\n",
    "            queue.append(nums[j])\r\n",
    "            \r\n",
    "            if j-i+1<k:\r\n",
    "                j+=1\r\n",
    "            \r\n",
    "            elif j-i+1 == k:\r\n",
    "                result.append(queue[0])\r\n",
    "                if nums[i]==queue[0]:\r\n",
    "                    queue.popleft()\r\n",
    "                i+=1\r\n",
    "                j+=1\r\n",
    "        return result\r\n",
    "    \r\n",
    "print(maxSlidingWindow([1,3,-1,-3,5,3,6,7],3))"
   ],
   "outputs": [
    {
     "output_type": "stream",
     "name": "stdout",
     "text": [
      "[3, 3, 5, 5, 6, 7]\n"
     ]
    }
   ],
   "metadata": {}
  },
  {
   "cell_type": "markdown",
   "source": [
    "### Q. Longest Subarray with sum=k"
   ],
   "metadata": {}
  },
  {
   "cell_type": "code",
   "execution_count": null,
   "source": [
    "def longestSubarrayWithSumK(arr, k):\r\n",
    "    # works for positive input only.\r\n",
    "    i = j = 0\r\n",
    "    result = float('-inf')\r\n",
    "    total = 0\r\n",
    "    while j<len(arr):\r\n",
    "        # calculations -> keep adding value to total to make total==k\r\n",
    "        total+=arr[j]\r\n",
    "        if total<k:\r\n",
    "            j+=1\r\n",
    "        elif total==k:\r\n",
    "            result = max(result, j-i+1)\r\n",
    "            j+=1\r\n",
    "        else:\r\n",
    "            while total>k:\r\n",
    "                total-=arr[i]\r\n",
    "                i+=1\r\n",
    "            j+=1\r\n",
    "    return result\r\n",
    "\r\n",
    "\r\n",
    "def longestSubarrayWithSumKBF(arr,k):\r\n",
    "    # brute force = works for both positive and negative integers\r\n",
    "    maxLen = 0\r\n",
    "    for i in range(len(arr)):\r\n",
    "        total = arr[i]\r\n",
    "        print(\"total in i:\", total)\r\n",
    "        for j in range(i+1,len(arr)):\r\n",
    "            total+=arr[j]\r\n",
    "            print(\"total in j:\", total)\r\n",
    "            if total==k:\r\n",
    "                maxLen = max(maxLen, j-i+1)\r\n",
    "                print(\"maxLen:\", maxLen)\r\n",
    "                break\r\n",
    "    return maxLen\r\n",
    "\r\n",
    "print(longestSubarrayWithSumK([-5, 8, -14, 2, 4, 12],-5)) \r\n",
    "\r\n",
    "def largestSubarraySumEqK(arr, k):\r\n",
    "    # O(n) time and space\r\n",
    "    hashMap = {0:-1}\r\n",
    "    # j = 0\r\n",
    "    total = 0\r\n",
    "    maxLen = 0\r\n",
    "    for j in range(len(arr)):\r\n",
    "        total += arr[j]\r\n",
    "        if total-k in hashMap:\r\n",
    "            if j-hashMap[total-k]>maxLen:\r\n",
    "                maxLen = j-hashMap[total-k]\r\n",
    "                print(\"subarray:\", arr[hashMap[total-k]:j])\r\n",
    "            # maxLen = max(maxLen, j-hashMap[total-k])\r\n",
    "        hashMap[total] = j\r\n",
    "        \r\n",
    "    return maxLen\r\n",
    "\r\n",
    "print(largestSubarraySumEqK([10, 5, 2, 7, 1, 9],15))"
   ],
   "outputs": [],
   "metadata": {}
  }
 ]
}