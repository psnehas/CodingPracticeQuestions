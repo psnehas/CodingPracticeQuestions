{
 "metadata": {
  "language_info": {
   "codemirror_mode": {
    "name": "ipython",
    "version": 3
   },
   "file_extension": ".py",
   "mimetype": "text/x-python",
   "name": "python",
   "nbconvert_exporter": "python",
   "pygments_lexer": "ipython3",
   "version": "3.8.3-final"
  },
  "orig_nbformat": 2,
  "kernelspec": {
   "name": "python3",
   "display_name": "Python 3",
   "language": "python"
  }
 },
 "nbformat": 4,
 "nbformat_minor": 2,
 "cells": [
  {
   "source": [
    "### Sliding window pattern:\n",
    "<pre>\n",
    "<p>\n",
    "<b> Fixed Size window: </b>\n",
    "\n",
    "while j < len(arr or str): \n",
    "\n",
    "    perform calculations \n",
    "\n",
    "    if j-i+1 less than k: \n",
    "        j+=1 \n",
    "        \n",
    "    elif j-i+1==k: \n",
    "        1. get answer from calculations (remove i)\n",
    "        2. slide the window while maintaining the size\n",
    "\n",
    "return answer\n",
    "</p>\n",
    "</pre>\n",
    "\n",
    "<pre>\n",
    "<p>\n",
    "<b> Variable Size window: </b>\n",
    "\n",
    "while j < len(arr or str): \n",
    "\n",
    "    perform calculations \n",
    "\n",
    "    if condition less than k: \n",
    "        j+=1 \n",
    "\n",
    "    elif condition==k: \n",
    "        get answer from calculations \n",
    "        j++\n",
    "        \n",
    "    elif condition>k: \n",
    "        while condition>k:\n",
    "            remove calculations for i\n",
    "            i+=1\n",
    "        j+=1\n",
    "\n",
    "return answer\n",
    "</p>\n",
    "</pre>\n",
    "\n",
    "\n",
    "#### Note: All the codes below are working"
   ],
   "cell_type": "markdown",
   "metadata": {}
  },
  {
   "source": [
    "### Q. Maximum sum subarray of size k"
   ],
   "cell_type": "markdown",
   "metadata": {}
  },
  {
   "cell_type": "code",
   "execution_count": 4,
   "metadata": {},
   "outputs": [
    {
     "output_type": "stream",
     "name": "stdout",
     "text": [
      "600\n"
     ]
    }
   ],
   "source": [
    "def maxSumSubarrayOfSizeK(arr,k):\n",
    "    i = j = 0\n",
    "    maxSum = 0\n",
    "    total = 0\n",
    "    while j<len(arr):\n",
    "        #calculations\n",
    "        total+=arr[j]\n",
    "        if j-i+1<k:\n",
    "            j+=1\n",
    "        elif j-i+1==k:\n",
    "            #get answer\n",
    "            maxSum = max(total, maxSum)\n",
    "            #slide the window\n",
    "            total-=arr[i]\n",
    "            i+=1\n",
    "            j+=1\n",
    "        \n",
    "    return maxSum\n",
    "arr1 = [100,300,400,200,600]\n",
    "print(maxSumSubarrayOfSizeK(arr1,1))"
   ]
  },
  {
   "source": [
    "### Q. First negative number in every window of size k"
   ],
   "cell_type": "markdown",
   "metadata": {}
  },
  {
   "cell_type": "code",
   "execution_count": 5,
   "metadata": {},
   "outputs": [
    {
     "output_type": "stream",
     "name": "stdout",
     "text": [
      "[-1, -1, -7, -15, -15, 0]\n"
     ]
    }
   ],
   "source": [
    "import collections\n",
    "def firstNegNum(arr,k):\n",
    "    # brute force\n",
    "    '''\n",
    "    result = []\n",
    "    for i in range(len(arr)-k+1):\n",
    "        print(\"i=\", i)\n",
    "        for j in range(i, i+k):\n",
    "            print(\"j=\",j)\n",
    "            if arr[j]<0:\n",
    "                result.append(arr[j])\n",
    "                break\n",
    "        else:\n",
    "            result.append(0)\n",
    "    return result\n",
    "    '''\n",
    "\n",
    "    result = []\n",
    "    queue = collections.deque()\n",
    "    i = j = 0\n",
    "    while j<len(arr):\n",
    "        #calculations\n",
    "        if arr[j]<0:\n",
    "            queue.append(arr[j])\n",
    "        if j-i+1<k:\n",
    "            j+=1\n",
    "        elif j-i+1==k:\n",
    "            #collect result\n",
    "            if len(queue)==0:\n",
    "                result.append(0)\n",
    "            else:\n",
    "                result.append(queue[0])\n",
    "                #slide the window\n",
    "                if queue[0]==arr[i]:\n",
    "                    queue.popleft()\n",
    "            i+=1\n",
    "            j+=1\n",
    "    return result\n",
    "            \n",
    "    \n",
    "    \n",
    "print(firstNegNum([12,-1,-7,8,-15,30,16,28], 3))"
   ]
  },
  {
   "source": [
    "### Q. Count occurrences of Anagrams"
   ],
   "cell_type": "markdown",
   "metadata": {}
  },
  {
   "cell_type": "code",
   "execution_count": 6,
   "metadata": {},
   "outputs": [
    {
     "output_type": "stream",
     "name": "stdout",
     "text": [
      "3\n"
     ]
    }
   ],
   "source": [
    "\n",
    "def countOccurrencesofAnagrams(s, pat):\n",
    "    k = len(pat)\n",
    "    patternMap = collections.Counter(pat)\n",
    "    result =0\n",
    "    # when elem in patternmap are = 0 => that substring is anagram of pat. But checking each key for zero is tedious, so maintain a count for distinct keys. Whenever any key reaches val 0, decr the count. \n",
    "    # When the current elem goes out of the window, incr corresp key in patternmap and incr the count.\n",
    "    count = len(patternMap)\n",
    "    i = j = 0\n",
    "    while j<len(s):\n",
    "        # calculations\n",
    "        if s[j] in patternMap:\n",
    "            patternMap[s[j]]-=1\n",
    "            if patternMap[s[j]]==0:\n",
    "                count-=1\n",
    "        if j-i+1<k:\n",
    "            j+=1\n",
    "        elif j-i+1==k:\n",
    "            # collect answer\n",
    "            if count==0:\n",
    "                result+=1\n",
    "            # slide the window\n",
    "            if s[i] in patternMap:\n",
    "                patternMap[s[i]]+=1\n",
    "                if patternMap[s[i]]==1:\n",
    "                    count+=1\n",
    "            i+=1\n",
    "            j+=1\n",
    "    return result\n",
    "    \n",
    "print(countOccurrencesofAnagrams(\"fororfrdofr\",\"for\"))"
   ]
  },
  {
   "source": [
    "### Q. Sliding window maximum - maximum of all subarrays of size k"
   ],
   "cell_type": "markdown",
   "metadata": {}
  },
  {
   "cell_type": "code",
   "execution_count": 3,
   "metadata": {},
   "outputs": [
    {
     "output_type": "stream",
     "name": "stdout",
     "text": [
      "[3, 3, 5, 5, 6, 7]\n"
     ]
    }
   ],
   "source": [
    "import collections\n",
    "def maxSlidingWindow(nums, k):\n",
    "        '''\n",
    "        Brute Force\n",
    "\n",
    "        result = []\n",
    "        for i in range(len(arr)-k+1):\n",
    "            result.append(max(arr[i:i+k]))\n",
    "        return result\n",
    "        '''\n",
    "\n",
    "        # extra edge case where k is greater than len of array\n",
    "        if k>len(nums):\n",
    "            return [max(nums)]\n",
    "        i = j = 0\n",
    "        queue = collections.deque()\n",
    "        result = []\n",
    "        \n",
    "        while j<len(nums):\n",
    "            while queue and queue[-1]<nums[j]:\n",
    "                queue.pop()\n",
    "            queue.append(nums[j])\n",
    "            \n",
    "            if j-i+1<k:\n",
    "                j+=1\n",
    "            \n",
    "            elif j-i+1 == k:\n",
    "                result.append(queue[0])\n",
    "                if nums[i]==queue[0]:\n",
    "                    queue.popleft()\n",
    "                i+=1\n",
    "                j+=1\n",
    "        return result\n",
    "    \n",
    "print(maxSlidingWindow([1,3,-1,-3,5,3,6,7],3))"
   ]
  },
  {
   "source": [
    "### Q. Longest Subarray with sum=k"
   ],
   "cell_type": "markdown",
   "metadata": {}
  },
  {
   "cell_type": "code",
   "execution_count": null,
   "metadata": {},
   "outputs": [],
   "source": [
    "def longestSubarrayWithSumK(arr, k):\n",
    "    # works for positive input only.\n",
    "    i = j = 0\n",
    "    result = float('-inf')\n",
    "    total = 0\n",
    "    while j<len(arr):\n",
    "        # calculations -> keep adding value to total to make total==k\n",
    "        total+=arr[j]\n",
    "        if total<k:\n",
    "            j+=1\n",
    "        elif total==k:\n",
    "            result = max(result, j-i+1)\n",
    "            j+=1\n",
    "        else:\n",
    "            while total>k:\n",
    "                total-=arr[i]\n",
    "                i+=1\n",
    "            j+=1\n",
    "    return result\n",
    "\n",
    "\n",
    "def longestSubarrayWithSumKBF(arr,k):\n",
    "    # brute force = works for both positive and negative integers\n",
    "    maxLen = 0\n",
    "    for i in range(len(arr)):\n",
    "        total = arr[i]\n",
    "        print(\"total in i:\", total)\n",
    "        for j in range(i+1,len(arr)):\n",
    "            total+=arr[j]\n",
    "            print(\"total in j:\", total)\n",
    "            if total==k:\n",
    "                maxLen = max(maxLen, j-i+1)\n",
    "                print(\"maxLen:\", maxLen)\n",
    "                break\n",
    "    return maxLen\n",
    "\n",
    "print(longestSubarrayWithSumK([-5, 8, -14, 2, 4, 12],-5)) \n",
    "\n",
    "def largestSubarraySumEqK(arr, k):\n",
    "    # O(n) time and space\n",
    "    hashMap = {0:-1}\n",
    "    # j = 0\n",
    "    total = 0\n",
    "    maxLen = 0\n",
    "    for j in range(len(arr)):\n",
    "        total += arr[j]\n",
    "        if total-k in hashMap:\n",
    "            if j-hashMap[total-k]>maxLen:\n",
    "                maxLen = j-hashMap[total-k]\n",
    "                print(\"subarray:\", arr[hashMap[total-k]:j])\n",
    "            # maxLen = max(maxLen, j-hashMap[total-k])\n",
    "        hashMap[total] = j\n",
    "        \n",
    "    return maxLen\n",
    "\n",
    "print(largestSubarraySumEqK([10, 5, 2, 7, 1, 9],15))"
   ]
  }
 ]
}