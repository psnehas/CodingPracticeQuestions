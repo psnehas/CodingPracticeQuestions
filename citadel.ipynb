{
 "metadata": {
  "language_info": {
   "codemirror_mode": {
    "name": "ipython",
    "version": 3
   },
   "file_extension": ".py",
   "mimetype": "text/x-python",
   "name": "python",
   "nbconvert_exporter": "python",
   "pygments_lexer": "ipython3",
   "version": "3.7.6-final"
  },
  "orig_nbformat": 2,
  "kernelspec": {
   "name": "python_defaultSpec_1599105627435",
   "display_name": "Python 3.7.6 64-bit ('torch': conda)"
  }
 },
 "nbformat": 4,
 "nbformat_minor": 2,
 "cells": [
  {
   "cell_type": "markdown",
   "metadata": {},
   "source": [
    "https://leetcode.com/discuss/interview-question/731453/Citadel-SWE-Intern-OA-(Summer-2021)"
   ]
  },
  {
   "cell_type": "code",
   "execution_count": 3,
   "metadata": {},
   "outputs": [],
   "source": [
    "# Question 2: \n",
    "def findBeforeMatrix(after) :\n",
    "    R, C  = len(after), len(after[0])\n",
    "    before = [[0 for x in range(C)] \n",
    "            for y in range(R)] \n",
    "    before[0][0] = after[0][0]\n",
    "    \n",
    "    for c in range(1, C):\n",
    "        before[0][c] = after[0][c] - after[0][c-1]\n",
    "    for r in range(1,R):\n",
    "        before[r][0] = after[r][0] - after[r-1][0]\n",
    "    \n",
    "    for r in range(1, R):\n",
    "        for c in range(1,C):\n",
    "            sum_sol = helper(before,r,c)\n",
    "            before[r][c] = after[r][c] - sum_sol\n",
    "        \n",
    "    # displaying the values\n",
    "    # of the new array\n",
    "    for i in range(0, R) :\n",
    "        for j in range(0, C) :\n",
    "            print (before[i][j], \n",
    "                    end = \" \")\n",
    "        print ()\n",
    " \n",
    "def helper(matrix, row, col):\n",
    "    sum_ = 0\n",
    "    for r in range(row+1):\n",
    "        for c in range(col+1):\n",
    "            sum_+= matrix[r][c]\n",
    "    return sum_\n"
   ]
  },
  {
   "cell_type": "code",
   "execution_count": null,
   "metadata": {},
   "outputs": [],
   "source": [
    "# find after matrix.\n",
    "def prefixSum2D(a) : \n",
    "  R,C  = len(a), len(a[0])\n",
    "  psa = [[0 for x in range(C)]  \n",
    "            for y in range(R)]  \n",
    "  psa[0][0] = a[0][0] \n",
    "\n",
    "  # Filling first row  \n",
    "  # and first column \n",
    "  for i in range(1, C) : \n",
    "      psa[0][i] = (psa[0][i - 1] + \n",
    "                      a[0][i]) \n",
    "  for i in range(0, R) : \n",
    "      psa[i][0] = (psa[i - 1][0] + \n",
    "                      a[i][0]) \n",
    "\n",
    "  # updating the values in  \n",
    "  # the cells as per the  \n",
    "  # general formula \n",
    "  for i in range(1, R) : \n",
    "      for j in range(1, C) : \n",
    "\n",
    "          # values in the cells of  \n",
    "          # new array are updated \n",
    "          psa[i][j] = (psa[i - 1][j] + \n",
    "                        psa[i][j - 1] - \n",
    "                        psa[i - 1][j - 1] + \n",
    "                          a[i][j]) \n",
    "\n",
    "  # displaying the values \n",
    "  # of the new array \n",
    "  for i in range(0, R) : \n",
    "      for j in range(0, C) : \n",
    "          print (psa[i][j],  \n",
    "                  end = \" \") \n",
    "      print () \n",
    "  return psa"
   ]
  }
 ]
}